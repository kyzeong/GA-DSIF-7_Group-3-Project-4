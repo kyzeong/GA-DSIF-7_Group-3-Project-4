{
 "cells": [
  {
   "cell_type": "code",
   "execution_count": 1,
   "id": "1fea1040",
   "metadata": {},
   "outputs": [],
   "source": [
    "import pandas as pd\n",
    "import numpy as np\n",
    "import glob"
   ]
  },
  {
   "cell_type": "markdown",
   "id": "0e2a90e1",
   "metadata": {},
   "source": [
    "#### Data import and cleaning"
   ]
  },
  {
   "cell_type": "markdown",
   "id": "3c0b8aad",
   "metadata": {},
   "source": [
    "Data Source: https://outbreak.sgcharts.com/data"
   ]
  },
  {
   "cell_type": "code",
   "execution_count": 2,
   "id": "80399302",
   "metadata": {},
   "outputs": [
    {
     "name": "stdout",
     "output_type": "stream",
     "text": [
      "56976\n"
     ]
    },
    {
     "data": {
      "text/html": [
       "<div>\n",
       "<style scoped>\n",
       "    .dataframe tbody tr th:only-of-type {\n",
       "        vertical-align: middle;\n",
       "    }\n",
       "\n",
       "    .dataframe tbody tr th {\n",
       "        vertical-align: top;\n",
       "    }\n",
       "\n",
       "    .dataframe thead th {\n",
       "        text-align: right;\n",
       "    }\n",
       "</style>\n",
       "<table border=\"1\" class=\"dataframe\">\n",
       "  <thead>\n",
       "    <tr style=\"text-align: right;\">\n",
       "      <th></th>\n",
       "      <th>0</th>\n",
       "      <th>1</th>\n",
       "      <th>2</th>\n",
       "      <th>3</th>\n",
       "      <th>4</th>\n",
       "      <th>5</th>\n",
       "      <th>6</th>\n",
       "      <th>7</th>\n",
       "      <th>8</th>\n",
       "    </tr>\n",
       "  </thead>\n",
       "  <tbody>\n",
       "    <tr>\n",
       "      <th>0</th>\n",
       "      <td>4</td>\n",
       "      <td>bishan street 22 (block 232)</td>\n",
       "      <td>1.358286</td>\n",
       "      <td>103.845226</td>\n",
       "      <td>1</td>\n",
       "      <td>24</td>\n",
       "      <td>83</td>\n",
       "      <td>150703</td>\n",
       "      <td>7</td>\n",
       "    </tr>\n",
       "    <tr>\n",
       "      <th>1</th>\n",
       "      <td>7</td>\n",
       "      <td>bishan street 22 (block 233)</td>\n",
       "      <td>1.358639</td>\n",
       "      <td>103.845259</td>\n",
       "      <td>1</td>\n",
       "      <td>24</td>\n",
       "      <td>83</td>\n",
       "      <td>150703</td>\n",
       "      <td>7</td>\n",
       "    </tr>\n",
       "    <tr>\n",
       "      <th>2</th>\n",
       "      <td>3</td>\n",
       "      <td>bishan street 22 (block 234)</td>\n",
       "      <td>1.358390</td>\n",
       "      <td>103.845955</td>\n",
       "      <td>1</td>\n",
       "      <td>24</td>\n",
       "      <td>83</td>\n",
       "      <td>150703</td>\n",
       "      <td>7</td>\n",
       "    </tr>\n",
       "    <tr>\n",
       "      <th>3</th>\n",
       "      <td>1</td>\n",
       "      <td>bishan street 22 (block 235)</td>\n",
       "      <td>1.358719</td>\n",
       "      <td>103.846477</td>\n",
       "      <td>1</td>\n",
       "      <td>24</td>\n",
       "      <td>83</td>\n",
       "      <td>150703</td>\n",
       "      <td>7</td>\n",
       "    </tr>\n",
       "    <tr>\n",
       "      <th>4</th>\n",
       "      <td>4</td>\n",
       "      <td>bishan street 22 (block 236)</td>\n",
       "      <td>1.359041</td>\n",
       "      <td>103.846849</td>\n",
       "      <td>1</td>\n",
       "      <td>24</td>\n",
       "      <td>83</td>\n",
       "      <td>150703</td>\n",
       "      <td>7</td>\n",
       "    </tr>\n",
       "  </tbody>\n",
       "</table>\n",
       "</div>"
      ],
      "text/plain": [
       "   0                             1         2           3  4   5   6       7  8\n",
       "0  4  bishan street 22 (block 232)  1.358286  103.845226  1  24  83  150703  7\n",
       "1  7  bishan street 22 (block 233)  1.358639  103.845259  1  24  83  150703  7\n",
       "2  3  bishan street 22 (block 234)  1.358390  103.845955  1  24  83  150703  7\n",
       "3  1  bishan street 22 (block 235)  1.358719  103.846477  1  24  83  150703  7\n",
       "4  4  bishan street 22 (block 236)  1.359041  103.846849  1  24  83  150703  7"
      ]
     },
     "execution_count": 2,
     "metadata": {},
     "output_type": "execute_result"
    }
   ],
   "source": [
    "cases_df = pd.DataFrame()\n",
    "shape = 0\n",
    "for file in glob.glob('../Data/sgcharts/csv/*'):\n",
    "    df = pd.read_csv(file,header = None)\n",
    "    shape += df.shape[0]\n",
    "    cases_df = cases_df.append(df)\n",
    "\n",
    "print(shape)\n",
    "cases_df.head()"
   ]
  },
  {
   "cell_type": "code",
   "execution_count": 25,
   "id": "68398def",
   "metadata": {},
   "outputs": [
    {
     "name": "stdout",
     "output_type": "stream",
     "text": [
      "16977\n"
     ]
    },
    {
     "data": {
      "text/html": [
       "<div>\n",
       "<style scoped>\n",
       "    .dataframe tbody tr th:only-of-type {\n",
       "        vertical-align: middle;\n",
       "    }\n",
       "\n",
       "    .dataframe tbody tr th {\n",
       "        vertical-align: top;\n",
       "    }\n",
       "\n",
       "    .dataframe thead th {\n",
       "        text-align: right;\n",
       "    }\n",
       "</style>\n",
       "<table border=\"1\" class=\"dataframe\">\n",
       "  <thead>\n",
       "    <tr style=\"text-align: right;\">\n",
       "      <th></th>\n",
       "      <th>0</th>\n",
       "      <th>1</th>\n",
       "      <th>2</th>\n",
       "      <th>3</th>\n",
       "      <th>4</th>\n",
       "      <th>5</th>\n",
       "      <th>6</th>\n",
       "      <th>7</th>\n",
       "      <th>8</th>\n",
       "    </tr>\n",
       "  </thead>\n",
       "  <tbody>\n",
       "    <tr>\n",
       "      <th>0</th>\n",
       "      <td>1</td>\n",
       "      <td>tampines avenue 5 (block 858)</td>\n",
       "      <td>1.354336</td>\n",
       "      <td>103.937941</td>\n",
       "      <td>1</td>\n",
       "      <td>-1</td>\n",
       "      <td>119</td>\n",
       "      <td>130523</td>\n",
       "      <td>5</td>\n",
       "    </tr>\n",
       "    <tr>\n",
       "      <th>1</th>\n",
       "      <td>4</td>\n",
       "      <td>tampines avenue 5 (block 860)</td>\n",
       "      <td>1.355432</td>\n",
       "      <td>103.937808</td>\n",
       "      <td>1</td>\n",
       "      <td>-1</td>\n",
       "      <td>119</td>\n",
       "      <td>130523</td>\n",
       "      <td>5</td>\n",
       "    </tr>\n",
       "    <tr>\n",
       "      <th>2</th>\n",
       "      <td>1</td>\n",
       "      <td>tampines avenue 5 (block 860b)</td>\n",
       "      <td>1.355421</td>\n",
       "      <td>103.937119</td>\n",
       "      <td>1</td>\n",
       "      <td>-1</td>\n",
       "      <td>119</td>\n",
       "      <td>130523</td>\n",
       "      <td>5</td>\n",
       "    </tr>\n",
       "    <tr>\n",
       "      <th>3</th>\n",
       "      <td>5</td>\n",
       "      <td>tampines avenue 5 (block 861)</td>\n",
       "      <td>1.355118</td>\n",
       "      <td>103.937242</td>\n",
       "      <td>1</td>\n",
       "      <td>-1</td>\n",
       "      <td>119</td>\n",
       "      <td>130523</td>\n",
       "      <td>5</td>\n",
       "    </tr>\n",
       "    <tr>\n",
       "      <th>4</th>\n",
       "      <td>1</td>\n",
       "      <td>tampines avenue 5 (block 861a)</td>\n",
       "      <td>1.354666</td>\n",
       "      <td>103.937225</td>\n",
       "      <td>1</td>\n",
       "      <td>-1</td>\n",
       "      <td>119</td>\n",
       "      <td>130523</td>\n",
       "      <td>5</td>\n",
       "    </tr>\n",
       "  </tbody>\n",
       "</table>\n",
       "</div>"
      ],
      "text/plain": [
       "   0                               1         2           3  4  5    6       7  \\\n",
       "0  1   tampines avenue 5 (block 858)  1.354336  103.937941  1 -1  119  130523   \n",
       "1  4   tampines avenue 5 (block 860)  1.355432  103.937808  1 -1  119  130523   \n",
       "2  1  tampines avenue 5 (block 860b)  1.355421  103.937119  1 -1  119  130523   \n",
       "3  5   tampines avenue 5 (block 861)  1.355118  103.937242  1 -1  119  130523   \n",
       "4  1  tampines avenue 5 (block 861a)  1.354666  103.937225  1 -1  119  130523   \n",
       "\n",
       "   8  \n",
       "0  5  \n",
       "1  5  \n",
       "2  5  \n",
       "3  5  \n",
       "4  5  "
      ]
     },
     "execution_count": 25,
     "metadata": {},
     "output_type": "execute_result"
    }
   ],
   "source": [
    "cases_df2 = pd.DataFrame()\n",
    "shape = 0\n",
    "for file in glob.glob('../Data/sgcharts/incorrect_latitude_longitude/*.csv'):\n",
    "    df = pd.read_csv(file,header = None)\n",
    "    shape += df.shape[0]\n",
    "    cases_df2 = cases_df2.append(df)\n",
    "\n",
    "print(shape)\n",
    "cases_df2.head()"
   ]
  },
  {
   "cell_type": "code",
   "execution_count": 3,
   "id": "cce5ff9a",
   "metadata": {},
   "outputs": [
    {
     "data": {
      "text/plain": [
       "(56976, 9)"
      ]
     },
     "execution_count": 3,
     "metadata": {},
     "output_type": "execute_result"
    }
   ],
   "source": [
    "cases_df.shape"
   ]
  },
  {
   "cell_type": "code",
   "execution_count": 4,
   "id": "ef2c0d8a",
   "metadata": {},
   "outputs": [],
   "source": [
    "cases_df.columns = ['no_of_cases','address','latitude','longitude','cluster_no','recent_cases','total_cases','date','month']"
   ]
  },
  {
   "cell_type": "code",
   "execution_count": 5,
   "id": "990a0523",
   "metadata": {},
   "outputs": [],
   "source": [
    "cases_df.reset_index(drop = True, inplace = True)"
   ]
  },
  {
   "cell_type": "code",
   "execution_count": 6,
   "id": "df7e36df",
   "metadata": {},
   "outputs": [
    {
     "data": {
      "text/html": [
       "<div>\n",
       "<style scoped>\n",
       "    .dataframe tbody tr th:only-of-type {\n",
       "        vertical-align: middle;\n",
       "    }\n",
       "\n",
       "    .dataframe tbody tr th {\n",
       "        vertical-align: top;\n",
       "    }\n",
       "\n",
       "    .dataframe thead th {\n",
       "        text-align: right;\n",
       "    }\n",
       "</style>\n",
       "<table border=\"1\" class=\"dataframe\">\n",
       "  <thead>\n",
       "    <tr style=\"text-align: right;\">\n",
       "      <th></th>\n",
       "      <th>no_of_cases</th>\n",
       "      <th>address</th>\n",
       "      <th>latitude</th>\n",
       "      <th>longitude</th>\n",
       "      <th>cluster_no</th>\n",
       "      <th>recent_cases</th>\n",
       "      <th>total_cases</th>\n",
       "      <th>date</th>\n",
       "      <th>month</th>\n",
       "    </tr>\n",
       "  </thead>\n",
       "  <tbody>\n",
       "    <tr>\n",
       "      <th>56971</th>\n",
       "      <td>1</td>\n",
       "      <td>tampines street 71 (block 715)</td>\n",
       "      <td>1.359660</td>\n",
       "      <td>103.937074</td>\n",
       "      <td>131</td>\n",
       "      <td>2</td>\n",
       "      <td>2</td>\n",
       "      <td>201106</td>\n",
       "      <td>11</td>\n",
       "    </tr>\n",
       "    <tr>\n",
       "      <th>56972</th>\n",
       "      <td>1</td>\n",
       "      <td>tampines street 71 (block 716)</td>\n",
       "      <td>1.359482</td>\n",
       "      <td>103.936586</td>\n",
       "      <td>131</td>\n",
       "      <td>2</td>\n",
       "      <td>2</td>\n",
       "      <td>201106</td>\n",
       "      <td>11</td>\n",
       "    </tr>\n",
       "    <tr>\n",
       "      <th>56973</th>\n",
       "      <td>1</td>\n",
       "      <td>tampines street 82 (block 842b)</td>\n",
       "      <td>1.351145</td>\n",
       "      <td>103.936991</td>\n",
       "      <td>132</td>\n",
       "      <td>2</td>\n",
       "      <td>2</td>\n",
       "      <td>201106</td>\n",
       "      <td>11</td>\n",
       "    </tr>\n",
       "    <tr>\n",
       "      <th>56974</th>\n",
       "      <td>1</td>\n",
       "      <td>tampines street 82 (block 842e)</td>\n",
       "      <td>1.351754</td>\n",
       "      <td>103.938303</td>\n",
       "      <td>132</td>\n",
       "      <td>2</td>\n",
       "      <td>2</td>\n",
       "      <td>201106</td>\n",
       "      <td>11</td>\n",
       "    </tr>\n",
       "    <tr>\n",
       "      <th>56975</th>\n",
       "      <td>2</td>\n",
       "      <td>teo kim eng road</td>\n",
       "      <td>1.328131</td>\n",
       "      <td>103.908562</td>\n",
       "      <td>133</td>\n",
       "      <td>2</td>\n",
       "      <td>2</td>\n",
       "      <td>201106</td>\n",
       "      <td>11</td>\n",
       "    </tr>\n",
       "  </tbody>\n",
       "</table>\n",
       "</div>"
      ],
      "text/plain": [
       "       no_of_cases                          address  latitude   longitude  \\\n",
       "56971            1   tampines street 71 (block 715)  1.359660  103.937074   \n",
       "56972            1   tampines street 71 (block 716)  1.359482  103.936586   \n",
       "56973            1  tampines street 82 (block 842b)  1.351145  103.936991   \n",
       "56974            1  tampines street 82 (block 842e)  1.351754  103.938303   \n",
       "56975            2                 teo kim eng road  1.328131  103.908562   \n",
       "\n",
       "       cluster_no  recent_cases  total_cases    date  month  \n",
       "56971         131             2            2  201106     11  \n",
       "56972         131             2            2  201106     11  \n",
       "56973         132             2            2  201106     11  \n",
       "56974         132             2            2  201106     11  \n",
       "56975         133             2            2  201106     11  "
      ]
     },
     "execution_count": 6,
     "metadata": {},
     "output_type": "execute_result"
    }
   ],
   "source": [
    "cases_df.tail()"
   ]
  },
  {
   "cell_type": "code",
   "execution_count": 7,
   "id": "e6852783",
   "metadata": {},
   "outputs": [],
   "source": [
    "cases_df['date'] = pd.to_datetime(cases_df['date'], format='%y%m%d')"
   ]
  },
  {
   "cell_type": "code",
   "execution_count": 8,
   "id": "0d2dd9af",
   "metadata": {},
   "outputs": [
    {
     "data": {
      "text/plain": [
       "2     12617\n",
       "3      8018\n",
       "1      6675\n",
       "4      5716\n",
       "5      3927\n",
       "6      2946\n",
       "7      2377\n",
       "8      2140\n",
       "9      1806\n",
       "10     1486\n",
       "11     1250\n",
       "12     1044\n",
       "13      844\n",
       "14      590\n",
       "17      519\n",
       "16      488\n",
       "15      426\n",
       "24      389\n",
       "21      352\n",
       "18      345\n",
       "22      316\n",
       "20      291\n",
       "19      274\n",
       "25      221\n",
       "26      206\n",
       "28      187\n",
       "35      178\n",
       "33      156\n",
       "27      135\n",
       "39      114\n",
       "30      109\n",
       "34      100\n",
       "31       97\n",
       "38       84\n",
       "29       78\n",
       "40       77\n",
       "37       77\n",
       "23       73\n",
       "32       48\n",
       "42       39\n",
       "92       35\n",
       "61       33\n",
       "47       30\n",
       "55       29\n",
       "43       21\n",
       "36        7\n",
       "41        6\n",
       "Name: recent_cases, dtype: int64"
      ]
     },
     "execution_count": 8,
     "metadata": {},
     "output_type": "execute_result"
    }
   ],
   "source": [
    "cases_df['recent_cases'].value_counts()"
   ]
  },
  {
   "cell_type": "code",
   "execution_count": 9,
   "id": "1071ff9b",
   "metadata": {},
   "outputs": [],
   "source": [
    "# pip install geopy"
   ]
  },
  {
   "cell_type": "code",
   "execution_count": 10,
   "id": "020205ef",
   "metadata": {},
   "outputs": [
    {
     "data": {
      "text/plain": [
       "(9777, 3)"
      ]
     },
     "execution_count": 10,
     "metadata": {},
     "output_type": "execute_result"
    }
   ],
   "source": [
    "# Remove duplicates so that the reverse geocoding runs faster\n",
    "coords_to_map = cases_df.drop_duplicates(['address'])[['address','latitude','longitude']]\n",
    "coords_to_map.shape"
   ]
  },
  {
   "cell_type": "code",
   "execution_count": 147,
   "id": "0b0ec1b7",
   "metadata": {},
   "outputs": [
    {
     "name": "stderr",
     "output_type": "stream",
     "text": [
      "WARNING:urllib3.connectionpool:Retrying (Retry(total=1, connect=None, read=None, redirect=None, status=None)) after connection broken by 'ReadTimeoutError(\"HTTPSConnectionPool(host='nominatim.openstreetmap.org', port=443): Read timed out. (read timeout=1)\")': /reverse?lat=1.336698&lon=103.698435&format=json&addressdetails=1\n",
      "WARNING:urllib3.connectionpool:Retrying (Retry(total=0, connect=None, read=None, redirect=None, status=None)) after connection broken by 'ReadTimeoutError(\"HTTPSConnectionPool(host='nominatim.openstreetmap.org', port=443): Read timed out. (read timeout=1)\")': /reverse?lat=1.336698&lon=103.698435&format=json&addressdetails=1\n",
      "WARNING:urllib3.connectionpool:Retrying (Retry(total=1, connect=None, read=None, redirect=None, status=None)) after connection broken by 'ReadTimeoutError(\"HTTPSConnectionPool(host='nominatim.openstreetmap.org', port=443): Read timed out. (read timeout=1)\")': /reverse?lat=1.381013&lon=103.73757&format=json&addressdetails=1\n",
      "WARNING:urllib3.connectionpool:Retrying (Retry(total=1, connect=None, read=None, redirect=None, status=None)) after connection broken by 'ReadTimeoutError(\"HTTPSConnectionPool(host='nominatim.openstreetmap.org', port=443): Read timed out. (read timeout=1)\")': /reverse?lat=1.3408276&lon=103.6947894&format=json&addressdetails=1\n",
      "WARNING:urllib3.connectionpool:Retrying (Retry(total=1, connect=None, read=None, redirect=None, status=None)) after connection broken by 'ReadTimeoutError(\"HTTPSConnectionPool(host='nominatim.openstreetmap.org', port=443): Read timed out. (read timeout=1)\")': /reverse?lat=1.354102&lon=103.871174&format=json&addressdetails=1\n",
      "WARNING:urllib3.connectionpool:Retrying (Retry(total=0, connect=None, read=None, redirect=None, status=None)) after connection broken by 'ReadTimeoutError(\"HTTPSConnectionPool(host='nominatim.openstreetmap.org', port=443): Read timed out. (read timeout=1)\")': /reverse?lat=1.354102&lon=103.871174&format=json&addressdetails=1\n"
     ]
    }
   ],
   "source": [
    "import geopy\n",
    "\n",
    "def get_zipcode(df, geolocator, lat_field, lon_field):\n",
    "    try:\n",
    "        location = geolocator.reverse((df[lat_field], df[lon_field]))\n",
    "        return location.raw['address']['postcode']\n",
    "    except: \n",
    "        return 0\n",
    "\n",
    "def get_suburb(df, geolocator, lat_field, lon_field):\n",
    "    try:\n",
    "        location = geolocator.reverse((df[lat_field], df[lon_field]))\n",
    "        return location.raw['address']['suburb']\n",
    "    except: \n",
    "        return \"-\"\n",
    "\n",
    "\n",
    "geolocator = geopy.Nominatim(user_agent='1234')\n",
    "\n",
    "coords_to_map['postal_code'] = coords_to_map.apply(get_zipcode, axis=1, geolocator=geolocator, lat_field='latitude', lon_field='longitude')\n",
    "coords_to_map['suburb'] = coords_to_map.apply(get_suburb, axis=1, geolocator=geolocator, lat_field='latitude', lon_field='longitude')"
   ]
  },
  {
   "cell_type": "code",
   "execution_count": 152,
   "id": "b0fd3d37",
   "metadata": {},
   "outputs": [
    {
     "data": {
      "text/html": [
       "<div>\n",
       "<style scoped>\n",
       "    .dataframe tbody tr th:only-of-type {\n",
       "        vertical-align: middle;\n",
       "    }\n",
       "\n",
       "    .dataframe tbody tr th {\n",
       "        vertical-align: top;\n",
       "    }\n",
       "\n",
       "    .dataframe thead th {\n",
       "        text-align: right;\n",
       "    }\n",
       "</style>\n",
       "<table border=\"1\" class=\"dataframe\">\n",
       "  <thead>\n",
       "    <tr style=\"text-align: right;\">\n",
       "      <th></th>\n",
       "      <th>address</th>\n",
       "      <th>latitude</th>\n",
       "      <th>longitude</th>\n",
       "      <th>postal_code</th>\n",
       "      <th>suburb</th>\n",
       "    </tr>\n",
       "  </thead>\n",
       "  <tbody>\n",
       "    <tr>\n",
       "      <th>0</th>\n",
       "      <td>bishan street 22 (block 232)</td>\n",
       "      <td>1.358286</td>\n",
       "      <td>103.845226</td>\n",
       "      <td>570282</td>\n",
       "      <td>Bishan</td>\n",
       "    </tr>\n",
       "    <tr>\n",
       "      <th>1</th>\n",
       "      <td>bishan street 22 (block 233)</td>\n",
       "      <td>1.358639</td>\n",
       "      <td>103.845259</td>\n",
       "      <td>570233</td>\n",
       "      <td>Bishan</td>\n",
       "    </tr>\n",
       "    <tr>\n",
       "      <th>2</th>\n",
       "      <td>bishan street 22 (block 234)</td>\n",
       "      <td>1.358390</td>\n",
       "      <td>103.845955</td>\n",
       "      <td>570233</td>\n",
       "      <td>Bishan</td>\n",
       "    </tr>\n",
       "    <tr>\n",
       "      <th>3</th>\n",
       "      <td>bishan street 22 (block 235)</td>\n",
       "      <td>1.358719</td>\n",
       "      <td>103.846477</td>\n",
       "      <td>570227</td>\n",
       "      <td>Bishan</td>\n",
       "    </tr>\n",
       "    <tr>\n",
       "      <th>4</th>\n",
       "      <td>bishan street 22 (block 236)</td>\n",
       "      <td>1.359041</td>\n",
       "      <td>103.846849</td>\n",
       "      <td>570227</td>\n",
       "      <td>Bishan</td>\n",
       "    </tr>\n",
       "    <tr>\n",
       "      <th>...</th>\n",
       "      <td>...</td>\n",
       "      <td>...</td>\n",
       "      <td>...</td>\n",
       "      <td>...</td>\n",
       "      <td>...</td>\n",
       "    </tr>\n",
       "    <tr>\n",
       "      <th>56964</th>\n",
       "      <td>simei street 4 (block 234)</td>\n",
       "      <td>1.343434</td>\n",
       "      <td>103.955341</td>\n",
       "      <td>520234</td>\n",
       "      <td>Tampines</td>\n",
       "    </tr>\n",
       "    <tr>\n",
       "      <th>56968</th>\n",
       "      <td>stirling road (block 169)</td>\n",
       "      <td>1.290476</td>\n",
       "      <td>103.803114</td>\n",
       "      <td>140169</td>\n",
       "      <td>-</td>\n",
       "    </tr>\n",
       "    <tr>\n",
       "      <th>56969</th>\n",
       "      <td>tampines street 45 (block 492d)</td>\n",
       "      <td>1.363751</td>\n",
       "      <td>103.953811</td>\n",
       "      <td>523492</td>\n",
       "      <td>Tampines</td>\n",
       "    </tr>\n",
       "    <tr>\n",
       "      <th>56970</th>\n",
       "      <td>tampines street 45 (block 494j)</td>\n",
       "      <td>1.364231</td>\n",
       "      <td>103.954394</td>\n",
       "      <td>529494</td>\n",
       "      <td>Tampines</td>\n",
       "    </tr>\n",
       "    <tr>\n",
       "      <th>56972</th>\n",
       "      <td>tampines street 71 (block 716)</td>\n",
       "      <td>1.359482</td>\n",
       "      <td>103.936586</td>\n",
       "      <td>520716</td>\n",
       "      <td>Tampines</td>\n",
       "    </tr>\n",
       "  </tbody>\n",
       "</table>\n",
       "<p>9777 rows × 5 columns</p>\n",
       "</div>"
      ],
      "text/plain": [
       "                               address  latitude   longitude postal_code  \\\n",
       "0         bishan street 22 (block 232)  1.358286  103.845226      570282   \n",
       "1         bishan street 22 (block 233)  1.358639  103.845259      570233   \n",
       "2         bishan street 22 (block 234)  1.358390  103.845955      570233   \n",
       "3         bishan street 22 (block 235)  1.358719  103.846477      570227   \n",
       "4         bishan street 22 (block 236)  1.359041  103.846849      570227   \n",
       "...                                ...       ...         ...         ...   \n",
       "56964       simei street 4 (block 234)  1.343434  103.955341      520234   \n",
       "56968        stirling road (block 169)  1.290476  103.803114      140169   \n",
       "56969  tampines street 45 (block 492d)  1.363751  103.953811      523492   \n",
       "56970  tampines street 45 (block 494j)  1.364231  103.954394      529494   \n",
       "56972   tampines street 71 (block 716)  1.359482  103.936586      520716   \n",
       "\n",
       "         suburb  \n",
       "0        Bishan  \n",
       "1        Bishan  \n",
       "2        Bishan  \n",
       "3        Bishan  \n",
       "4        Bishan  \n",
       "...         ...  \n",
       "56964  Tampines  \n",
       "56968         -  \n",
       "56969  Tampines  \n",
       "56970  Tampines  \n",
       "56972  Tampines  \n",
       "\n",
       "[9777 rows x 5 columns]"
      ]
     },
     "execution_count": 152,
     "metadata": {},
     "output_type": "execute_result"
    }
   ],
   "source": [
    "coords_to_map"
   ]
  },
  {
   "cell_type": "code",
   "execution_count": 282,
   "id": "bb8dbe18",
   "metadata": {},
   "outputs": [],
   "source": [
    "cases_df2 = cases_df.merge(coords_to_map[['address','postal_code','suburb']], how = 'left', on = 'address')"
   ]
  },
  {
   "cell_type": "markdown",
   "id": "f3f959b6",
   "metadata": {},
   "source": [
    "Map the remaining postal codes to their respective area if the reverse geocoder did not manage to return an area\n",
    "([*source*](https://www.ura.gov.sg/realEstateIIWeb/resources/misc/list_of_postal_districts.htm))"
   ]
  },
  {
   "cell_type": "code",
   "execution_count": 288,
   "id": "b7b8c5a7",
   "metadata": {},
   "outputs": [],
   "source": [
    "mapping = pd.read_csv('../Data/postal_mapping.csv')"
   ]
  },
  {
   "cell_type": "code",
   "execution_count": 289,
   "id": "18725736",
   "metadata": {},
   "outputs": [
    {
     "data": {
      "text/html": [
       "<div>\n",
       "<style scoped>\n",
       "    .dataframe tbody tr th:only-of-type {\n",
       "        vertical-align: middle;\n",
       "    }\n",
       "\n",
       "    .dataframe tbody tr th {\n",
       "        vertical-align: top;\n",
       "    }\n",
       "\n",
       "    .dataframe thead th {\n",
       "        text-align: right;\n",
       "    }\n",
       "</style>\n",
       "<table border=\"1\" class=\"dataframe\">\n",
       "  <thead>\n",
       "    <tr style=\"text-align: right;\">\n",
       "      <th></th>\n",
       "      <th>Postal District</th>\n",
       "      <th>Postal Sector</th>\n",
       "      <th>General Location</th>\n",
       "    </tr>\n",
       "  </thead>\n",
       "  <tbody>\n",
       "    <tr>\n",
       "      <th>0</th>\n",
       "      <td>1</td>\n",
       "      <td>01, 02, 03, 04, 05, 06</td>\n",
       "      <td>Raffles Place, Cecil, Marina, People's Park</td>\n",
       "    </tr>\n",
       "    <tr>\n",
       "      <th>1</th>\n",
       "      <td>2</td>\n",
       "      <td>07, 08</td>\n",
       "      <td>Anson, Tanjong Pagar</td>\n",
       "    </tr>\n",
       "    <tr>\n",
       "      <th>2</th>\n",
       "      <td>3</td>\n",
       "      <td>14,15, 16</td>\n",
       "      <td>Queenstown, Tiong Bahru</td>\n",
       "    </tr>\n",
       "    <tr>\n",
       "      <th>3</th>\n",
       "      <td>4</td>\n",
       "      <td>09, 10</td>\n",
       "      <td>Telok Blangah, Harbourfront</td>\n",
       "    </tr>\n",
       "    <tr>\n",
       "      <th>4</th>\n",
       "      <td>5</td>\n",
       "      <td>11, 12, 13</td>\n",
       "      <td>Pasir Panjang, Hong Leong Garden, Clementi New...</td>\n",
       "    </tr>\n",
       "  </tbody>\n",
       "</table>\n",
       "</div>"
      ],
      "text/plain": [
       "   Postal District           Postal Sector  \\\n",
       "0                1  01, 02, 03, 04, 05, 06   \n",
       "1                2                  07, 08   \n",
       "2                3               14,15, 16   \n",
       "3                4                  09, 10   \n",
       "4                5              11, 12, 13   \n",
       "\n",
       "                                    General Location  \n",
       "0        Raffles Place, Cecil, Marina, People's Park  \n",
       "1                               Anson, Tanjong Pagar  \n",
       "2                            Queenstown, Tiong Bahru  \n",
       "3                        Telok Blangah, Harbourfront  \n",
       "4  Pasir Panjang, Hong Leong Garden, Clementi New...  "
      ]
     },
     "execution_count": 289,
     "metadata": {},
     "output_type": "execute_result"
    }
   ],
   "source": [
    "mapping.head()"
   ]
  },
  {
   "cell_type": "code",
   "execution_count": 283,
   "id": "b5e57730",
   "metadata": {},
   "outputs": [],
   "source": [
    "def mapping_postal(row):\n",
    "    if row['suburb'] == \"-\":\n",
    "        postal = row['postal_code'][:2]\n",
    "        return mapping.loc[mapping['Postal Sector'].str.contains(postal),'General Location'].reset_index()['General Location'][0]\n",
    "    else:\n",
    "        return row['suburb']"
   ]
  },
  {
   "cell_type": "code",
   "execution_count": 284,
   "id": "401d141d",
   "metadata": {},
   "outputs": [],
   "source": [
    "cases_df2['suburb'] = cases_df2.apply(mapping_postal,axis=1)"
   ]
  },
  {
   "cell_type": "code",
   "execution_count": 287,
   "id": "4d76242c",
   "metadata": {},
   "outputs": [],
   "source": [
    "# Save a WIP ver just in case, as the reverse geocoding takes hours to run\n",
    "cases_df2.to_csv('../Data/dengue_cases_region_wip.csv', index = False)"
   ]
  },
  {
   "cell_type": "code",
   "execution_count": 11,
   "id": "2f96fc1d",
   "metadata": {},
   "outputs": [],
   "source": [
    "# Open the WIP ver to skip the above steps\n",
    "cases_df2 = pd.read_csv('../Data/dengue_cases_region_wip.csv')"
   ]
  },
  {
   "cell_type": "code",
   "execution_count": 12,
   "id": "4d301851",
   "metadata": {},
   "outputs": [
    {
     "data": {
      "text/plain": [
       "array(['Bishan', 'Yishun', 'Geylang', 'Sembawang', 'Tampines', 'Simei',\n",
       "       'Changi', 'Bedok', 'Jurong West', 'Ulu Pandan', 'Holland Village',\n",
       "       'Jurong East', 'Serangoon', 'Woodlands', 'Bukit Timah',\n",
       "       'Choa Chu Kang', 'Seng Kang', 'Hougang', 'Bukit Merah', 'Punggol',\n",
       "       'Tanglin', 'Queenstown, Tiong Bahru', 'Pasir Ris', 'Ang Mo Kio',\n",
       "       'Bukit Batok', 'Rochor', 'Toa Payoh', 'Marine Parade', 'Jurong',\n",
       "       'Serangoon North', 'Clementi', 'Kallang', 'Joo Seng',\n",
       "       'Pasir Panjang, Hong Leong Garden, Clementi New Town',\n",
       "       'Bukit Panjang', 'Downtown Core', 'Novena', 'Serangoon Gardens',\n",
       "       'Upper Bukit Timah, Clementi Park, Ulu Pandan', 'Hillview',\n",
       "       'Tai Seng', 'Mandai', 'Changi Business Park', 'Kaki Bukit',\n",
       "       'one-north', 'Kallang Way', 'Sungei Kadut', 'Singapore River',\n",
       "       'Outram', 'Potong Pasir', 'Western Islands', 'Paya Lebar',\n",
       "       'Newton', 'Pasir Panjang', 'Tuas', 'Western Water Catchment',\n",
       "       'Central Water Catchment', 'Seletar', 'Katong', 'Pioneer',\n",
       "       'Orchard', 'River Valley', 'Alexandra', 'Museum', 'Queenstown'],\n",
       "      dtype=object)"
      ]
     },
     "execution_count": 12,
     "metadata": {},
     "output_type": "execute_result"
    }
   ],
   "source": [
    "cases_region = cases_df2['suburb'].unique()\n",
    "cases_region"
   ]
  },
  {
   "cell_type": "code",
   "execution_count": 13,
   "id": "4184bf90",
   "metadata": {},
   "outputs": [
    {
     "data": {
      "text/plain": [
       "array(['Admiralty', 'Admiralty West', 'Ang Mo Kio', 'Boon Lay (East)',\n",
       "       'Boon Lay (West)', 'Botanic Garden', 'Buangkok', 'Bukit Panjang',\n",
       "       'Bukit Timah', 'Buona Vista', 'Chai Chee', 'Changi',\n",
       "       'Choa Chu Kang (Central)', 'Choa Chu Kang (South)',\n",
       "       'Choa Chu Kang (West)', 'Clementi', 'Dhoby Ghaut',\n",
       "       'East Coast Parkway', 'Jurong (East)', 'Jurong (North)',\n",
       "       'Jurong (West)', 'Jurong Island', 'Jurong Pier', 'Kampong Bahru',\n",
       "       'Kent Ridge', 'Khatib', 'Kranji Reservoir', 'Lim Chu Kang',\n",
       "       'Lower Peirce Reservoir', 'Macritchie Reservoir', 'Mandai',\n",
       "       'Marina Barrage', 'Marine Parade', 'Newton', 'Nicoll Highway',\n",
       "       'Pasir Panjang', 'Pasir Ris (Central)', 'Pasir Ris (West)',\n",
       "       'Paya Lebar', 'Pulau Ubin', 'Punggol', 'Queenstown', 'Seletar',\n",
       "       'Semakau Island', 'Sembawang', 'Sentosa Island', 'Serangoon',\n",
       "       'Serangoon North', 'Simei', 'Somerset (Road)', 'Tai Seng',\n",
       "       'Tanjong Katong', 'Tanjong Pagar', 'Tengah', 'Toa Payoh', 'Tuas',\n",
       "       'Tuas South', 'Tuas West', 'Ulu Pandan', 'Upper Peirce Reservoir',\n",
       "       'Upper Thomson', 'Whampoa', 'Yishun'], dtype=object)"
      ]
     },
     "execution_count": 13,
     "metadata": {},
     "output_type": "execute_result"
    }
   ],
   "source": [
    "# Read in the weather data's region to clean up the suburb\n",
    "weather = pd.read_csv('../Data/weather.csv')\n",
    "region_list = weather['region'].unique()\n",
    "region_list"
   ]
  },
  {
   "cell_type": "code",
   "execution_count": 14,
   "id": "95852777",
   "metadata": {},
   "outputs": [
    {
     "name": "stdout",
     "output_type": "stream",
     "text": [
      "These areas should be renamed: \n",
      "Bishan\n",
      "Geylang\n",
      "Tampines\n",
      "Bedok\n",
      "Jurong West\n",
      "Holland Village\n",
      "Jurong East\n",
      "Woodlands\n",
      "Choa Chu Kang\n",
      "Seng Kang\n",
      "Hougang\n",
      "Bukit Merah\n",
      "Tanglin\n",
      "Queenstown, Tiong Bahru\n",
      "Pasir Ris\n",
      "Bukit Batok\n",
      "Rochor\n",
      "Jurong\n",
      "Kallang\n",
      "Joo Seng\n",
      "Pasir Panjang, Hong Leong Garden, Clementi New Town\n",
      "Downtown Core\n",
      "Novena\n",
      "Serangoon Gardens\n",
      "Upper Bukit Timah, Clementi Park, Ulu Pandan\n",
      "Hillview\n",
      "Changi Business Park\n",
      "Kaki Bukit\n",
      "one-north\n",
      "Kallang Way\n",
      "Sungei Kadut\n",
      "Singapore River\n",
      "Outram\n",
      "Potong Pasir\n",
      "Western Islands\n",
      "Western Water Catchment\n",
      "Central Water Catchment\n",
      "Katong\n",
      "Pioneer\n",
      "Orchard\n",
      "River Valley\n",
      "Alexandra\n",
      "Museum\n"
     ]
    }
   ],
   "source": [
    "print('These areas should be renamed: ')\n",
    "for i in cases_region:\n",
    "    if i not in region_list:     \n",
    "        print(i)"
   ]
  },
  {
   "cell_type": "code",
   "execution_count": 15,
   "id": "ad7a3c8c",
   "metadata": {},
   "outputs": [],
   "source": [
    "cases_df3 = cases_df2.replace({\n",
    "    'Bishan': 'Ang Mo Kio',\n",
    "    'Geylang': 'Tai Seng',\n",
    "    'Tampines': 'Simei',\n",
    "    'Bedok': 'Chai Chee',\n",
    "    'Jurong West': 'Jurong (West)',\n",
    "    'Holland Village': 'Buona Vista',\n",
    "    'Jurong East': 'Jurong (East)',\n",
    "    'Woodlands': 'Admiralty',\n",
    "    'Choa Chu Kang': 'Choa Chu Kang (Central)',\n",
    "    'Seng Kang': 'Buangkok',\n",
    "    'Hougang': 'Buangkok',\n",
    "    'Bukit Merah': 'Kampong Bahru',\n",
    "    'Tanglin': 'Botanic Garden',\n",
    "    'Queenstown, Tiong Bahru': 'Queenstown',\n",
    "    'Pasir Ris': 'Pasir Ris (Central)',\n",
    "    'Bukit Batok': 'Bukit Panjang',\n",
    "    'Rochor': 'Dhoby Ghaut',\n",
    "    'Jurong': 'Jurong (East)',\n",
    "    'Kallang': 'Whampoa',\n",
    "    'Joo Seng': 'Tai Seng',\n",
    "    'Pasir Panjang, Hong Leong Garden, Clementi New Town': 'Pasir Panjang',\n",
    "    'Downtown Core': 'Marina Barrage',\n",
    "    'Novena': 'Newton',\n",
    "    'Serangoon Gardens': 'Serangoon North',\n",
    "    'Upper Bukit Timah, Clementi Park, Ulu Pandan': 'Ulu Pandan',\n",
    "    'Hillview': 'Bukit Panjang',\n",
    "    'Changi Business Park': 'Changi',\n",
    "    'Kaki Bukit': 'Chai Chee',\n",
    "    'one-north': 'Buona Vista',\n",
    "    'Kallang Way': 'Whampoa',\n",
    "    'Sungei Kadut': 'Kranji Reservoir',\n",
    "    'Singapore River': 'Dhoby Ghaut',\n",
    "    'Outram': 'Tanjong Pagar',\n",
    "    'Potong Pasir': 'Toa Payoh',\n",
    "    'Western Islands': 'Jurong Island',\n",
    "    'Western Water Catchment': 'Tengah',\n",
    "    'Central Water Catchment': 'Macritchie Reservoir',\n",
    "    'Katong': 'Marine Parade',\n",
    "    'Pioneer': 'Jurong (West)',\n",
    "    'Orchard': 'Somerset (Road)',\n",
    "    'River Valley': 'Somerset (Road)',\n",
    "    'Alexandra': 'Queenstown',\n",
    "    'Museum': 'Dhoby Ghaut'\n",
    "})"
   ]
  },
  {
   "cell_type": "code",
   "execution_count": 16,
   "id": "ee33ef56",
   "metadata": {},
   "outputs": [
    {
     "data": {
      "text/plain": [
       "Chai Chee                  7788\n",
       "Buangkok                   6121\n",
       "Ang Mo Kio                 5054\n",
       "Tai Seng                   4902\n",
       "Serangoon                  4167\n",
       "Admiralty                  3340\n",
       "Simei                      2943\n",
       "Bukit Panjang              2556\n",
       "Jurong (West)              2395\n",
       "Yishun                     2311\n",
       "Whampoa                    2239\n",
       "Choa Chu Kang (Central)    2202\n",
       "Toa Payoh                  1964\n",
       "Pasir Ris (Central)        1562\n",
       "Marine Parade              1369\n",
       "Newton                      980\n",
       "Sembawang                   761\n",
       "Dhoby Ghaut                 683\n",
       "Jurong (East)               682\n",
       "Kampong Bahru               404\n",
       "Clementi                    300\n",
       "Buona Vista                 295\n",
       "Punggol                     289\n",
       "Queenstown                  266\n",
       "Ulu Pandan                  246\n",
       "Botanic Garden              218\n",
       "Changi                      195\n",
       "Somerset (Road)             193\n",
       "Serangoon North             124\n",
       "Bukit Timah                 111\n",
       "Tanjong Pagar                90\n",
       "Macritchie Reservoir         40\n",
       "Pasir Panjang                39\n",
       "Marina Barrage               26\n",
       "Paya Lebar                   23\n",
       "Kranji Reservoir             20\n",
       "Tuas                         18\n",
       "Tengah                       18\n",
       "Seletar                      18\n",
       "Jurong Island                15\n",
       "Mandai                        9\n",
       "Name: suburb, dtype: int64"
      ]
     },
     "execution_count": 16,
     "metadata": {},
     "output_type": "execute_result"
    }
   ],
   "source": [
    "cases_df3['suburb'].value_counts()"
   ]
  },
  {
   "cell_type": "code",
   "execution_count": 17,
   "id": "4475ff05",
   "metadata": {},
   "outputs": [
    {
     "data": {
      "text/plain": [
       "41"
      ]
     },
     "execution_count": 17,
     "metadata": {},
     "output_type": "execute_result"
    }
   ],
   "source": [
    "cases_df3['suburb'].nunique()"
   ]
  },
  {
   "cell_type": "code",
   "execution_count": 18,
   "id": "678a8b29",
   "metadata": {},
   "outputs": [
    {
     "data": {
      "text/html": [
       "<div>\n",
       "<style scoped>\n",
       "    .dataframe tbody tr th:only-of-type {\n",
       "        vertical-align: middle;\n",
       "    }\n",
       "\n",
       "    .dataframe tbody tr th {\n",
       "        vertical-align: top;\n",
       "    }\n",
       "\n",
       "    .dataframe thead th {\n",
       "        text-align: right;\n",
       "    }\n",
       "</style>\n",
       "<table border=\"1\" class=\"dataframe\">\n",
       "  <thead>\n",
       "    <tr style=\"text-align: right;\">\n",
       "      <th></th>\n",
       "      <th>no_of_cases</th>\n",
       "      <th>address</th>\n",
       "      <th>latitude</th>\n",
       "      <th>longitude</th>\n",
       "      <th>cluster_no</th>\n",
       "      <th>recent_cases</th>\n",
       "      <th>total_cases</th>\n",
       "      <th>date</th>\n",
       "      <th>month</th>\n",
       "      <th>postal_code</th>\n",
       "      <th>suburb</th>\n",
       "    </tr>\n",
       "  </thead>\n",
       "  <tbody>\n",
       "    <tr>\n",
       "      <th>0</th>\n",
       "      <td>4</td>\n",
       "      <td>bishan street 22 (block 232)</td>\n",
       "      <td>1.358286</td>\n",
       "      <td>103.845226</td>\n",
       "      <td>1</td>\n",
       "      <td>24</td>\n",
       "      <td>83</td>\n",
       "      <td>2015-07-03</td>\n",
       "      <td>7</td>\n",
       "      <td>570282</td>\n",
       "      <td>Ang Mo Kio</td>\n",
       "    </tr>\n",
       "    <tr>\n",
       "      <th>1</th>\n",
       "      <td>7</td>\n",
       "      <td>bishan street 22 (block 233)</td>\n",
       "      <td>1.358639</td>\n",
       "      <td>103.845259</td>\n",
       "      <td>1</td>\n",
       "      <td>24</td>\n",
       "      <td>83</td>\n",
       "      <td>2015-07-03</td>\n",
       "      <td>7</td>\n",
       "      <td>570233</td>\n",
       "      <td>Ang Mo Kio</td>\n",
       "    </tr>\n",
       "    <tr>\n",
       "      <th>2</th>\n",
       "      <td>3</td>\n",
       "      <td>bishan street 22 (block 234)</td>\n",
       "      <td>1.358390</td>\n",
       "      <td>103.845955</td>\n",
       "      <td>1</td>\n",
       "      <td>24</td>\n",
       "      <td>83</td>\n",
       "      <td>2015-07-03</td>\n",
       "      <td>7</td>\n",
       "      <td>570233</td>\n",
       "      <td>Ang Mo Kio</td>\n",
       "    </tr>\n",
       "    <tr>\n",
       "      <th>3</th>\n",
       "      <td>1</td>\n",
       "      <td>bishan street 22 (block 235)</td>\n",
       "      <td>1.358719</td>\n",
       "      <td>103.846477</td>\n",
       "      <td>1</td>\n",
       "      <td>24</td>\n",
       "      <td>83</td>\n",
       "      <td>2015-07-03</td>\n",
       "      <td>7</td>\n",
       "      <td>570227</td>\n",
       "      <td>Ang Mo Kio</td>\n",
       "    </tr>\n",
       "    <tr>\n",
       "      <th>4</th>\n",
       "      <td>4</td>\n",
       "      <td>bishan street 22 (block 236)</td>\n",
       "      <td>1.359041</td>\n",
       "      <td>103.846849</td>\n",
       "      <td>1</td>\n",
       "      <td>24</td>\n",
       "      <td>83</td>\n",
       "      <td>2015-07-03</td>\n",
       "      <td>7</td>\n",
       "      <td>570227</td>\n",
       "      <td>Ang Mo Kio</td>\n",
       "    </tr>\n",
       "  </tbody>\n",
       "</table>\n",
       "</div>"
      ],
      "text/plain": [
       "   no_of_cases                       address  latitude   longitude  \\\n",
       "0            4  bishan street 22 (block 232)  1.358286  103.845226   \n",
       "1            7  bishan street 22 (block 233)  1.358639  103.845259   \n",
       "2            3  bishan street 22 (block 234)  1.358390  103.845955   \n",
       "3            1  bishan street 22 (block 235)  1.358719  103.846477   \n",
       "4            4  bishan street 22 (block 236)  1.359041  103.846849   \n",
       "\n",
       "   cluster_no  recent_cases  total_cases        date  month  postal_code  \\\n",
       "0           1            24           83  2015-07-03      7       570282   \n",
       "1           1            24           83  2015-07-03      7       570233   \n",
       "2           1            24           83  2015-07-03      7       570233   \n",
       "3           1            24           83  2015-07-03      7       570227   \n",
       "4           1            24           83  2015-07-03      7       570227   \n",
       "\n",
       "       suburb  \n",
       "0  Ang Mo Kio  \n",
       "1  Ang Mo Kio  \n",
       "2  Ang Mo Kio  \n",
       "3  Ang Mo Kio  \n",
       "4  Ang Mo Kio  "
      ]
     },
     "execution_count": 18,
     "metadata": {},
     "output_type": "execute_result"
    }
   ],
   "source": [
    "cases_df3.head()"
   ]
  },
  {
   "cell_type": "code",
   "execution_count": 19,
   "id": "64ecc2e7",
   "metadata": {},
   "outputs": [
    {
     "data": {
      "text/html": [
       "<div>\n",
       "<style scoped>\n",
       "    .dataframe tbody tr th:only-of-type {\n",
       "        vertical-align: middle;\n",
       "    }\n",
       "\n",
       "    .dataframe tbody tr th {\n",
       "        vertical-align: top;\n",
       "    }\n",
       "\n",
       "    .dataframe thead th {\n",
       "        text-align: right;\n",
       "    }\n",
       "</style>\n",
       "<table border=\"1\" class=\"dataframe\">\n",
       "  <thead>\n",
       "    <tr style=\"text-align: right;\">\n",
       "      <th></th>\n",
       "      <th>no_of_cases</th>\n",
       "      <th>address</th>\n",
       "      <th>latitude</th>\n",
       "      <th>longitude</th>\n",
       "      <th>cluster_no</th>\n",
       "      <th>recent_cases</th>\n",
       "      <th>total_cases</th>\n",
       "      <th>date</th>\n",
       "      <th>postal_code</th>\n",
       "      <th>region</th>\n",
       "    </tr>\n",
       "  </thead>\n",
       "  <tbody>\n",
       "    <tr>\n",
       "      <th>0</th>\n",
       "      <td>4</td>\n",
       "      <td>bishan street 22 (block 232)</td>\n",
       "      <td>1.358286</td>\n",
       "      <td>103.845226</td>\n",
       "      <td>1</td>\n",
       "      <td>24</td>\n",
       "      <td>83</td>\n",
       "      <td>2015-07-03</td>\n",
       "      <td>570282</td>\n",
       "      <td>Ang Mo Kio</td>\n",
       "    </tr>\n",
       "    <tr>\n",
       "      <th>1</th>\n",
       "      <td>7</td>\n",
       "      <td>bishan street 22 (block 233)</td>\n",
       "      <td>1.358639</td>\n",
       "      <td>103.845259</td>\n",
       "      <td>1</td>\n",
       "      <td>24</td>\n",
       "      <td>83</td>\n",
       "      <td>2015-07-03</td>\n",
       "      <td>570233</td>\n",
       "      <td>Ang Mo Kio</td>\n",
       "    </tr>\n",
       "    <tr>\n",
       "      <th>2</th>\n",
       "      <td>3</td>\n",
       "      <td>bishan street 22 (block 234)</td>\n",
       "      <td>1.358390</td>\n",
       "      <td>103.845955</td>\n",
       "      <td>1</td>\n",
       "      <td>24</td>\n",
       "      <td>83</td>\n",
       "      <td>2015-07-03</td>\n",
       "      <td>570233</td>\n",
       "      <td>Ang Mo Kio</td>\n",
       "    </tr>\n",
       "    <tr>\n",
       "      <th>3</th>\n",
       "      <td>1</td>\n",
       "      <td>bishan street 22 (block 235)</td>\n",
       "      <td>1.358719</td>\n",
       "      <td>103.846477</td>\n",
       "      <td>1</td>\n",
       "      <td>24</td>\n",
       "      <td>83</td>\n",
       "      <td>2015-07-03</td>\n",
       "      <td>570227</td>\n",
       "      <td>Ang Mo Kio</td>\n",
       "    </tr>\n",
       "    <tr>\n",
       "      <th>4</th>\n",
       "      <td>4</td>\n",
       "      <td>bishan street 22 (block 236)</td>\n",
       "      <td>1.359041</td>\n",
       "      <td>103.846849</td>\n",
       "      <td>1</td>\n",
       "      <td>24</td>\n",
       "      <td>83</td>\n",
       "      <td>2015-07-03</td>\n",
       "      <td>570227</td>\n",
       "      <td>Ang Mo Kio</td>\n",
       "    </tr>\n",
       "  </tbody>\n",
       "</table>\n",
       "</div>"
      ],
      "text/plain": [
       "   no_of_cases                       address  latitude   longitude  \\\n",
       "0            4  bishan street 22 (block 232)  1.358286  103.845226   \n",
       "1            7  bishan street 22 (block 233)  1.358639  103.845259   \n",
       "2            3  bishan street 22 (block 234)  1.358390  103.845955   \n",
       "3            1  bishan street 22 (block 235)  1.358719  103.846477   \n",
       "4            4  bishan street 22 (block 236)  1.359041  103.846849   \n",
       "\n",
       "   cluster_no  recent_cases  total_cases        date  postal_code      region  \n",
       "0           1            24           83  2015-07-03       570282  Ang Mo Kio  \n",
       "1           1            24           83  2015-07-03       570233  Ang Mo Kio  \n",
       "2           1            24           83  2015-07-03       570233  Ang Mo Kio  \n",
       "3           1            24           83  2015-07-03       570227  Ang Mo Kio  \n",
       "4           1            24           83  2015-07-03       570227  Ang Mo Kio  "
      ]
     },
     "execution_count": 19,
     "metadata": {},
     "output_type": "execute_result"
    }
   ],
   "source": [
    "# Drop unncessary columns\n",
    "cases_df3.drop(['month'],axis=1,inplace=True)\n",
    "cases_df3.rename({'suburb':'region'},axis=1,inplace=True)\n",
    "cases_df3.head()"
   ]
  },
  {
   "cell_type": "code",
   "execution_count": 20,
   "id": "bcbc9345",
   "metadata": {},
   "outputs": [],
   "source": [
    "cases_df3['date'] = pd.to_datetime(cases_df3['date'])"
   ]
  },
  {
   "cell_type": "code",
   "execution_count": 21,
   "id": "d46fa73b",
   "metadata": {},
   "outputs": [
    {
     "name": "stdout",
     "output_type": "stream",
     "text": [
      "<class 'pandas.core.frame.DataFrame'>\n",
      "RangeIndex: 56976 entries, 0 to 56975\n",
      "Data columns (total 10 columns):\n",
      " #   Column        Non-Null Count  Dtype         \n",
      "---  ------        --------------  -----         \n",
      " 0   no_of_cases   56976 non-null  int64         \n",
      " 1   address       56976 non-null  object        \n",
      " 2   latitude      56976 non-null  float64       \n",
      " 3   longitude     56976 non-null  float64       \n",
      " 4   cluster_no    56976 non-null  int64         \n",
      " 5   recent_cases  56976 non-null  int64         \n",
      " 6   total_cases   56976 non-null  int64         \n",
      " 7   date          56976 non-null  datetime64[ns]\n",
      " 8   postal_code   56976 non-null  int64         \n",
      " 9   region        56976 non-null  object        \n",
      "dtypes: datetime64[ns](1), float64(2), int64(5), object(2)\n",
      "memory usage: 4.3+ MB\n"
     ]
    }
   ],
   "source": [
    "cases_df3.info()"
   ]
  },
  {
   "cell_type": "code",
   "execution_count": 23,
   "id": "eea5d12a",
   "metadata": {},
   "outputs": [],
   "source": [
    "cases_df3.to_csv('../Data/dengue_cases_region.csv', index = False)"
   ]
  },
  {
   "cell_type": "code",
   "execution_count": 39,
   "id": "bc5d4a22",
   "metadata": {},
   "outputs": [],
   "source": [
    "cases_df3 = pd.read_csv('../Data/dengue_cases_region.csv')"
   ]
  },
  {
   "cell_type": "markdown",
   "id": "c7d61c27",
   "metadata": {},
   "source": [
    "#### Data Dictionary"
   ]
  },
  {
   "cell_type": "markdown",
   "id": "689cbb0a",
   "metadata": {},
   "source": [
    "|Feature|Type|Dataset|Description|\n",
    "|:---|:---|:---|:---|\n",
    "|no_of_cases|integer|dengue cluster (NEA)|Number of reported dengue cases at this location| \n",
    "|address|object|dengue cluster (NEA)|Street address where dengue cases are reported (down to the apartment block level)| \n",
    "|latitude|float|dengue cluster (NEA)|Latitude of the street address| \n",
    "|longitude|float|dengue cluster (NEA)|Longitude of the street address| \n",
    "|cluster_no|int|dengue cluster (NEA)|Every dengue cluster is labelled with a serial number. However, this serial number cannot be used as an unique identifier because (1) the serial number is reused in other snapshots and (2) the serial number will change throughout the cluster's lifetime|\n",
    "|recent_cases|integer|dengue cluster (NEA)|Number of dengue cases with onset in the last 2 weeks| \n",
    "|total_cases|integer|dengue cluster (NEA)|Total number of dengue cases reported in this cluster| \n",
    "|date|datetime|dengue cluster (NEA)|Date in YYYY-MM-DD format| \n",
    "|postal_code|integer|dengue cluster (NEA)|Postal code of the stress address| \n",
    "|region|object|dengue cluster (NEA) & postal mapping (URA)|Region of the street address| "
   ]
  },
  {
   "cell_type": "code",
   "execution_count": 40,
   "id": "635e4082",
   "metadata": {},
   "outputs": [
    {
     "data": {
      "text/html": [
       "<div>\n",
       "<style scoped>\n",
       "    .dataframe tbody tr th:only-of-type {\n",
       "        vertical-align: middle;\n",
       "    }\n",
       "\n",
       "    .dataframe tbody tr th {\n",
       "        vertical-align: top;\n",
       "    }\n",
       "\n",
       "    .dataframe thead th {\n",
       "        text-align: right;\n",
       "    }\n",
       "</style>\n",
       "<table border=\"1\" class=\"dataframe\">\n",
       "  <thead>\n",
       "    <tr style=\"text-align: right;\">\n",
       "      <th></th>\n",
       "      <th>region</th>\n",
       "      <th>date</th>\n",
       "      <th>recent_cases</th>\n",
       "    </tr>\n",
       "  </thead>\n",
       "  <tbody>\n",
       "    <tr>\n",
       "      <th>0</th>\n",
       "      <td>Admiralty</td>\n",
       "      <td>2013-05-23</td>\n",
       "      <td>-1</td>\n",
       "    </tr>\n",
       "    <tr>\n",
       "      <th>1</th>\n",
       "      <td>Admiralty</td>\n",
       "      <td>2013-05-27</td>\n",
       "      <td>-1</td>\n",
       "    </tr>\n",
       "    <tr>\n",
       "      <th>2</th>\n",
       "      <td>Admiralty</td>\n",
       "      <td>2013-06-11</td>\n",
       "      <td>-1</td>\n",
       "    </tr>\n",
       "    <tr>\n",
       "      <th>3</th>\n",
       "      <td>Admiralty</td>\n",
       "      <td>2013-06-24</td>\n",
       "      <td>-3</td>\n",
       "    </tr>\n",
       "    <tr>\n",
       "      <th>4</th>\n",
       "      <td>Admiralty</td>\n",
       "      <td>2013-07-08</td>\n",
       "      <td>-5</td>\n",
       "    </tr>\n",
       "  </tbody>\n",
       "</table>\n",
       "</div>"
      ],
      "text/plain": [
       "      region        date  recent_cases\n",
       "0  Admiralty  2013-05-23            -1\n",
       "1  Admiralty  2013-05-27            -1\n",
       "2  Admiralty  2013-06-11            -1\n",
       "3  Admiralty  2013-06-24            -3\n",
       "4  Admiralty  2013-07-08            -5"
      ]
     },
     "execution_count": 40,
     "metadata": {},
     "output_type": "execute_result"
    }
   ],
   "source": [
    "res_df = cases_df3.drop_duplicates(subset=['cluster_no', 'region','date']).groupby(['region','date'])['recent_cases'].sum().reset_index()\n",
    "res_df.head()"
   ]
  },
  {
   "cell_type": "markdown",
   "id": "62a2642e",
   "metadata": {},
   "source": [
    "NEA published the count of recent cases per cluster only from December 2013 onwards. For prior data, this field is substituted with a placeholder value of -1.\n",
    "\n",
    "Hence, remove data with cases < 0 "
   ]
  },
  {
   "cell_type": "code",
   "execution_count": 42,
   "id": "86036fc9",
   "metadata": {},
   "outputs": [
    {
     "data": {
      "text/plain": [
       "array(['2013-05-23', '2013-05-27', '2013-06-11', '2013-06-24',\n",
       "       '2013-07-08', '2013-07-18', '2013-09-06', '2013-09-13',\n",
       "       '2013-10-30', '2013-11-04', '2013-11-11', '2013-11-18',\n",
       "       '2013-06-17', '2013-07-04', '2013-07-26', '2013-08-07',\n",
       "       '2013-08-13', '2013-08-21', '2013-08-30'], dtype=object)"
      ]
     },
     "execution_count": 42,
     "metadata": {},
     "output_type": "execute_result"
    }
   ],
   "source": [
    "res_df[res_df['recent_cases'] < 0]['date'].unique()"
   ]
  },
  {
   "cell_type": "code",
   "execution_count": 59,
   "id": "12e87191",
   "metadata": {},
   "outputs": [],
   "source": [
    "res_df2 = res_df[res_df['recent_cases'] > 0]"
   ]
  },
  {
   "cell_type": "markdown",
   "id": "46066da0",
   "metadata": {},
   "source": [
    "Change the dates to the nearest Sunday so that we are able to match with the weekly Google trends data"
   ]
  },
  {
   "cell_type": "code",
   "execution_count": 60,
   "id": "7f9754c9",
   "metadata": {},
   "outputs": [
    {
     "name": "stderr",
     "output_type": "stream",
     "text": [
      "C:\\Users\\jinmi\\AppData\\Local\\Temp/ipykernel_18936/1029397134.py:1: SettingWithCopyWarning: \n",
      "A value is trying to be set on a copy of a slice from a DataFrame.\n",
      "Try using .loc[row_indexer,col_indexer] = value instead\n",
      "\n",
      "See the caveats in the documentation: https://pandas.pydata.org/pandas-docs/stable/user_guide/indexing.html#returning-a-view-versus-a-copy\n",
      "  res_df2['date'] = pd.to_datetime(res_df2['date'])\n"
     ]
    }
   ],
   "source": [
    "res_df2['date'] = pd.to_datetime(res_df2['date'])"
   ]
  },
  {
   "cell_type": "code",
   "execution_count": 64,
   "id": "2d2667ac",
   "metadata": {},
   "outputs": [],
   "source": [
    "import datetime\n",
    "def datetime_to_next_sunday(row):\n",
    "    if row.weekday() <= 2: # if date is mon/tue/wed, turn date into previous sun\n",
    "        return row - datetime.timedelta(days=row.weekday()+1)\n",
    "    else: # if date is thu/fri/sat, turn date into next sun\n",
    "        return row + datetime.timedelta(days=6-row.weekday())"
   ]
  },
  {
   "cell_type": "code",
   "execution_count": 65,
   "id": "8024987d",
   "metadata": {},
   "outputs": [
    {
     "name": "stderr",
     "output_type": "stream",
     "text": [
      "C:\\Users\\jinmi\\AppData\\Local\\Temp/ipykernel_18936/3932918623.py:1: SettingWithCopyWarning: \n",
      "A value is trying to be set on a copy of a slice from a DataFrame.\n",
      "Try using .loc[row_indexer,col_indexer] = value instead\n",
      "\n",
      "See the caveats in the documentation: https://pandas.pydata.org/pandas-docs/stable/user_guide/indexing.html#returning-a-view-versus-a-copy\n",
      "  res_df2['date_sunday'] = res_df2[['date']].applymap(datetime_to_next_sunday)\n"
     ]
    }
   ],
   "source": [
    "res_df2['date_sunday'] = res_df2[['date']].applymap(datetime_to_next_sunday)"
   ]
  },
  {
   "cell_type": "code",
   "execution_count": 66,
   "id": "aececcb7",
   "metadata": {},
   "outputs": [
    {
     "data": {
      "text/html": [
       "<div>\n",
       "<style scoped>\n",
       "    .dataframe tbody tr th:only-of-type {\n",
       "        vertical-align: middle;\n",
       "    }\n",
       "\n",
       "    .dataframe tbody tr th {\n",
       "        vertical-align: top;\n",
       "    }\n",
       "\n",
       "    .dataframe thead th {\n",
       "        text-align: right;\n",
       "    }\n",
       "</style>\n",
       "<table border=\"1\" class=\"dataframe\">\n",
       "  <thead>\n",
       "    <tr style=\"text-align: right;\">\n",
       "      <th></th>\n",
       "      <th>region</th>\n",
       "      <th>date</th>\n",
       "      <th>recent_cases</th>\n",
       "      <th>date_sunday</th>\n",
       "    </tr>\n",
       "  </thead>\n",
       "  <tbody>\n",
       "    <tr>\n",
       "      <th>12</th>\n",
       "      <td>Admiralty</td>\n",
       "      <td>2013-11-25</td>\n",
       "      <td>5</td>\n",
       "      <td>2013-11-24</td>\n",
       "    </tr>\n",
       "    <tr>\n",
       "      <th>13</th>\n",
       "      <td>Admiralty</td>\n",
       "      <td>2013-12-02</td>\n",
       "      <td>6</td>\n",
       "      <td>2013-12-01</td>\n",
       "    </tr>\n",
       "    <tr>\n",
       "      <th>14</th>\n",
       "      <td>Admiralty</td>\n",
       "      <td>2013-12-16</td>\n",
       "      <td>8</td>\n",
       "      <td>2013-12-15</td>\n",
       "    </tr>\n",
       "    <tr>\n",
       "      <th>15</th>\n",
       "      <td>Admiralty</td>\n",
       "      <td>2013-12-24</td>\n",
       "      <td>5</td>\n",
       "      <td>2013-12-22</td>\n",
       "    </tr>\n",
       "    <tr>\n",
       "      <th>16</th>\n",
       "      <td>Admiralty</td>\n",
       "      <td>2013-12-31</td>\n",
       "      <td>3</td>\n",
       "      <td>2013-12-29</td>\n",
       "    </tr>\n",
       "  </tbody>\n",
       "</table>\n",
       "</div>"
      ],
      "text/plain": [
       "       region       date  recent_cases date_sunday\n",
       "12  Admiralty 2013-11-25             5  2013-11-24\n",
       "13  Admiralty 2013-12-02             6  2013-12-01\n",
       "14  Admiralty 2013-12-16             8  2013-12-15\n",
       "15  Admiralty 2013-12-24             5  2013-12-22\n",
       "16  Admiralty 2013-12-31             3  2013-12-29"
      ]
     },
     "execution_count": 66,
     "metadata": {},
     "output_type": "execute_result"
    }
   ],
   "source": [
    "res_df2.head()"
   ]
  },
  {
   "cell_type": "markdown",
   "id": "1dbafac2",
   "metadata": {},
   "source": [
    "Check to see if all dates are Sunday"
   ]
  },
  {
   "cell_type": "code",
   "execution_count": 70,
   "id": "9c5ef2d8",
   "metadata": {},
   "outputs": [
    {
     "data": {
      "text/plain": [
       "array([6], dtype=int64)"
      ]
     },
     "execution_count": 70,
     "metadata": {},
     "output_type": "execute_result"
    }
   ],
   "source": [
    "res_df2['date_sunday'].apply(lambda x: x.weekday()).unique()"
   ]
  },
  {
   "cell_type": "code",
   "execution_count": 76,
   "id": "f22a3b05",
   "metadata": {},
   "outputs": [],
   "source": [
    "res_df3 = res_df2.drop('date',axis=1)\n",
    "res_df3.rename({'date_sunday':'date'},axis=1,inplace=True)"
   ]
  },
  {
   "cell_type": "code",
   "execution_count": 77,
   "id": "6d9350a0",
   "metadata": {},
   "outputs": [
    {
     "data": {
      "text/html": [
       "<div>\n",
       "<style scoped>\n",
       "    .dataframe tbody tr th:only-of-type {\n",
       "        vertical-align: middle;\n",
       "    }\n",
       "\n",
       "    .dataframe tbody tr th {\n",
       "        vertical-align: top;\n",
       "    }\n",
       "\n",
       "    .dataframe thead th {\n",
       "        text-align: right;\n",
       "    }\n",
       "</style>\n",
       "<table border=\"1\" class=\"dataframe\">\n",
       "  <thead>\n",
       "    <tr style=\"text-align: right;\">\n",
       "      <th></th>\n",
       "      <th>region</th>\n",
       "      <th>recent_cases</th>\n",
       "      <th>date</th>\n",
       "    </tr>\n",
       "  </thead>\n",
       "  <tbody>\n",
       "    <tr>\n",
       "      <th>5389</th>\n",
       "      <td>Yishun</td>\n",
       "      <td>15</td>\n",
       "      <td>2020-05-31</td>\n",
       "    </tr>\n",
       "    <tr>\n",
       "      <th>5390</th>\n",
       "      <td>Yishun</td>\n",
       "      <td>12</td>\n",
       "      <td>2020-06-07</td>\n",
       "    </tr>\n",
       "    <tr>\n",
       "      <th>5391</th>\n",
       "      <td>Yishun</td>\n",
       "      <td>27</td>\n",
       "      <td>2020-07-05</td>\n",
       "    </tr>\n",
       "    <tr>\n",
       "      <th>5392</th>\n",
       "      <td>Yishun</td>\n",
       "      <td>66</td>\n",
       "      <td>2020-08-09</td>\n",
       "    </tr>\n",
       "    <tr>\n",
       "      <th>5393</th>\n",
       "      <td>Yishun</td>\n",
       "      <td>10</td>\n",
       "      <td>2020-09-20</td>\n",
       "    </tr>\n",
       "  </tbody>\n",
       "</table>\n",
       "</div>"
      ],
      "text/plain": [
       "      region  recent_cases       date\n",
       "5389  Yishun            15 2020-05-31\n",
       "5390  Yishun            12 2020-06-07\n",
       "5391  Yishun            27 2020-07-05\n",
       "5392  Yishun            66 2020-08-09\n",
       "5393  Yishun            10 2020-09-20"
      ]
     },
     "execution_count": 77,
     "metadata": {},
     "output_type": "execute_result"
    }
   ],
   "source": [
    "res_df3.tail()"
   ]
  },
  {
   "cell_type": "code",
   "execution_count": 78,
   "id": "68cf3ff0",
   "metadata": {},
   "outputs": [],
   "source": [
    "res_df3.to_csv('../Data/dengue_cases_region_final.csv', index = False)"
   ]
  },
  {
   "cell_type": "code",
   "execution_count": null,
   "id": "80138f82",
   "metadata": {},
   "outputs": [],
   "source": []
  }
 ],
 "metadata": {
  "kernelspec": {
   "display_name": "Python 3 (ipykernel)",
   "language": "python",
   "name": "python3"
  },
  "language_info": {
   "codemirror_mode": {
    "name": "ipython",
    "version": 3
   },
   "file_extension": ".py",
   "mimetype": "text/x-python",
   "name": "python",
   "nbconvert_exporter": "python",
   "pygments_lexer": "ipython3",
   "version": "3.9.7"
  }
 },
 "nbformat": 4,
 "nbformat_minor": 5
}
