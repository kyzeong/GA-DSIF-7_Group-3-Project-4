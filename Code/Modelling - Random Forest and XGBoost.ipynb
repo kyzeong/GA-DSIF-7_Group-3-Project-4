{
 "cells": [
  {
   "cell_type": "code",
   "execution_count": 1,
   "id": "0c0c093c",
   "metadata": {},
   "outputs": [],
   "source": [
    "# pip install xgboost\n",
    "\n",
    "import pandas as pd\n",
    "import xgboost as xg\n",
    "\n",
    "from sklearn.ensemble import RandomForestRegressor\n",
    "from sklearn.model_selection import train_test_split, GridSearchCV\n",
    "from sklearn.metrics import mean_squared_error"
   ]
  },
  {
   "cell_type": "code",
   "execution_count": 2,
   "id": "13b4278a",
   "metadata": {},
   "outputs": [],
   "source": [
    "df = pd.read_csv('../Data/merged_data.csv').iloc[:,1:]"
   ]
  },
  {
   "cell_type": "code",
   "execution_count": 3,
   "id": "5d1935cb",
   "metadata": {},
   "outputs": [
    {
     "data": {
      "text/html": [
       "<div>\n",
       "<style scoped>\n",
       "    .dataframe tbody tr th:only-of-type {\n",
       "        vertical-align: middle;\n",
       "    }\n",
       "\n",
       "    .dataframe tbody tr th {\n",
       "        vertical-align: top;\n",
       "    }\n",
       "\n",
       "    .dataframe thead th {\n",
       "        text-align: right;\n",
       "    }\n",
       "</style>\n",
       "<table border=\"1\" class=\"dataframe\">\n",
       "  <thead>\n",
       "    <tr style=\"text-align: right;\">\n",
       "      <th></th>\n",
       "      <th>date</th>\n",
       "      <th>daily_rainfall_total</th>\n",
       "      <th>highest_30_min_rainfall</th>\n",
       "      <th>highest_60_min_rainfall</th>\n",
       "      <th>highest_120_min_rainfall</th>\n",
       "      <th>mean_temperature</th>\n",
       "      <th>maximum_temperature</th>\n",
       "      <th>minimum_temperature</th>\n",
       "      <th>mean_wind_speed</th>\n",
       "      <th>max_wind_speed</th>\n",
       "      <th>...</th>\n",
       "      <th>minimum_temperature_14</th>\n",
       "      <th>mean_wind_speed_14</th>\n",
       "      <th>max_wind_speed_14</th>\n",
       "      <th>aedes</th>\n",
       "      <th>dengue</th>\n",
       "      <th>fever</th>\n",
       "      <th>headache</th>\n",
       "      <th>nosebleed</th>\n",
       "      <th>vomit</th>\n",
       "      <th>recent_cases</th>\n",
       "    </tr>\n",
       "  </thead>\n",
       "  <tbody>\n",
       "    <tr>\n",
       "      <th>0</th>\n",
       "      <td>2017-01-01</td>\n",
       "      <td>3.0</td>\n",
       "      <td>2.6</td>\n",
       "      <td>2.6</td>\n",
       "      <td>2.6</td>\n",
       "      <td>26.8</td>\n",
       "      <td>30.0</td>\n",
       "      <td>24.7</td>\n",
       "      <td>11.2</td>\n",
       "      <td>40.7</td>\n",
       "      <td>...</td>\n",
       "      <td>NaN</td>\n",
       "      <td>NaN</td>\n",
       "      <td>NaN</td>\n",
       "      <td>10.0</td>\n",
       "      <td>27.0</td>\n",
       "      <td>69.0</td>\n",
       "      <td>70.0</td>\n",
       "      <td>0.0</td>\n",
       "      <td>100.0</td>\n",
       "      <td>NaN</td>\n",
       "    </tr>\n",
       "    <tr>\n",
       "      <th>1</th>\n",
       "      <td>2017-01-02</td>\n",
       "      <td>47.2</td>\n",
       "      <td>32.6</td>\n",
       "      <td>42.2</td>\n",
       "      <td>45.2</td>\n",
       "      <td>26.1</td>\n",
       "      <td>30.5</td>\n",
       "      <td>24.1</td>\n",
       "      <td>6.1</td>\n",
       "      <td>32.0</td>\n",
       "      <td>...</td>\n",
       "      <td>NaN</td>\n",
       "      <td>NaN</td>\n",
       "      <td>NaN</td>\n",
       "      <td>NaN</td>\n",
       "      <td>NaN</td>\n",
       "      <td>NaN</td>\n",
       "      <td>NaN</td>\n",
       "      <td>NaN</td>\n",
       "      <td>NaN</td>\n",
       "      <td>NaN</td>\n",
       "    </tr>\n",
       "    <tr>\n",
       "      <th>2</th>\n",
       "      <td>2017-01-03</td>\n",
       "      <td>0.6</td>\n",
       "      <td>0.6</td>\n",
       "      <td>0.6</td>\n",
       "      <td>0.6</td>\n",
       "      <td>26.3</td>\n",
       "      <td>30.6</td>\n",
       "      <td>24.5</td>\n",
       "      <td>7.6</td>\n",
       "      <td>27.4</td>\n",
       "      <td>...</td>\n",
       "      <td>NaN</td>\n",
       "      <td>NaN</td>\n",
       "      <td>NaN</td>\n",
       "      <td>NaN</td>\n",
       "      <td>NaN</td>\n",
       "      <td>NaN</td>\n",
       "      <td>NaN</td>\n",
       "      <td>NaN</td>\n",
       "      <td>NaN</td>\n",
       "      <td>NaN</td>\n",
       "    </tr>\n",
       "    <tr>\n",
       "      <th>3</th>\n",
       "      <td>2017-01-04</td>\n",
       "      <td>2.6</td>\n",
       "      <td>2.4</td>\n",
       "      <td>2.4</td>\n",
       "      <td>2.4</td>\n",
       "      <td>26.6</td>\n",
       "      <td>30.2</td>\n",
       "      <td>23.5</td>\n",
       "      <td>9.0</td>\n",
       "      <td>33.5</td>\n",
       "      <td>...</td>\n",
       "      <td>NaN</td>\n",
       "      <td>NaN</td>\n",
       "      <td>NaN</td>\n",
       "      <td>NaN</td>\n",
       "      <td>NaN</td>\n",
       "      <td>NaN</td>\n",
       "      <td>NaN</td>\n",
       "      <td>NaN</td>\n",
       "      <td>NaN</td>\n",
       "      <td>NaN</td>\n",
       "    </tr>\n",
       "    <tr>\n",
       "      <th>4</th>\n",
       "      <td>2017-01-05</td>\n",
       "      <td>1.2</td>\n",
       "      <td>0.8</td>\n",
       "      <td>1.0</td>\n",
       "      <td>1.2</td>\n",
       "      <td>27.7</td>\n",
       "      <td>31.4</td>\n",
       "      <td>24.4</td>\n",
       "      <td>8.6</td>\n",
       "      <td>33.5</td>\n",
       "      <td>...</td>\n",
       "      <td>NaN</td>\n",
       "      <td>NaN</td>\n",
       "      <td>NaN</td>\n",
       "      <td>NaN</td>\n",
       "      <td>NaN</td>\n",
       "      <td>NaN</td>\n",
       "      <td>NaN</td>\n",
       "      <td>NaN</td>\n",
       "      <td>NaN</td>\n",
       "      <td>NaN</td>\n",
       "    </tr>\n",
       "  </tbody>\n",
       "</table>\n",
       "<p>5 rows × 28 columns</p>\n",
       "</div>"
      ],
      "text/plain": [
       "         date  daily_rainfall_total  highest_30_min_rainfall  \\\n",
       "0  2017-01-01                   3.0                      2.6   \n",
       "1  2017-01-02                  47.2                     32.6   \n",
       "2  2017-01-03                   0.6                      0.6   \n",
       "3  2017-01-04                   2.6                      2.4   \n",
       "4  2017-01-05                   1.2                      0.8   \n",
       "\n",
       "   highest_60_min_rainfall  highest_120_min_rainfall  mean_temperature  \\\n",
       "0                      2.6                       2.6              26.8   \n",
       "1                     42.2                      45.2              26.1   \n",
       "2                      0.6                       0.6              26.3   \n",
       "3                      2.4                       2.4              26.6   \n",
       "4                      1.0                       1.2              27.7   \n",
       "\n",
       "   maximum_temperature  minimum_temperature  mean_wind_speed  max_wind_speed  \\\n",
       "0                 30.0                 24.7             11.2            40.7   \n",
       "1                 30.5                 24.1              6.1            32.0   \n",
       "2                 30.6                 24.5              7.6            27.4   \n",
       "3                 30.2                 23.5              9.0            33.5   \n",
       "4                 31.4                 24.4              8.6            33.5   \n",
       "\n",
       "   ...  minimum_temperature_14 mean_wind_speed_14  max_wind_speed_14  aedes  \\\n",
       "0  ...                     NaN                NaN                NaN   10.0   \n",
       "1  ...                     NaN                NaN                NaN    NaN   \n",
       "2  ...                     NaN                NaN                NaN    NaN   \n",
       "3  ...                     NaN                NaN                NaN    NaN   \n",
       "4  ...                     NaN                NaN                NaN    NaN   \n",
       "\n",
       "   dengue  fever  headache  nosebleed  vomit  recent_cases  \n",
       "0    27.0   69.0      70.0        0.0  100.0           NaN  \n",
       "1     NaN    NaN       NaN        NaN    NaN           NaN  \n",
       "2     NaN    NaN       NaN        NaN    NaN           NaN  \n",
       "3     NaN    NaN       NaN        NaN    NaN           NaN  \n",
       "4     NaN    NaN       NaN        NaN    NaN           NaN  \n",
       "\n",
       "[5 rows x 28 columns]"
      ]
     },
     "execution_count": 3,
     "metadata": {},
     "output_type": "execute_result"
    }
   ],
   "source": [
    "df.head()"
   ]
  },
  {
   "cell_type": "code",
   "execution_count": 108,
   "id": "d8bb4c06",
   "metadata": {},
   "outputs": [
    {
     "name": "stdout",
     "output_type": "stream",
     "text": [
      "<class 'pandas.core.frame.DataFrame'>\n",
      "RangeIndex: 130926 entries, 0 to 130925\n",
      "Data columns (total 28 columns):\n",
      " #   Column                       Non-Null Count   Dtype  \n",
      "---  ------                       --------------   -----  \n",
      " 0   date                         130926 non-null  object \n",
      " 1   daily_rainfall_total         130926 non-null  float64\n",
      " 2   highest_30_min_rainfall      130926 non-null  float64\n",
      " 3   highest_60_min_rainfall      130926 non-null  float64\n",
      " 4   highest_120_min_rainfall     130926 non-null  float64\n",
      " 5   mean_temperature             130926 non-null  float64\n",
      " 6   maximum_temperature          130926 non-null  float64\n",
      " 7   minimum_temperature          130926 non-null  float64\n",
      " 8   mean_wind_speed              130926 non-null  float64\n",
      " 9   max_wind_speed               130926 non-null  float64\n",
      " 10  year                         130926 non-null  int64  \n",
      " 11  region                       130926 non-null  object \n",
      " 12  daily_rainfall_total_14      130107 non-null  float64\n",
      " 13  highest_30_min_rainfall_14   130107 non-null  float64\n",
      " 14  highest_60_min_rainfall_14   130107 non-null  float64\n",
      " 15  highest_120_min_rainfall_14  130107 non-null  float64\n",
      " 16  mean_temperature_14          130107 non-null  float64\n",
      " 17  maximum_temperature_14       130107 non-null  float64\n",
      " 18  minimum_temperature_14       130107 non-null  float64\n",
      " 19  mean_wind_speed_14           130107 non-null  float64\n",
      " 20  max_wind_speed_14            130107 non-null  float64\n",
      " 21  aedes                        16889 non-null   float64\n",
      " 22  dengue                       16889 non-null   float64\n",
      " 23  fever                        16889 non-null   float64\n",
      " 24  headache                     16889 non-null   float64\n",
      " 25  nosebleed                    16889 non-null   float64\n",
      " 26  vomit                        16889 non-null   float64\n",
      " 27  recent_cases                 2166 non-null    float64\n",
      "dtypes: float64(25), int64(1), object(2)\n",
      "memory usage: 28.0+ MB\n"
     ]
    }
   ],
   "source": [
    "df.info()"
   ]
  },
  {
   "cell_type": "markdown",
   "id": "95b72bb0",
   "metadata": {},
   "source": [
    "Assumption: Recent cases = 0 for blanks as our source data only collects info on clusters and does not inform us when an area is not a cluster. Data collection stopped after 8 Nov 2020."
   ]
  },
  {
   "cell_type": "code",
   "execution_count": 153,
   "id": "d0c1d695",
   "metadata": {},
   "outputs": [],
   "source": [
    "df['recent_cases'].fillna(0, inplace = True)"
   ]
  },
  {
   "cell_type": "markdown",
   "id": "d1124652",
   "metadata": {},
   "source": [
    "We will be looking at weekly data instead of daily data. Thus, remove all na (since the google trends data is weekly)"
   ]
  },
  {
   "cell_type": "code",
   "execution_count": 154,
   "id": "b7187eac",
   "metadata": {},
   "outputs": [],
   "source": [
    "df2 = df.dropna()"
   ]
  },
  {
   "cell_type": "code",
   "execution_count": 155,
   "id": "8a85d303",
   "metadata": {},
   "outputs": [
    {
     "name": "stderr",
     "output_type": "stream",
     "text": [
      "C:\\Users\\jinmi\\AppData\\Local\\Temp/ipykernel_29972/736178102.py:1: SettingWithCopyWarning: \n",
      "A value is trying to be set on a copy of a slice from a DataFrame.\n",
      "Try using .loc[row_indexer,col_indexer] = value instead\n",
      "\n",
      "See the caveats in the documentation: https://pandas.pydata.org/pandas-docs/stable/user_guide/indexing.html#returning-a-view-versus-a-copy\n",
      "  df2['month'] = df2['date'].str[5:7]\n",
      "C:\\Users\\jinmi\\AppData\\Local\\Temp/ipykernel_29972/736178102.py:2: SettingWithCopyWarning: \n",
      "A value is trying to be set on a copy of a slice from a DataFrame.\n",
      "Try using .loc[row_indexer,col_indexer] = value instead\n",
      "\n",
      "See the caveats in the documentation: https://pandas.pydata.org/pandas-docs/stable/user_guide/indexing.html#returning-a-view-versus-a-copy\n",
      "  df2['month'] = df2['month'].astype(int)\n"
     ]
    }
   ],
   "source": [
    "df2['month'] = df2['date'].str[5:7]\n",
    "df2['month'] = df2['month'].astype(int)"
   ]
  },
  {
   "cell_type": "code",
   "execution_count": 156,
   "id": "a9c5abef",
   "metadata": {},
   "outputs": [
    {
     "data": {
      "text/plain": [
       "Index(['date', 'daily_rainfall_total', 'highest_30_min_rainfall',\n",
       "       'highest_60_min_rainfall', 'highest_120_min_rainfall',\n",
       "       'mean_temperature', 'maximum_temperature', 'minimum_temperature',\n",
       "       'mean_wind_speed', 'max_wind_speed', 'year', 'region',\n",
       "       'daily_rainfall_total_14', 'highest_30_min_rainfall_14',\n",
       "       'highest_60_min_rainfall_14', 'highest_120_min_rainfall_14',\n",
       "       'mean_temperature_14', 'maximum_temperature_14',\n",
       "       'minimum_temperature_14', 'mean_wind_speed_14', 'max_wind_speed_14',\n",
       "       'aedes', 'dengue', 'fever', 'headache', 'nosebleed', 'vomit',\n",
       "       'recent_cases', 'month'],\n",
       "      dtype='object')"
      ]
     },
     "execution_count": 156,
     "metadata": {},
     "output_type": "execute_result"
    }
   ],
   "source": [
    "df2.columns"
   ]
  },
  {
   "cell_type": "code",
   "execution_count": 157,
   "id": "9be4cbce",
   "metadata": {},
   "outputs": [],
   "source": [
    "df3 = df2[df2['date']<='2020-11-08']"
   ]
  },
  {
   "cell_type": "code",
   "execution_count": 158,
   "id": "30701f0f",
   "metadata": {},
   "outputs": [],
   "source": [
    "df3.drop('date',axis=1,inplace=True)"
   ]
  },
  {
   "cell_type": "code",
   "execution_count": 166,
   "id": "b4bda2df",
   "metadata": {},
   "outputs": [
    {
     "data": {
      "text/html": [
       "<div>\n",
       "<style scoped>\n",
       "    .dataframe tbody tr th:only-of-type {\n",
       "        vertical-align: middle;\n",
       "    }\n",
       "\n",
       "    .dataframe tbody tr th {\n",
       "        vertical-align: top;\n",
       "    }\n",
       "\n",
       "    .dataframe thead th {\n",
       "        text-align: right;\n",
       "    }\n",
       "</style>\n",
       "<table border=\"1\" class=\"dataframe\">\n",
       "  <thead>\n",
       "    <tr style=\"text-align: right;\">\n",
       "      <th></th>\n",
       "      <th>daily_rainfall_total</th>\n",
       "      <th>highest_30_min_rainfall</th>\n",
       "      <th>highest_60_min_rainfall</th>\n",
       "      <th>highest_120_min_rainfall</th>\n",
       "      <th>mean_temperature</th>\n",
       "      <th>maximum_temperature</th>\n",
       "      <th>minimum_temperature</th>\n",
       "      <th>mean_wind_speed</th>\n",
       "      <th>max_wind_speed</th>\n",
       "      <th>year</th>\n",
       "      <th>...</th>\n",
       "      <th>region_Tengah</th>\n",
       "      <th>region_Toa Payoh</th>\n",
       "      <th>region_Tuas</th>\n",
       "      <th>region_Tuas South</th>\n",
       "      <th>region_Tuas West</th>\n",
       "      <th>region_Ulu Pandan</th>\n",
       "      <th>region_Upper Peirce Reservoir</th>\n",
       "      <th>region_Upper Thomson</th>\n",
       "      <th>region_Whampoa</th>\n",
       "      <th>region_Yishun</th>\n",
       "    </tr>\n",
       "  </thead>\n",
       "  <tbody>\n",
       "    <tr>\n",
       "      <th>14</th>\n",
       "      <td>4.0</td>\n",
       "      <td>3.8</td>\n",
       "      <td>3.8</td>\n",
       "      <td>4.0</td>\n",
       "      <td>27.7</td>\n",
       "      <td>32.0</td>\n",
       "      <td>25.6</td>\n",
       "      <td>8.3</td>\n",
       "      <td>39.6</td>\n",
       "      <td>2017</td>\n",
       "      <td>...</td>\n",
       "      <td>0</td>\n",
       "      <td>0</td>\n",
       "      <td>0</td>\n",
       "      <td>0</td>\n",
       "      <td>0</td>\n",
       "      <td>0</td>\n",
       "      <td>0</td>\n",
       "      <td>0</td>\n",
       "      <td>0</td>\n",
       "      <td>0</td>\n",
       "    </tr>\n",
       "    <tr>\n",
       "      <th>21</th>\n",
       "      <td>1.6</td>\n",
       "      <td>0.8</td>\n",
       "      <td>1.4</td>\n",
       "      <td>1.4</td>\n",
       "      <td>26.2</td>\n",
       "      <td>30.1</td>\n",
       "      <td>23.9</td>\n",
       "      <td>12.6</td>\n",
       "      <td>43.9</td>\n",
       "      <td>2017</td>\n",
       "      <td>...</td>\n",
       "      <td>0</td>\n",
       "      <td>0</td>\n",
       "      <td>0</td>\n",
       "      <td>0</td>\n",
       "      <td>0</td>\n",
       "      <td>0</td>\n",
       "      <td>0</td>\n",
       "      <td>0</td>\n",
       "      <td>0</td>\n",
       "      <td>0</td>\n",
       "    </tr>\n",
       "    <tr>\n",
       "      <th>28</th>\n",
       "      <td>0.0</td>\n",
       "      <td>0.0</td>\n",
       "      <td>0.0</td>\n",
       "      <td>0.0</td>\n",
       "      <td>26.3</td>\n",
       "      <td>28.3</td>\n",
       "      <td>24.5</td>\n",
       "      <td>10.4</td>\n",
       "      <td>30.6</td>\n",
       "      <td>2017</td>\n",
       "      <td>...</td>\n",
       "      <td>0</td>\n",
       "      <td>0</td>\n",
       "      <td>0</td>\n",
       "      <td>0</td>\n",
       "      <td>0</td>\n",
       "      <td>0</td>\n",
       "      <td>0</td>\n",
       "      <td>0</td>\n",
       "      <td>0</td>\n",
       "      <td>0</td>\n",
       "    </tr>\n",
       "    <tr>\n",
       "      <th>35</th>\n",
       "      <td>0.0</td>\n",
       "      <td>0.0</td>\n",
       "      <td>0.0</td>\n",
       "      <td>0.0</td>\n",
       "      <td>27.3</td>\n",
       "      <td>32.6</td>\n",
       "      <td>24.9</td>\n",
       "      <td>9.7</td>\n",
       "      <td>27.4</td>\n",
       "      <td>2017</td>\n",
       "      <td>...</td>\n",
       "      <td>0</td>\n",
       "      <td>0</td>\n",
       "      <td>0</td>\n",
       "      <td>0</td>\n",
       "      <td>0</td>\n",
       "      <td>0</td>\n",
       "      <td>0</td>\n",
       "      <td>0</td>\n",
       "      <td>0</td>\n",
       "      <td>0</td>\n",
       "    </tr>\n",
       "    <tr>\n",
       "      <th>42</th>\n",
       "      <td>2.4</td>\n",
       "      <td>1.4</td>\n",
       "      <td>1.4</td>\n",
       "      <td>1.4</td>\n",
       "      <td>26.1</td>\n",
       "      <td>29.2</td>\n",
       "      <td>24.3</td>\n",
       "      <td>16.2</td>\n",
       "      <td>59.4</td>\n",
       "      <td>2017</td>\n",
       "      <td>...</td>\n",
       "      <td>0</td>\n",
       "      <td>0</td>\n",
       "      <td>0</td>\n",
       "      <td>0</td>\n",
       "      <td>0</td>\n",
       "      <td>0</td>\n",
       "      <td>0</td>\n",
       "      <td>0</td>\n",
       "      <td>0</td>\n",
       "      <td>0</td>\n",
       "    </tr>\n",
       "  </tbody>\n",
       "</table>\n",
       "<p>5 rows × 87 columns</p>\n",
       "</div>"
      ],
      "text/plain": [
       "    daily_rainfall_total  highest_30_min_rainfall  highest_60_min_rainfall  \\\n",
       "14                   4.0                      3.8                      3.8   \n",
       "21                   1.6                      0.8                      1.4   \n",
       "28                   0.0                      0.0                      0.0   \n",
       "35                   0.0                      0.0                      0.0   \n",
       "42                   2.4                      1.4                      1.4   \n",
       "\n",
       "    highest_120_min_rainfall  mean_temperature  maximum_temperature  \\\n",
       "14                       4.0              27.7                 32.0   \n",
       "21                       1.4              26.2                 30.1   \n",
       "28                       0.0              26.3                 28.3   \n",
       "35                       0.0              27.3                 32.6   \n",
       "42                       1.4              26.1                 29.2   \n",
       "\n",
       "    minimum_temperature  mean_wind_speed  max_wind_speed  year  ...  \\\n",
       "14                 25.6              8.3            39.6  2017  ...   \n",
       "21                 23.9             12.6            43.9  2017  ...   \n",
       "28                 24.5             10.4            30.6  2017  ...   \n",
       "35                 24.9              9.7            27.4  2017  ...   \n",
       "42                 24.3             16.2            59.4  2017  ...   \n",
       "\n",
       "    region_Tengah  region_Toa Payoh  region_Tuas  region_Tuas South  \\\n",
       "14              0                 0            0                  0   \n",
       "21              0                 0            0                  0   \n",
       "28              0                 0            0                  0   \n",
       "35              0                 0            0                  0   \n",
       "42              0                 0            0                  0   \n",
       "\n",
       "    region_Tuas West  region_Ulu Pandan  region_Upper Peirce Reservoir  \\\n",
       "14                 0                  0                              0   \n",
       "21                 0                  0                              0   \n",
       "28                 0                  0                              0   \n",
       "35                 0                  0                              0   \n",
       "42                 0                  0                              0   \n",
       "\n",
       "    region_Upper Thomson  region_Whampoa  region_Yishun  \n",
       "14                     0               0              0  \n",
       "21                     0               0              0  \n",
       "28                     0               0              0  \n",
       "35                     0               0              0  \n",
       "42                     0               0              0  \n",
       "\n",
       "[5 rows x 87 columns]"
      ]
     },
     "execution_count": 166,
     "metadata": {},
     "output_type": "execute_result"
    }
   ],
   "source": [
    "df4 = pd.get_dummies(df3, columns=['region'], drop_first=True)\n",
    "df4.head()"
   ]
  },
  {
   "cell_type": "code",
   "execution_count": 160,
   "id": "f1d6f267",
   "metadata": {},
   "outputs": [
    {
     "data": {
      "text/plain": [
       "(11494, 87)"
      ]
     },
     "execution_count": 160,
     "metadata": {},
     "output_type": "execute_result"
    }
   ],
   "source": [
    "df4.shape"
   ]
  },
  {
   "cell_type": "code",
   "execution_count": 161,
   "id": "254c5dfd",
   "metadata": {},
   "outputs": [
    {
     "data": {
      "text/plain": [
       "recent_cases                      1.000000\n",
       "region_Chai Chee                  0.206839\n",
       "year                              0.169790\n",
       "dengue                            0.159564\n",
       "region_Ang Mo Kio                 0.138680\n",
       "region_Tai Seng                   0.112204\n",
       "region_Serangoon                  0.105495\n",
       "aedes                             0.079513\n",
       "region_Bukit Panjang              0.076713\n",
       "nosebleed                         0.074726\n",
       "region_Toa Payoh                  0.060581\n",
       "region_Jurong (West)              0.051381\n",
       "mean_wind_speed                   0.035175\n",
       "mean_wind_speed_14                0.034026\n",
       "region_Simei                      0.032227\n",
       "region_Buangkok                   0.027099\n",
       "mean_temperature                  0.025182\n",
       "region_Marine Parade              0.024675\n",
       "mean_temperature_14               0.024300\n",
       "region_Choa Chu Kang (Central)    0.022071\n",
       "region_Yishun                     0.019104\n",
       "maximum_temperature               0.018805\n",
       "minimum_temperature               0.018079\n",
       "region_Whampoa                    0.017520\n",
       "minimum_temperature_14            0.016181\n",
       "Name: recent_cases, dtype: float64"
      ]
     },
     "execution_count": 161,
     "metadata": {},
     "output_type": "execute_result"
    }
   ],
   "source": [
    "df4.corr()['recent_cases'].sort_values(ascending=False).head(25)"
   ]
  },
  {
   "cell_type": "markdown",
   "id": "978cd51b",
   "metadata": {},
   "source": [
    "### Random Forest Model"
   ]
  },
  {
   "cell_type": "code",
   "execution_count": 168,
   "id": "c5701ca9",
   "metadata": {},
   "outputs": [],
   "source": [
    "X = df4.drop(['recent_cases'], axis=1)\n",
    "y = df4['recent_cases']"
   ]
  },
  {
   "cell_type": "code",
   "execution_count": 169,
   "id": "76b692fa",
   "metadata": {},
   "outputs": [],
   "source": [
    "X_train, X_test, y_train, y_test = train_test_split(X, y, test_size=0.2, random_state=42)"
   ]
  },
  {
   "cell_type": "code",
   "execution_count": 170,
   "id": "c23da4da",
   "metadata": {},
   "outputs": [],
   "source": [
    "rf = RandomForestRegressor()"
   ]
  },
  {
   "cell_type": "code",
   "execution_count": 176,
   "id": "ebba7a17",
   "metadata": {},
   "outputs": [
    {
     "name": "stdout",
     "output_type": "stream",
     "text": [
      "0.38125292463151933\n"
     ]
    },
    {
     "data": {
      "text/plain": [
       "{'ccp_alpha': 0.001, 'max_depth': 20, 'max_features': 30, 'n_estimators': 100}"
      ]
     },
     "execution_count": 176,
     "metadata": {},
     "output_type": "execute_result"
    }
   ],
   "source": [
    "rf_params = {\n",
    "    'n_estimators': range(100,500,100),\n",
    "    'max_depth': [5,7,10,20],\n",
    "    'max_features': [20,30,35],\n",
    "    'ccp_alpha': [0.001,0.01,0.05,0.1]\n",
    "}\n",
    "gs = GridSearchCV(rf, param_grid=rf_params, cv=3)\n",
    "gs.fit(X_train, y_train)\n",
    "print(gs.best_score_)\n",
    "gs.best_params_"
   ]
  },
  {
   "cell_type": "code",
   "execution_count": 177,
   "id": "e10675a8",
   "metadata": {},
   "outputs": [
    {
     "name": "stdout",
     "output_type": "stream",
     "text": [
      "R2 score on train set: 0.93482\n",
      "R2 score on test set: 0.49241\n",
      "RMSE score on train set: 7.72058\n",
      "RMSE score on test set: 16.30511\n"
     ]
    }
   ],
   "source": [
    "r2_train = gs.score(X_train, y_train)\n",
    "r2_test = gs.score(X_test, y_test)\n",
    "rmse_train = mean_squared_error(y_train, gs.predict(X_train), squared = False)\n",
    "rmse_test = mean_squared_error(y_test, gs.predict(X_test), squared = False)\n",
    "\n",
    "print(f'R2 score on train set: {round(r2_train,5)}')\n",
    "print(f'R2 score on test set: {round(r2_test,5)}')\n",
    "print(f'RMSE score on train set: {round(rmse_train,5)}')\n",
    "print(f'RMSE score on test set: {round(rmse_test,5)}')"
   ]
  },
  {
   "cell_type": "markdown",
   "id": "fc884350",
   "metadata": {},
   "source": [
    "Try tuning hyperparements to see if it helps with model improvement"
   ]
  },
  {
   "cell_type": "code",
   "execution_count": 195,
   "id": "31feb9cc",
   "metadata": {},
   "outputs": [
    {
     "name": "stdout",
     "output_type": "stream",
     "text": [
      "0.38490384122900867\n"
     ]
    },
    {
     "data": {
      "text/plain": [
       "{'ccp_alpha': 0.01, 'max_depth': 20, 'max_features': 30, 'n_estimators': 100}"
      ]
     },
     "execution_count": 195,
     "metadata": {},
     "output_type": "execute_result"
    }
   ],
   "source": [
    "rf_params = {\n",
    "    'n_estimators': range(100,500,100),\n",
    "    'max_depth': [10,20,50,100],\n",
    "    'max_features': [10,20,30,35],\n",
    "    'ccp_alpha': [0.001,0.005,0.01,0.05,0.1]\n",
    "}\n",
    "gs2 = GridSearchCV(rf, param_grid=rf_params, cv=3)\n",
    "gs2.fit(X_train, y_train)\n",
    "print(gs2.best_score_)\n",
    "gs2.best_params_"
   ]
  },
  {
   "cell_type": "code",
   "execution_count": 196,
   "id": "bd2d5556",
   "metadata": {},
   "outputs": [
    {
     "name": "stdout",
     "output_type": "stream",
     "text": [
      "R2 score on train set: 0.9311\n",
      "R2 score on test set: 0.5173\n",
      "RMSE score on train set: 7.93769\n",
      "RMSE score on test set: 15.9003\n"
     ]
    }
   ],
   "source": [
    "r2_train_2 = gs2.score(X_train, y_train)\n",
    "r2_test_2 = gs2.score(X_test, y_test)\n",
    "rmse_train_2 = mean_squared_error(y_train, gs2.predict(X_train), squared = False)\n",
    "rmse_test_2 = mean_squared_error(y_test, gs2.predict(X_test), squared = False)\n",
    "\n",
    "print(f'R2 score on train set: {round(r2_train_2,5)}')\n",
    "print(f'R2 score on test set: {round(r2_test_2,5)}')\n",
    "print(f'RMSE score on train set: {round(rmse_train_2,5)}')\n",
    "print(f'RMSE score on test set: {round(rmse_test_2,5)}')"
   ]
  },
  {
   "cell_type": "markdown",
   "id": "03b0164e",
   "metadata": {},
   "source": [
    "Model improved by a bit, but let's try XGBoost to see if we can get a better model"
   ]
  },
  {
   "cell_type": "markdown",
   "id": "7809d406",
   "metadata": {},
   "source": [
    "### XGBoost Model"
   ]
  },
  {
   "cell_type": "code",
   "execution_count": 197,
   "id": "54fdf755",
   "metadata": {},
   "outputs": [],
   "source": [
    "xgb = xg.XGBRegressor()"
   ]
  },
  {
   "cell_type": "code",
   "execution_count": 198,
   "id": "553440d9",
   "metadata": {},
   "outputs": [
    {
     "name": "stdout",
     "output_type": "stream",
     "text": [
      "0.3770442492197836\n"
     ]
    },
    {
     "data": {
      "text/plain": [
       "{'learning_rate': 0.3,\n",
       " 'n_estimators': 400,\n",
       " 'reg_alpha': 1,\n",
       " 'reg_lambda': 1000,\n",
       " 'subsample': 1}"
      ]
     },
     "execution_count": 198,
     "metadata": {},
     "output_type": "execute_result"
    }
   ],
   "source": [
    "xgb_params = {\n",
    "    'subsample' : [0.3, 0.5, 0.7, 0.9, 1],\n",
    "    'learning_rate' : [0.001, 0.01, 0.1, 0.3],\n",
    "    'n_estimators' : range(100,500,100),\n",
    "    'reg_lambda' : [50, 100, 1000, 10000],\n",
    "    'reg_alpha' : [0, 1, 10, 100, 1000]\n",
    "}\n",
    "gs3 = GridSearchCV(xgb, param_grid=xgb_params, cv=3)\n",
    "gs3.fit(X_train, y_train)\n",
    "print(gs3.best_score_)\n",
    "gs3.best_params_"
   ]
  },
  {
   "cell_type": "code",
   "execution_count": 199,
   "id": "5daa9210",
   "metadata": {},
   "outputs": [
    {
     "name": "stdout",
     "output_type": "stream",
     "text": [
      "R2 score on train set: 0.75825\n",
      "R2 score on test set: 0.55865\n",
      "RMSE score on train set: 14.86842\n",
      "RMSE score on test set: 15.20412\n"
     ]
    }
   ],
   "source": [
    "r2_train_3 = gs3.score(X_train, y_train)\n",
    "r2_test_3 = gs3.score(X_test, y_test)\n",
    "rmse_train_3 = mean_squared_error(y_train, gs3.predict(X_train), squared = False)\n",
    "rmse_test_3 = mean_squared_error(y_test, gs3.predict(X_test), squared = False)\n",
    "\n",
    "print(f'R2 score on train set: {round(r2_train_3,5)}')\n",
    "print(f'R2 score on test set: {round(r2_test_3,5)}')\n",
    "print(f'RMSE score on train set: {round(rmse_train_3,5)}')\n",
    "print(f'RMSE score on test set: {round(rmse_test_3,5)}')"
   ]
  },
  {
   "cell_type": "markdown",
   "id": "6e23c47c",
   "metadata": {},
   "source": [
    "Not fantastic, but lesser overfitting. Comparing all the models, the XGBoost is the best performing model."
   ]
  },
  {
   "cell_type": "code",
   "execution_count": 204,
   "id": "7083ba02",
   "metadata": {},
   "outputs": [],
   "source": [
    "test = pd.DataFrame({'feature':X.columns,'coefficient':gs3.best_estimator_.feature_importances_})"
   ]
  },
  {
   "cell_type": "code",
   "execution_count": 206,
   "id": "cc8a7592",
   "metadata": {},
   "outputs": [
    {
     "data": {
      "text/html": [
       "<div>\n",
       "<style scoped>\n",
       "    .dataframe tbody tr th:only-of-type {\n",
       "        vertical-align: middle;\n",
       "    }\n",
       "\n",
       "    .dataframe tbody tr th {\n",
       "        vertical-align: top;\n",
       "    }\n",
       "\n",
       "    .dataframe thead th {\n",
       "        text-align: right;\n",
       "    }\n",
       "</style>\n",
       "<table border=\"1\" class=\"dataframe\">\n",
       "  <thead>\n",
       "    <tr style=\"text-align: right;\">\n",
       "      <th></th>\n",
       "      <th>feature</th>\n",
       "      <th>coefficient</th>\n",
       "    </tr>\n",
       "  </thead>\n",
       "  <tbody>\n",
       "    <tr>\n",
       "      <th>49</th>\n",
       "      <td>region_Tengah</td>\n",
       "      <td>0.103890</td>\n",
       "    </tr>\n",
       "    <tr>\n",
       "      <th>39</th>\n",
       "      <td>region_Paya Lebar</td>\n",
       "      <td>0.072038</td>\n",
       "    </tr>\n",
       "    <tr>\n",
       "      <th>23</th>\n",
       "      <td>region_Chai Chee</td>\n",
       "      <td>0.044318</td>\n",
       "    </tr>\n",
       "    <tr>\n",
       "      <th>17</th>\n",
       "      <td>region_Ang Mo Kio</td>\n",
       "      <td>0.037927</td>\n",
       "    </tr>\n",
       "    <tr>\n",
       "      <th>48</th>\n",
       "      <td>region_Tai Seng</td>\n",
       "      <td>0.037785</td>\n",
       "    </tr>\n",
       "    <tr>\n",
       "      <th>44</th>\n",
       "      <td>region_Serangoon</td>\n",
       "      <td>0.033234</td>\n",
       "    </tr>\n",
       "    <tr>\n",
       "      <th>42</th>\n",
       "      <td>region_Seletar</td>\n",
       "      <td>0.032758</td>\n",
       "    </tr>\n",
       "    <tr>\n",
       "      <th>18</th>\n",
       "      <td>region_Botanic Garden</td>\n",
       "      <td>0.029379</td>\n",
       "    </tr>\n",
       "    <tr>\n",
       "      <th>24</th>\n",
       "      <td>region_Changi</td>\n",
       "      <td>0.029242</td>\n",
       "    </tr>\n",
       "    <tr>\n",
       "      <th>27</th>\n",
       "      <td>region_Dhoby Ghaut</td>\n",
       "      <td>0.026228</td>\n",
       "    </tr>\n",
       "  </tbody>\n",
       "</table>\n",
       "</div>"
      ],
      "text/plain": [
       "                  feature  coefficient\n",
       "49          region_Tengah     0.103890\n",
       "39      region_Paya Lebar     0.072038\n",
       "23       region_Chai Chee     0.044318\n",
       "17      region_Ang Mo Kio     0.037927\n",
       "48        region_Tai Seng     0.037785\n",
       "44       region_Serangoon     0.033234\n",
       "42         region_Seletar     0.032758\n",
       "18  region_Botanic Garden     0.029379\n",
       "24          region_Changi     0.029242\n",
       "27     region_Dhoby Ghaut     0.026228"
      ]
     },
     "execution_count": 206,
     "metadata": {},
     "output_type": "execute_result"
    }
   ],
   "source": [
    "test.sort_values(by = 'coefficient', ascending = False).head(10)"
   ]
  },
  {
   "cell_type": "markdown",
   "id": "f1457de0",
   "metadata": {},
   "source": [
    "Top 10 most important features to the model are the region features."
   ]
  },
  {
   "cell_type": "code",
   "execution_count": null,
   "id": "6f6d0a40",
   "metadata": {},
   "outputs": [],
   "source": []
  }
 ],
 "metadata": {
  "kernelspec": {
   "display_name": "Python 3 (ipykernel)",
   "language": "python",
   "name": "python3"
  },
  "language_info": {
   "codemirror_mode": {
    "name": "ipython",
    "version": 3
   },
   "file_extension": ".py",
   "mimetype": "text/x-python",
   "name": "python",
   "nbconvert_exporter": "python",
   "pygments_lexer": "ipython3",
   "version": "3.9.7"
  }
 },
 "nbformat": 4,
 "nbformat_minor": 5
}
