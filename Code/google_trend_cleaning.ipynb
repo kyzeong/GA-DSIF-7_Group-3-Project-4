{
 "cells": [
  {
   "cell_type": "code",
   "execution_count": 3,
   "metadata": {},
   "outputs": [],
   "source": [
    "import pandas as pd"
   ]
  },
  {
   "cell_type": "code",
   "execution_count": 4,
   "metadata": {},
   "outputs": [],
   "source": [
    "aedes = pd.read_csv('../Data/Trends/trend_aedes.csv')\n",
    "dengue = pd.read_csv('../Data/Trends/trend_dengue.csv')\n",
    "fever = pd.read_csv('../Data/Trends/trend_fever.csv')\n",
    "headache = pd.read_csv('../Data/Trends/trend_headache.csv')\n",
    "nosebleed = pd.read_csv('../Data/Trends/trend_nosebleed.csv')\n",
    "vomit = pd.read_csv('../Data/Trends/trend_vomit.csv')"
   ]
  },
  {
   "cell_type": "code",
   "execution_count": 5,
   "metadata": {},
   "outputs": [],
   "source": [
    "trends = [aedes,dengue,fever,headache,nosebleed,vomit]"
   ]
  },
  {
   "cell_type": "code",
   "execution_count": 6,
   "metadata": {},
   "outputs": [
    {
     "name": "stdout",
     "output_type": "stream",
     "text": [
      "(261, 1)\n",
      "(261, 1)\n",
      "(261, 1)\n",
      "(261, 1)\n",
      "(261, 1)\n",
      "(261, 1)\n"
     ]
    }
   ],
   "source": [
    "for trend in trends:\n",
    "    print (trend.shape)"
   ]
  },
  {
   "cell_type": "code",
   "execution_count": 7,
   "metadata": {},
   "outputs": [],
   "source": [
    "trend = pd.concat([aedes,dengue,fever,headache,nosebleed,vomit], axis=1)"
   ]
  },
  {
   "cell_type": "code",
   "execution_count": 8,
   "metadata": {},
   "outputs": [
    {
     "data": {
      "text/html": [
       "<div>\n",
       "<style scoped>\n",
       "    .dataframe tbody tr th:only-of-type {\n",
       "        vertical-align: middle;\n",
       "    }\n",
       "\n",
       "    .dataframe tbody tr th {\n",
       "        vertical-align: top;\n",
       "    }\n",
       "\n",
       "    .dataframe thead th {\n",
       "        text-align: right;\n",
       "    }\n",
       "</style>\n",
       "<table border=\"1\" class=\"dataframe\">\n",
       "  <thead>\n",
       "    <tr style=\"text-align: right;\">\n",
       "      <th></th>\n",
       "      <th>Category: All categories</th>\n",
       "      <th>Category: All categories</th>\n",
       "      <th>Category: All categories</th>\n",
       "      <th>Category: All categories</th>\n",
       "      <th>Category: All categories</th>\n",
       "      <th>Category: All categories</th>\n",
       "    </tr>\n",
       "  </thead>\n",
       "  <tbody>\n",
       "    <tr>\n",
       "      <th>Week</th>\n",
       "      <td>aedes: (Singapore)</td>\n",
       "      <td>Dengue: (Singapore)</td>\n",
       "      <td>fever: (Singapore)</td>\n",
       "      <td>headache: (Singapore)</td>\n",
       "      <td>Nosebleed: (Singapore)</td>\n",
       "      <td>vomit: (Singapore)</td>\n",
       "    </tr>\n",
       "    <tr>\n",
       "      <th>2017-12-24</th>\n",
       "      <td>16</td>\n",
       "      <td>7</td>\n",
       "      <td>44</td>\n",
       "      <td>66</td>\n",
       "      <td>35</td>\n",
       "      <td>83</td>\n",
       "    </tr>\n",
       "    <tr>\n",
       "      <th>2017-12-31</th>\n",
       "      <td>0</td>\n",
       "      <td>8</td>\n",
       "      <td>37</td>\n",
       "      <td>78</td>\n",
       "      <td>50</td>\n",
       "      <td>48</td>\n",
       "    </tr>\n",
       "    <tr>\n",
       "      <th>2018-01-07</th>\n",
       "      <td>14</td>\n",
       "      <td>11</td>\n",
       "      <td>42</td>\n",
       "      <td>57</td>\n",
       "      <td>18</td>\n",
       "      <td>65</td>\n",
       "    </tr>\n",
       "    <tr>\n",
       "      <th>2018-01-14</th>\n",
       "      <td>25</td>\n",
       "      <td>10</td>\n",
       "      <td>45</td>\n",
       "      <td>61</td>\n",
       "      <td>41</td>\n",
       "      <td>63</td>\n",
       "    </tr>\n",
       "  </tbody>\n",
       "</table>\n",
       "</div>"
      ],
      "text/plain": [
       "           Category: All categories Category: All categories  \\\n",
       "Week             aedes: (Singapore)      Dengue: (Singapore)   \n",
       "2017-12-24                       16                        7   \n",
       "2017-12-31                        0                        8   \n",
       "2018-01-07                       14                       11   \n",
       "2018-01-14                       25                       10   \n",
       "\n",
       "           Category: All categories Category: All categories  \\\n",
       "Week             fever: (Singapore)    headache: (Singapore)   \n",
       "2017-12-24                       44                       66   \n",
       "2017-12-31                       37                       78   \n",
       "2018-01-07                       42                       57   \n",
       "2018-01-14                       45                       61   \n",
       "\n",
       "           Category: All categories Category: All categories  \n",
       "Week         Nosebleed: (Singapore)       vomit: (Singapore)  \n",
       "2017-12-24                       35                       83  \n",
       "2017-12-31                       50                       48  \n",
       "2018-01-07                       18                       65  \n",
       "2018-01-14                       41                       63  "
      ]
     },
     "execution_count": 8,
     "metadata": {},
     "output_type": "execute_result"
    }
   ],
   "source": [
    "trend.head()"
   ]
  },
  {
   "cell_type": "code",
   "execution_count": 9,
   "metadata": {},
   "outputs": [],
   "source": [
    "trend.columns = ['aedes','dengue','fever','headache','nosebleed','vomit']"
   ]
  },
  {
   "cell_type": "code",
   "execution_count": 10,
   "metadata": {},
   "outputs": [
    {
     "data": {
      "text/html": [
       "<div>\n",
       "<style scoped>\n",
       "    .dataframe tbody tr th:only-of-type {\n",
       "        vertical-align: middle;\n",
       "    }\n",
       "\n",
       "    .dataframe tbody tr th {\n",
       "        vertical-align: top;\n",
       "    }\n",
       "\n",
       "    .dataframe thead th {\n",
       "        text-align: right;\n",
       "    }\n",
       "</style>\n",
       "<table border=\"1\" class=\"dataframe\">\n",
       "  <thead>\n",
       "    <tr style=\"text-align: right;\">\n",
       "      <th></th>\n",
       "      <th>aedes</th>\n",
       "      <th>dengue</th>\n",
       "      <th>fever</th>\n",
       "      <th>headache</th>\n",
       "      <th>nosebleed</th>\n",
       "      <th>vomit</th>\n",
       "    </tr>\n",
       "  </thead>\n",
       "  <tbody>\n",
       "    <tr>\n",
       "      <th>Week</th>\n",
       "      <td>aedes: (Singapore)</td>\n",
       "      <td>Dengue: (Singapore)</td>\n",
       "      <td>fever: (Singapore)</td>\n",
       "      <td>headache: (Singapore)</td>\n",
       "      <td>Nosebleed: (Singapore)</td>\n",
       "      <td>vomit: (Singapore)</td>\n",
       "    </tr>\n",
       "    <tr>\n",
       "      <th>2017-12-24</th>\n",
       "      <td>16</td>\n",
       "      <td>7</td>\n",
       "      <td>44</td>\n",
       "      <td>66</td>\n",
       "      <td>35</td>\n",
       "      <td>83</td>\n",
       "    </tr>\n",
       "    <tr>\n",
       "      <th>2017-12-31</th>\n",
       "      <td>0</td>\n",
       "      <td>8</td>\n",
       "      <td>37</td>\n",
       "      <td>78</td>\n",
       "      <td>50</td>\n",
       "      <td>48</td>\n",
       "    </tr>\n",
       "    <tr>\n",
       "      <th>2018-01-07</th>\n",
       "      <td>14</td>\n",
       "      <td>11</td>\n",
       "      <td>42</td>\n",
       "      <td>57</td>\n",
       "      <td>18</td>\n",
       "      <td>65</td>\n",
       "    </tr>\n",
       "    <tr>\n",
       "      <th>2018-01-14</th>\n",
       "      <td>25</td>\n",
       "      <td>10</td>\n",
       "      <td>45</td>\n",
       "      <td>61</td>\n",
       "      <td>41</td>\n",
       "      <td>63</td>\n",
       "    </tr>\n",
       "  </tbody>\n",
       "</table>\n",
       "</div>"
      ],
      "text/plain": [
       "                         aedes               dengue               fever  \\\n",
       "Week        aedes: (Singapore)  Dengue: (Singapore)  fever: (Singapore)   \n",
       "2017-12-24                  16                    7                  44   \n",
       "2017-12-31                   0                    8                  37   \n",
       "2018-01-07                  14                   11                  42   \n",
       "2018-01-14                  25                   10                  45   \n",
       "\n",
       "                         headache               nosebleed               vomit  \n",
       "Week        headache: (Singapore)  Nosebleed: (Singapore)  vomit: (Singapore)  \n",
       "2017-12-24                     66                      35                  83  \n",
       "2017-12-31                     78                      50                  48  \n",
       "2018-01-07                     57                      18                  65  \n",
       "2018-01-14                     61                      41                  63  "
      ]
     },
     "execution_count": 10,
     "metadata": {},
     "output_type": "execute_result"
    }
   ],
   "source": [
    "trend.head()"
   ]
  },
  {
   "cell_type": "code",
   "execution_count": 11,
   "metadata": {},
   "outputs": [],
   "source": [
    "trend = trend.iloc[1:,:]"
   ]
  },
  {
   "cell_type": "code",
   "execution_count": 12,
   "metadata": {},
   "outputs": [
    {
     "data": {
      "text/html": [
       "<div>\n",
       "<style scoped>\n",
       "    .dataframe tbody tr th:only-of-type {\n",
       "        vertical-align: middle;\n",
       "    }\n",
       "\n",
       "    .dataframe tbody tr th {\n",
       "        vertical-align: top;\n",
       "    }\n",
       "\n",
       "    .dataframe thead th {\n",
       "        text-align: right;\n",
       "    }\n",
       "</style>\n",
       "<table border=\"1\" class=\"dataframe\">\n",
       "  <thead>\n",
       "    <tr style=\"text-align: right;\">\n",
       "      <th></th>\n",
       "      <th>aedes</th>\n",
       "      <th>dengue</th>\n",
       "      <th>fever</th>\n",
       "      <th>headache</th>\n",
       "      <th>nosebleed</th>\n",
       "      <th>vomit</th>\n",
       "    </tr>\n",
       "  </thead>\n",
       "  <tbody>\n",
       "    <tr>\n",
       "      <th>2017-12-24</th>\n",
       "      <td>16</td>\n",
       "      <td>7</td>\n",
       "      <td>44</td>\n",
       "      <td>66</td>\n",
       "      <td>35</td>\n",
       "      <td>83</td>\n",
       "    </tr>\n",
       "    <tr>\n",
       "      <th>2017-12-31</th>\n",
       "      <td>0</td>\n",
       "      <td>8</td>\n",
       "      <td>37</td>\n",
       "      <td>78</td>\n",
       "      <td>50</td>\n",
       "      <td>48</td>\n",
       "    </tr>\n",
       "    <tr>\n",
       "      <th>2018-01-07</th>\n",
       "      <td>14</td>\n",
       "      <td>11</td>\n",
       "      <td>42</td>\n",
       "      <td>57</td>\n",
       "      <td>18</td>\n",
       "      <td>65</td>\n",
       "    </tr>\n",
       "    <tr>\n",
       "      <th>2018-01-14</th>\n",
       "      <td>25</td>\n",
       "      <td>10</td>\n",
       "      <td>45</td>\n",
       "      <td>61</td>\n",
       "      <td>41</td>\n",
       "      <td>63</td>\n",
       "    </tr>\n",
       "    <tr>\n",
       "      <th>2018-01-21</th>\n",
       "      <td>51</td>\n",
       "      <td>15</td>\n",
       "      <td>47</td>\n",
       "      <td>60</td>\n",
       "      <td>76</td>\n",
       "      <td>44</td>\n",
       "    </tr>\n",
       "  </tbody>\n",
       "</table>\n",
       "</div>"
      ],
      "text/plain": [
       "           aedes dengue fever headache nosebleed vomit\n",
       "2017-12-24    16      7    44       66        35    83\n",
       "2017-12-31     0      8    37       78        50    48\n",
       "2018-01-07    14     11    42       57        18    65\n",
       "2018-01-14    25     10    45       61        41    63\n",
       "2018-01-21    51     15    47       60        76    44"
      ]
     },
     "execution_count": 12,
     "metadata": {},
     "output_type": "execute_result"
    }
   ],
   "source": [
    "trend.head()"
   ]
  },
  {
   "cell_type": "code",
   "execution_count": 13,
   "metadata": {},
   "outputs": [],
   "source": [
    "trend.to_csv('../Data/google_trends.csv')"
   ]
  },
  {
   "cell_type": "code",
   "execution_count": null,
   "metadata": {},
   "outputs": [],
   "source": []
  }
 ],
 "metadata": {
  "kernelspec": {
   "display_name": "Python 3.10.7 64-bit (microsoft store)",
   "language": "python",
   "name": "python3"
  },
  "language_info": {
   "codemirror_mode": {
    "name": "ipython",
    "version": 3
   },
   "file_extension": ".py",
   "mimetype": "text/x-python",
   "name": "python",
   "nbconvert_exporter": "python",
   "pygments_lexer": "ipython3",
   "version": "3.10.9"
  },
  "orig_nbformat": 4,
  "vscode": {
   "interpreter": {
    "hash": "e19db1e9da599290b8ff42b0f8e8323be965d18c8fa7c16db7240545f8fbedb0"
   }
  }
 },
 "nbformat": 4,
 "nbformat_minor": 2
}
