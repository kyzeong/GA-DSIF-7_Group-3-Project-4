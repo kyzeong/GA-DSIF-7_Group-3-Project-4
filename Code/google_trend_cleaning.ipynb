{
 "cells": [
  {
   "cell_type": "code",
   "execution_count": 72,
   "metadata": {},
   "outputs": [],
   "source": [
    "# Import libraries\n",
    "import pandas as pd"
   ]
  },
  {
   "cell_type": "code",
   "execution_count": 73,
   "metadata": {},
   "outputs": [],
   "source": [
    "# Read Google Trend data\n",
    "aedes = pd.read_csv('../Data/Trends/trend_aedes.csv')\n",
    "dengue = pd.read_csv('../Data/Trends/trend_dengue.csv')\n",
    "fever = pd.read_csv('../Data/Trends/trend_fever.csv')\n",
    "headache = pd.read_csv('../Data/Trends/trend_headache.csv')\n",
    "nosebleed = pd.read_csv('../Data/Trends/trend_nosebleed.csv')\n",
    "vomit = pd.read_csv('../Data/Trends/trend_vomit.csv')"
   ]
  },
  {
   "cell_type": "code",
   "execution_count": 74,
   "metadata": {},
   "outputs": [],
   "source": [
    "# Function to rename the date column and set it to index\n",
    "def indexing (df):\n",
    "    df.rename(columns={'Category: All categories': 'date'}, inplace=True)\n",
    "    df.set_index('date', inplace=True)\n",
    "    return df"
   ]
  },
  {
   "cell_type": "code",
   "execution_count": 75,
   "metadata": {},
   "outputs": [],
   "source": [
    "# List of Google Trend data\n",
    "trends = [aedes,dengue,fever,headache,nosebleed,vomit]"
   ]
  },
  {
   "cell_type": "code",
   "execution_count": 76,
   "metadata": {},
   "outputs": [
    {
     "name": "stdout",
     "output_type": "stream",
     "text": [
      "(365, 1)\n",
      "(365, 1)\n",
      "(365, 1)\n",
      "(365, 1)\n",
      "(365, 1)\n",
      "(365, 1)\n"
     ]
    }
   ],
   "source": [
    "# Rename column and set date to index for all the Google Trend data\n",
    "for trend in trends:\n",
    "    trend = indexing(trend)\n",
    "    print (trend.shape)"
   ]
  },
  {
   "cell_type": "code",
   "execution_count": 77,
   "metadata": {},
   "outputs": [],
   "source": [
    "# Concatenate the data into a single dataframe\n",
    "trend = pd.concat([aedes,dengue,fever,headache,nosebleed,vomit], axis=1)"
   ]
  },
  {
   "cell_type": "code",
   "execution_count": 78,
   "metadata": {},
   "outputs": [
    {
     "data": {
      "text/html": [
       "<div>\n",
       "<style scoped>\n",
       "    .dataframe tbody tr th:only-of-type {\n",
       "        vertical-align: middle;\n",
       "    }\n",
       "\n",
       "    .dataframe tbody tr th {\n",
       "        vertical-align: top;\n",
       "    }\n",
       "\n",
       "    .dataframe thead th {\n",
       "        text-align: right;\n",
       "    }\n",
       "</style>\n",
       "<table border=\"1\" class=\"dataframe\">\n",
       "  <thead>\n",
       "    <tr style=\"text-align: right;\">\n",
       "      <th></th>\n",
       "      <th>Unnamed: 1</th>\n",
       "      <th>Unnamed: 1</th>\n",
       "      <th>Unnamed: 1</th>\n",
       "      <th>Unnamed: 1</th>\n",
       "      <th>Unnamed: 1</th>\n",
       "      <th>Unnamed: 1</th>\n",
       "    </tr>\n",
       "    <tr>\n",
       "      <th>date</th>\n",
       "      <th></th>\n",
       "      <th></th>\n",
       "      <th></th>\n",
       "      <th></th>\n",
       "      <th></th>\n",
       "      <th></th>\n",
       "    </tr>\n",
       "  </thead>\n",
       "  <tbody>\n",
       "    <tr>\n",
       "      <th>NaN</th>\n",
       "      <td>NaN</td>\n",
       "      <td>NaN</td>\n",
       "      <td>NaN</td>\n",
       "      <td>NaN</td>\n",
       "      <td>NaN</td>\n",
       "      <td>NaN</td>\n",
       "    </tr>\n",
       "    <tr>\n",
       "      <th>Week</th>\n",
       "      <td>aedes: (Singapore)</td>\n",
       "      <td>Dengue: (Singapore)</td>\n",
       "      <td>fever: (Singapore)</td>\n",
       "      <td>headache: (Singapore)</td>\n",
       "      <td>Nosebleed: (Singapore)</td>\n",
       "      <td>vomit: (Singapore)</td>\n",
       "    </tr>\n",
       "    <tr>\n",
       "      <th>3/1/2016</th>\n",
       "      <td>0</td>\n",
       "      <td>78</td>\n",
       "      <td>75</td>\n",
       "      <td>81</td>\n",
       "      <td>0</td>\n",
       "      <td>42</td>\n",
       "    </tr>\n",
       "    <tr>\n",
       "      <th>10/1/2016</th>\n",
       "      <td>6</td>\n",
       "      <td>74</td>\n",
       "      <td>77</td>\n",
       "      <td>76</td>\n",
       "      <td>0</td>\n",
       "      <td>40</td>\n",
       "    </tr>\n",
       "    <tr>\n",
       "      <th>17/1/2016</th>\n",
       "      <td>13</td>\n",
       "      <td>68</td>\n",
       "      <td>88</td>\n",
       "      <td>79</td>\n",
       "      <td>48</td>\n",
       "      <td>70</td>\n",
       "    </tr>\n",
       "  </tbody>\n",
       "</table>\n",
       "</div>"
      ],
      "text/plain": [
       "                   Unnamed: 1           Unnamed: 1          Unnamed: 1  \\\n",
       "date                                                                     \n",
       "NaN                       NaN                  NaN                 NaN   \n",
       "Week       aedes: (Singapore)  Dengue: (Singapore)  fever: (Singapore)   \n",
       "3/1/2016                    0                   78                  75   \n",
       "10/1/2016                   6                   74                  77   \n",
       "17/1/2016                  13                   68                  88   \n",
       "\n",
       "                      Unnamed: 1              Unnamed: 1          Unnamed: 1  \n",
       "date                                                                          \n",
       "NaN                          NaN                     NaN                 NaN  \n",
       "Week       headache: (Singapore)  Nosebleed: (Singapore)  vomit: (Singapore)  \n",
       "3/1/2016                      81                       0                  42  \n",
       "10/1/2016                     76                       0                  40  \n",
       "17/1/2016                     79                      48                  70  "
      ]
     },
     "execution_count": 78,
     "metadata": {},
     "output_type": "execute_result"
    }
   ],
   "source": [
    "# Display the concatenated dataframe\n",
    "trend.head()"
   ]
  },
  {
   "cell_type": "code",
   "execution_count": 79,
   "metadata": {},
   "outputs": [],
   "source": [
    "# Rename columns and remove the first 2 empty rows\n",
    "trend.columns = ['aedes','dengue','fever','headache','nosebleed','vomit']\n",
    "trend = trend.iloc[2:,:]"
   ]
  },
  {
   "cell_type": "code",
   "execution_count": 80,
   "metadata": {},
   "outputs": [
    {
     "data": {
      "text/html": [
       "<div>\n",
       "<style scoped>\n",
       "    .dataframe tbody tr th:only-of-type {\n",
       "        vertical-align: middle;\n",
       "    }\n",
       "\n",
       "    .dataframe tbody tr th {\n",
       "        vertical-align: top;\n",
       "    }\n",
       "\n",
       "    .dataframe thead th {\n",
       "        text-align: right;\n",
       "    }\n",
       "</style>\n",
       "<table border=\"1\" class=\"dataframe\">\n",
       "  <thead>\n",
       "    <tr style=\"text-align: right;\">\n",
       "      <th></th>\n",
       "      <th>aedes</th>\n",
       "      <th>dengue</th>\n",
       "      <th>fever</th>\n",
       "      <th>headache</th>\n",
       "      <th>nosebleed</th>\n",
       "      <th>vomit</th>\n",
       "    </tr>\n",
       "    <tr>\n",
       "      <th>date</th>\n",
       "      <th></th>\n",
       "      <th></th>\n",
       "      <th></th>\n",
       "      <th></th>\n",
       "      <th></th>\n",
       "      <th></th>\n",
       "    </tr>\n",
       "  </thead>\n",
       "  <tbody>\n",
       "    <tr>\n",
       "      <th>3/1/2016</th>\n",
       "      <td>0</td>\n",
       "      <td>78</td>\n",
       "      <td>75</td>\n",
       "      <td>81</td>\n",
       "      <td>0</td>\n",
       "      <td>42</td>\n",
       "    </tr>\n",
       "    <tr>\n",
       "      <th>10/1/2016</th>\n",
       "      <td>6</td>\n",
       "      <td>74</td>\n",
       "      <td>77</td>\n",
       "      <td>76</td>\n",
       "      <td>0</td>\n",
       "      <td>40</td>\n",
       "    </tr>\n",
       "    <tr>\n",
       "      <th>17/1/2016</th>\n",
       "      <td>13</td>\n",
       "      <td>68</td>\n",
       "      <td>88</td>\n",
       "      <td>79</td>\n",
       "      <td>48</td>\n",
       "      <td>70</td>\n",
       "    </tr>\n",
       "    <tr>\n",
       "      <th>24/1/2016</th>\n",
       "      <td>41</td>\n",
       "      <td>94</td>\n",
       "      <td>91</td>\n",
       "      <td>68</td>\n",
       "      <td>30</td>\n",
       "      <td>58</td>\n",
       "    </tr>\n",
       "    <tr>\n",
       "      <th>31/1/2016</th>\n",
       "      <td>23</td>\n",
       "      <td>85</td>\n",
       "      <td>96</td>\n",
       "      <td>52</td>\n",
       "      <td>31</td>\n",
       "      <td>56</td>\n",
       "    </tr>\n",
       "  </tbody>\n",
       "</table>\n",
       "</div>"
      ],
      "text/plain": [
       "          aedes dengue fever headache nosebleed vomit\n",
       "date                                                 \n",
       "3/1/2016      0     78    75       81         0    42\n",
       "10/1/2016     6     74    77       76         0    40\n",
       "17/1/2016    13     68    88       79        48    70\n",
       "24/1/2016    41     94    91       68        30    58\n",
       "31/1/2016    23     85    96       52        31    56"
      ]
     },
     "execution_count": 80,
     "metadata": {},
     "output_type": "execute_result"
    }
   ],
   "source": [
    "# Display\n",
    "trend.head()"
   ]
  },
  {
   "cell_type": "code",
   "execution_count": 81,
   "metadata": {},
   "outputs": [],
   "source": [
    "# Export to google_trends.csv\n",
    "trend.to_csv('../Data/google_trends.csv')"
   ]
  }
 ],
 "metadata": {
  "kernelspec": {
   "display_name": "Python 3.10.7 64-bit (microsoft store)",
   "language": "python",
   "name": "python3"
  },
  "language_info": {
   "codemirror_mode": {
    "name": "ipython",
    "version": 3
   },
   "file_extension": ".py",
   "mimetype": "text/x-python",
   "name": "python",
   "nbconvert_exporter": "python",
   "pygments_lexer": "ipython3",
   "version": "3.10.9"
  },
  "orig_nbformat": 4,
  "vscode": {
   "interpreter": {
    "hash": "e19db1e9da599290b8ff42b0f8e8323be965d18c8fa7c16db7240545f8fbedb0"
   }
  }
 },
 "nbformat": 4,
 "nbformat_minor": 2
}
