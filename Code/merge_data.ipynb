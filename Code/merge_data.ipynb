{
 "cells": [
  {
   "cell_type": "code",
   "execution_count": 214,
   "metadata": {},
   "outputs": [],
   "source": [
    "import pandas as pd\n",
    "import numpy as np"
   ]
  },
  {
   "cell_type": "code",
   "execution_count": 215,
   "metadata": {},
   "outputs": [
    {
     "data": {
      "text/plain": [
       "(4996, 3)"
      ]
     },
     "execution_count": 215,
     "metadata": {},
     "output_type": "execute_result"
    }
   ],
   "source": [
    "dengue = pd.read_csv('../Data/dengue_cases_region_final.csv')\n",
    "dengue.shape"
   ]
  },
  {
   "cell_type": "code",
   "execution_count": 216,
   "metadata": {},
   "outputs": [
    {
     "data": {
      "text/html": [
       "<div>\n",
       "<style scoped>\n",
       "    .dataframe tbody tr th:only-of-type {\n",
       "        vertical-align: middle;\n",
       "    }\n",
       "\n",
       "    .dataframe tbody tr th {\n",
       "        vertical-align: top;\n",
       "    }\n",
       "\n",
       "    .dataframe thead th {\n",
       "        text-align: right;\n",
       "    }\n",
       "</style>\n",
       "<table border=\"1\" class=\"dataframe\">\n",
       "  <thead>\n",
       "    <tr style=\"text-align: right;\">\n",
       "      <th></th>\n",
       "      <th>region</th>\n",
       "      <th>recent_cases</th>\n",
       "      <th>date</th>\n",
       "    </tr>\n",
       "  </thead>\n",
       "  <tbody>\n",
       "    <tr>\n",
       "      <th>0</th>\n",
       "      <td>Admiralty</td>\n",
       "      <td>5</td>\n",
       "      <td>2013-11-24</td>\n",
       "    </tr>\n",
       "    <tr>\n",
       "      <th>1</th>\n",
       "      <td>Admiralty</td>\n",
       "      <td>6</td>\n",
       "      <td>2013-12-01</td>\n",
       "    </tr>\n",
       "    <tr>\n",
       "      <th>2</th>\n",
       "      <td>Admiralty</td>\n",
       "      <td>8</td>\n",
       "      <td>2013-12-15</td>\n",
       "    </tr>\n",
       "    <tr>\n",
       "      <th>3</th>\n",
       "      <td>Admiralty</td>\n",
       "      <td>5</td>\n",
       "      <td>2013-12-22</td>\n",
       "    </tr>\n",
       "    <tr>\n",
       "      <th>4</th>\n",
       "      <td>Admiralty</td>\n",
       "      <td>3</td>\n",
       "      <td>2013-12-29</td>\n",
       "    </tr>\n",
       "  </tbody>\n",
       "</table>\n",
       "</div>"
      ],
      "text/plain": [
       "      region  recent_cases        date\n",
       "0  Admiralty             5  2013-11-24\n",
       "1  Admiralty             6  2013-12-01\n",
       "2  Admiralty             8  2013-12-15\n",
       "3  Admiralty             5  2013-12-22\n",
       "4  Admiralty             3  2013-12-29"
      ]
     },
     "execution_count": 216,
     "metadata": {},
     "output_type": "execute_result"
    }
   ],
   "source": [
    "dengue.head()"
   ]
  },
  {
   "cell_type": "code",
   "execution_count": 217,
   "metadata": {},
   "outputs": [],
   "source": [
    "dengue.date = pd.to_datetime(dengue.date)\n",
    "dengue.set_index('date', inplace=True)"
   ]
  },
  {
   "cell_type": "code",
   "execution_count": 218,
   "metadata": {},
   "outputs": [
    {
     "data": {
      "text/plain": [
       "41"
      ]
     },
     "execution_count": 218,
     "metadata": {},
     "output_type": "execute_result"
    }
   ],
   "source": [
    "regions = list(dengue.region.unique())\n",
    "len(regions)"
   ]
  },
  {
   "cell_type": "code",
   "execution_count": 219,
   "metadata": {},
   "outputs": [],
   "source": [
    "def split_df (dataframe, region):\n",
    "    df = pd.DataFrame(dataframe[dataframe['region']==region]['recent_cases'])\n",
    "    #df.rename(columns = {'recent_cases':'cases'+'_'+str(region).lower()}, inplace=True)\n",
    "    df = df.groupby('date').sum()\n",
    "    df['region'] = region\n",
    "    return df"
   ]
  },
  {
   "cell_type": "code",
   "execution_count": 220,
   "metadata": {},
   "outputs": [],
   "source": [
    "dengues = pd.DataFrame()\n",
    "for r in regions:\n",
    "    d = split_df(dengue, r)\n",
    "    dengues = pd.concat([dengues, d], axis=0)"
   ]
  },
  {
   "cell_type": "code",
   "execution_count": 221,
   "metadata": {},
   "outputs": [],
   "source": [
    "dengues=dengues.reset_index()\n",
    "dengues['date'] = dengues['date'].astype(str)"
   ]
  },
  {
   "cell_type": "code",
   "execution_count": 222,
   "metadata": {},
   "outputs": [],
   "source": [
    "trends = pd.read_csv('../Data/google_trends.csv')\n",
    "weather = pd.read_csv('../Data/weather.csv')"
   ]
  },
  {
   "cell_type": "code",
   "execution_count": 223,
   "metadata": {},
   "outputs": [],
   "source": [
    "trends.rename(columns={'Unnamed: 0': 'date'}, inplace=True)"
   ]
  },
  {
   "cell_type": "code",
   "execution_count": 224,
   "metadata": {},
   "outputs": [
    {
     "data": {
      "text/html": [
       "<div>\n",
       "<style scoped>\n",
       "    .dataframe tbody tr th:only-of-type {\n",
       "        vertical-align: middle;\n",
       "    }\n",
       "\n",
       "    .dataframe tbody tr th {\n",
       "        vertical-align: top;\n",
       "    }\n",
       "\n",
       "    .dataframe thead th {\n",
       "        text-align: right;\n",
       "    }\n",
       "</style>\n",
       "<table border=\"1\" class=\"dataframe\">\n",
       "  <thead>\n",
       "    <tr style=\"text-align: right;\">\n",
       "      <th></th>\n",
       "      <th>date</th>\n",
       "      <th>aedes</th>\n",
       "      <th>dengue</th>\n",
       "      <th>fever</th>\n",
       "      <th>headache</th>\n",
       "      <th>nosebleed</th>\n",
       "      <th>vomit</th>\n",
       "    </tr>\n",
       "  </thead>\n",
       "  <tbody>\n",
       "    <tr>\n",
       "      <th>0</th>\n",
       "      <td>2017-12-24</td>\n",
       "      <td>16</td>\n",
       "      <td>7</td>\n",
       "      <td>44</td>\n",
       "      <td>66</td>\n",
       "      <td>35</td>\n",
       "      <td>83</td>\n",
       "    </tr>\n",
       "    <tr>\n",
       "      <th>1</th>\n",
       "      <td>2017-12-31</td>\n",
       "      <td>0</td>\n",
       "      <td>8</td>\n",
       "      <td>37</td>\n",
       "      <td>78</td>\n",
       "      <td>50</td>\n",
       "      <td>48</td>\n",
       "    </tr>\n",
       "    <tr>\n",
       "      <th>2</th>\n",
       "      <td>2018-01-07</td>\n",
       "      <td>14</td>\n",
       "      <td>11</td>\n",
       "      <td>42</td>\n",
       "      <td>57</td>\n",
       "      <td>18</td>\n",
       "      <td>65</td>\n",
       "    </tr>\n",
       "    <tr>\n",
       "      <th>3</th>\n",
       "      <td>2018-01-14</td>\n",
       "      <td>25</td>\n",
       "      <td>10</td>\n",
       "      <td>45</td>\n",
       "      <td>61</td>\n",
       "      <td>41</td>\n",
       "      <td>63</td>\n",
       "    </tr>\n",
       "    <tr>\n",
       "      <th>4</th>\n",
       "      <td>2018-01-21</td>\n",
       "      <td>51</td>\n",
       "      <td>15</td>\n",
       "      <td>47</td>\n",
       "      <td>60</td>\n",
       "      <td>76</td>\n",
       "      <td>44</td>\n",
       "    </tr>\n",
       "  </tbody>\n",
       "</table>\n",
       "</div>"
      ],
      "text/plain": [
       "         date  aedes  dengue  fever  headache  nosebleed  vomit\n",
       "0  2017-12-24     16       7     44        66         35     83\n",
       "1  2017-12-31      0       8     37        78         50     48\n",
       "2  2018-01-07     14      11     42        57         18     65\n",
       "3  2018-01-14     25      10     45        61         41     63\n",
       "4  2018-01-21     51      15     47        60         76     44"
      ]
     },
     "execution_count": 224,
     "metadata": {},
     "output_type": "execute_result"
    }
   ],
   "source": [
    "trends.head()"
   ]
  },
  {
   "cell_type": "code",
   "execution_count": 225,
   "metadata": {},
   "outputs": [
    {
     "data": {
      "text/html": [
       "<div>\n",
       "<style scoped>\n",
       "    .dataframe tbody tr th:only-of-type {\n",
       "        vertical-align: middle;\n",
       "    }\n",
       "\n",
       "    .dataframe tbody tr th {\n",
       "        vertical-align: top;\n",
       "    }\n",
       "\n",
       "    .dataframe thead th {\n",
       "        text-align: right;\n",
       "    }\n",
       "</style>\n",
       "<table border=\"1\" class=\"dataframe\">\n",
       "  <thead>\n",
       "    <tr style=\"text-align: right;\">\n",
       "      <th></th>\n",
       "      <th>date</th>\n",
       "      <th>daily_rainfall_total</th>\n",
       "      <th>highest_30_min_rainfall</th>\n",
       "      <th>highest_60_min_rainfall</th>\n",
       "      <th>highest_120_min_rainfall</th>\n",
       "      <th>mean_temperature</th>\n",
       "      <th>maximum_temperature</th>\n",
       "      <th>minimum_temperature</th>\n",
       "      <th>mean_wind_speed</th>\n",
       "      <th>max_wind_speed</th>\n",
       "      <th>...</th>\n",
       "      <th>region</th>\n",
       "      <th>daily_rainfall_total_14</th>\n",
       "      <th>highest_30_min_rainfall_14</th>\n",
       "      <th>highest_60_min_rainfall_14</th>\n",
       "      <th>highest_120_min_rainfall_14</th>\n",
       "      <th>mean_temperature_14</th>\n",
       "      <th>maximum_temperature_14</th>\n",
       "      <th>minimum_temperature_14</th>\n",
       "      <th>mean_wind_speed_14</th>\n",
       "      <th>max_wind_speed_14</th>\n",
       "    </tr>\n",
       "  </thead>\n",
       "  <tbody>\n",
       "    <tr>\n",
       "      <th>0</th>\n",
       "      <td>2022-10-01</td>\n",
       "      <td>22.6</td>\n",
       "      <td>18.6</td>\n",
       "      <td>21.4</td>\n",
       "      <td>21.4</td>\n",
       "      <td>26.8</td>\n",
       "      <td>31.8</td>\n",
       "      <td>24.4</td>\n",
       "      <td>6.0</td>\n",
       "      <td>27.8</td>\n",
       "      <td>...</td>\n",
       "      <td>Admiralty</td>\n",
       "      <td>NaN</td>\n",
       "      <td>NaN</td>\n",
       "      <td>NaN</td>\n",
       "      <td>NaN</td>\n",
       "      <td>NaN</td>\n",
       "      <td>NaN</td>\n",
       "      <td>NaN</td>\n",
       "      <td>NaN</td>\n",
       "      <td>NaN</td>\n",
       "    </tr>\n",
       "    <tr>\n",
       "      <th>1</th>\n",
       "      <td>2022-10-02</td>\n",
       "      <td>16.4</td>\n",
       "      <td>13.2</td>\n",
       "      <td>14.2</td>\n",
       "      <td>16.0</td>\n",
       "      <td>27.1</td>\n",
       "      <td>32.6</td>\n",
       "      <td>23.0</td>\n",
       "      <td>5.8</td>\n",
       "      <td>24.4</td>\n",
       "      <td>...</td>\n",
       "      <td>Admiralty</td>\n",
       "      <td>NaN</td>\n",
       "      <td>NaN</td>\n",
       "      <td>NaN</td>\n",
       "      <td>NaN</td>\n",
       "      <td>NaN</td>\n",
       "      <td>NaN</td>\n",
       "      <td>NaN</td>\n",
       "      <td>NaN</td>\n",
       "      <td>NaN</td>\n",
       "    </tr>\n",
       "    <tr>\n",
       "      <th>2</th>\n",
       "      <td>2022-10-03</td>\n",
       "      <td>44.2</td>\n",
       "      <td>18.6</td>\n",
       "      <td>33.4</td>\n",
       "      <td>39.6</td>\n",
       "      <td>26.3</td>\n",
       "      <td>31.8</td>\n",
       "      <td>23.1</td>\n",
       "      <td>5.7</td>\n",
       "      <td>52.6</td>\n",
       "      <td>...</td>\n",
       "      <td>Admiralty</td>\n",
       "      <td>NaN</td>\n",
       "      <td>NaN</td>\n",
       "      <td>NaN</td>\n",
       "      <td>NaN</td>\n",
       "      <td>NaN</td>\n",
       "      <td>NaN</td>\n",
       "      <td>NaN</td>\n",
       "      <td>NaN</td>\n",
       "      <td>NaN</td>\n",
       "    </tr>\n",
       "    <tr>\n",
       "      <th>3</th>\n",
       "      <td>2022-10-04</td>\n",
       "      <td>1.4</td>\n",
       "      <td>1.0</td>\n",
       "      <td>1.2</td>\n",
       "      <td>1.2</td>\n",
       "      <td>26.2</td>\n",
       "      <td>31.2</td>\n",
       "      <td>24.5</td>\n",
       "      <td>6.3</td>\n",
       "      <td>36.3</td>\n",
       "      <td>...</td>\n",
       "      <td>Admiralty</td>\n",
       "      <td>NaN</td>\n",
       "      <td>NaN</td>\n",
       "      <td>NaN</td>\n",
       "      <td>NaN</td>\n",
       "      <td>NaN</td>\n",
       "      <td>NaN</td>\n",
       "      <td>NaN</td>\n",
       "      <td>NaN</td>\n",
       "      <td>NaN</td>\n",
       "    </tr>\n",
       "    <tr>\n",
       "      <th>4</th>\n",
       "      <td>2022-10-05</td>\n",
       "      <td>49.2</td>\n",
       "      <td>17.6</td>\n",
       "      <td>29.2</td>\n",
       "      <td>44.8</td>\n",
       "      <td>26.0</td>\n",
       "      <td>28.6</td>\n",
       "      <td>22.8</td>\n",
       "      <td>7.2</td>\n",
       "      <td>33.5</td>\n",
       "      <td>...</td>\n",
       "      <td>Admiralty</td>\n",
       "      <td>NaN</td>\n",
       "      <td>NaN</td>\n",
       "      <td>NaN</td>\n",
       "      <td>NaN</td>\n",
       "      <td>NaN</td>\n",
       "      <td>NaN</td>\n",
       "      <td>NaN</td>\n",
       "      <td>NaN</td>\n",
       "      <td>NaN</td>\n",
       "    </tr>\n",
       "  </tbody>\n",
       "</table>\n",
       "<p>5 rows × 21 columns</p>\n",
       "</div>"
      ],
      "text/plain": [
       "         date  daily_rainfall_total  highest_30_min_rainfall  \\\n",
       "0  2022-10-01                  22.6                     18.6   \n",
       "1  2022-10-02                  16.4                     13.2   \n",
       "2  2022-10-03                  44.2                     18.6   \n",
       "3  2022-10-04                   1.4                      1.0   \n",
       "4  2022-10-05                  49.2                     17.6   \n",
       "\n",
       "   highest_60_min_rainfall  highest_120_min_rainfall  mean_temperature  \\\n",
       "0                     21.4                      21.4              26.8   \n",
       "1                     14.2                      16.0              27.1   \n",
       "2                     33.4                      39.6              26.3   \n",
       "3                      1.2                       1.2              26.2   \n",
       "4                     29.2                      44.8              26.0   \n",
       "\n",
       "   maximum_temperature  minimum_temperature  mean_wind_speed  max_wind_speed  \\\n",
       "0                 31.8                 24.4              6.0            27.8   \n",
       "1                 32.6                 23.0              5.8            24.4   \n",
       "2                 31.8                 23.1              5.7            52.6   \n",
       "3                 31.2                 24.5              6.3            36.3   \n",
       "4                 28.6                 22.8              7.2            33.5   \n",
       "\n",
       "   ...     region daily_rainfall_total_14  highest_30_min_rainfall_14  \\\n",
       "0  ...  Admiralty                     NaN                         NaN   \n",
       "1  ...  Admiralty                     NaN                         NaN   \n",
       "2  ...  Admiralty                     NaN                         NaN   \n",
       "3  ...  Admiralty                     NaN                         NaN   \n",
       "4  ...  Admiralty                     NaN                         NaN   \n",
       "\n",
       "   highest_60_min_rainfall_14  highest_120_min_rainfall_14  \\\n",
       "0                         NaN                          NaN   \n",
       "1                         NaN                          NaN   \n",
       "2                         NaN                          NaN   \n",
       "3                         NaN                          NaN   \n",
       "4                         NaN                          NaN   \n",
       "\n",
       "   mean_temperature_14  maximum_temperature_14  minimum_temperature_14  \\\n",
       "0                  NaN                     NaN                     NaN   \n",
       "1                  NaN                     NaN                     NaN   \n",
       "2                  NaN                     NaN                     NaN   \n",
       "3                  NaN                     NaN                     NaN   \n",
       "4                  NaN                     NaN                     NaN   \n",
       "\n",
       "   mean_wind_speed_14  max_wind_speed_14  \n",
       "0                 NaN                NaN  \n",
       "1                 NaN                NaN  \n",
       "2                 NaN                NaN  \n",
       "3                 NaN                NaN  \n",
       "4                 NaN                NaN  \n",
       "\n",
       "[5 rows x 21 columns]"
      ]
     },
     "execution_count": 225,
     "metadata": {},
     "output_type": "execute_result"
    }
   ],
   "source": [
    "weather.head()"
   ]
  },
  {
   "cell_type": "code",
   "execution_count": 226,
   "metadata": {},
   "outputs": [],
   "source": [
    "new_df = pd.merge(weather, trends, how ='left',on=['date'])\n",
    "new_df = pd.merge(new_df, dengues, how ='left', on=['date','region'])"
   ]
  },
  {
   "cell_type": "code",
   "execution_count": 227,
   "metadata": {},
   "outputs": [
    {
     "name": "stdout",
     "output_type": "stream",
     "text": [
      "<class 'pandas.core.frame.DataFrame'>\n",
      "Int64Index: 130926 entries, 0 to 130925\n",
      "Data columns (total 28 columns):\n",
      " #   Column                       Non-Null Count   Dtype  \n",
      "---  ------                       --------------   -----  \n",
      " 0   date                         130926 non-null  object \n",
      " 1   daily_rainfall_total         130926 non-null  float64\n",
      " 2   highest_30_min_rainfall      130926 non-null  float64\n",
      " 3   highest_60_min_rainfall      130926 non-null  float64\n",
      " 4   highest_120_min_rainfall     130926 non-null  float64\n",
      " 5   mean_temperature             130926 non-null  float64\n",
      " 6   maximum_temperature          130926 non-null  float64\n",
      " 7   minimum_temperature          130926 non-null  float64\n",
      " 8   mean_wind_speed              130926 non-null  float64\n",
      " 9   max_wind_speed               130926 non-null  float64\n",
      " 10  year                         130926 non-null  int64  \n",
      " 11  region                       130926 non-null  object \n",
      " 12  daily_rainfall_total_14      130913 non-null  float64\n",
      " 13  highest_30_min_rainfall_14   130913 non-null  float64\n",
      " 14  highest_60_min_rainfall_14   130913 non-null  float64\n",
      " 15  highest_120_min_rainfall_14  130913 non-null  float64\n",
      " 16  mean_temperature_14          130913 non-null  float64\n",
      " 17  maximum_temperature_14       130913 non-null  float64\n",
      " 18  minimum_temperature_14       130913 non-null  float64\n",
      " 19  mean_wind_speed_14           130913 non-null  float64\n",
      " 20  max_wind_speed_14            130913 non-null  float64\n",
      " 21  aedes                        13520 non-null   float64\n",
      " 22  dengue                       13520 non-null   float64\n",
      " 23  fever                        13520 non-null   float64\n",
      " 24  headache                     13520 non-null   float64\n",
      " 25  nosebleed                    13520 non-null   float64\n",
      " 26  vomit                        13520 non-null   float64\n",
      " 27  recent_cases                 2166 non-null    float64\n",
      "dtypes: float64(25), int64(1), object(2)\n",
      "memory usage: 29.0+ MB\n"
     ]
    }
   ],
   "source": [
    "new_df.info()"
   ]
  },
  {
   "cell_type": "code",
   "execution_count": 229,
   "metadata": {},
   "outputs": [],
   "source": [
    "new_df.to_csv('../Data/merged_data.csv')"
   ]
  },
  {
   "cell_type": "code",
   "execution_count": null,
   "metadata": {},
   "outputs": [],
   "source": []
  }
 ],
 "metadata": {
  "kernelspec": {
   "display_name": "Python 3.10.7 64-bit (microsoft store)",
   "language": "python",
   "name": "python3"
  },
  "language_info": {
   "codemirror_mode": {
    "name": "ipython",
    "version": 3
   },
   "file_extension": ".py",
   "mimetype": "text/x-python",
   "name": "python",
   "nbconvert_exporter": "python",
   "pygments_lexer": "ipython3",
   "version": "3.10.9"
  },
  "orig_nbformat": 4,
  "vscode": {
   "interpreter": {
    "hash": "e19db1e9da599290b8ff42b0f8e8323be965d18c8fa7c16db7240545f8fbedb0"
   }
  }
 },
 "nbformat": 4,
 "nbformat_minor": 2
}
