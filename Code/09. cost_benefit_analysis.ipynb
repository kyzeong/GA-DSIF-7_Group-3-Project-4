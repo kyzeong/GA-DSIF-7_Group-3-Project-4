{
 "cells": [
  {
   "cell_type": "markdown",
   "id": "a23cf61b",
   "metadata": {},
   "source": [
    "### Fumigation Cost\n",
    "---"
   ]
  },
  {
   "cell_type": "markdown",
   "id": "ce27f80e",
   "metadata": {},
   "source": [
    "Taking sample from four town's councils' tender for provision of mosquito, it seems like a three year contract cost around one million SGD.<br><br>\n",
    "In Singapore, each town council (GRC) consist on average 5 estates.<br><br>\n",
    "We assume that the vendor is expected to perform the fumigation twice a month, which tallies with NEA's logic of collecting fornightly case number.<br><br>\n",
    "The estimated cost of one fumigation session for one estate will the work out to about SGD2,778."
   ]
  },
  {
   "cell_type": "markdown",
   "id": "9acfd92e",
   "metadata": {},
   "source": [
    "|                                                                                    \t|                                     \t|\n",
    "|------------------------------------------------------------------------------------\t|-------------------------------------\t|\n",
    "|              Each Town Council 3-years Mosquito Contract Average Cost              \t|            SGD 1,000,000            \t|\n",
    "| Each town council (GRC) consists on average 5 estates. Hence, cost for each estate \t|   SGD 1,000,000 / 5 = SGD 200,000   \t|\n",
    "|      Assume fumigation twice a month (fortnightly) Cost per fumigation session     \t| SGD 200,000 / 36 / 2 = SGD 2,777,78 \t|"
   ]
  },
  {
   "cell_type": "markdown",
   "id": "a3e208e3",
   "metadata": {},
   "source": [
    "### Treatment Cost\n",
    "---"
   ]
  },
  {
   "cell_type": "markdown",
   "id": "f6a0fa62",
   "metadata": {},
   "source": [
    "In a notice published by MOH, it stated that before Government subsidy, a dengue blood test could cost about SGD 70 - SGD 80 at a General Practitioner (GP) clinic, and about SGD 50 - SGD 60 at a polyclinic.<br>\n",
    "\n",
    "|       Type of Clinic      \t| Dengue Blood Test Cost (SGD) \t|\n",
    "|:-------------------------:\t|:----------------------:\t|\n",
    "| General Practitioner (GP) \t|        70 - 80       \t|\n",
    "|         Polyclinic        \t|       50 - 60       \t|\n",
    "\n",
    "Given that the queue at polyclinics are usually very long, we assume that individuals go to clinics once they have dengue symptoms.<br>\n",
    "We will take the median cost, that SGD 75 for adengue blood test.<br><br>\n",
    "\n",
    "In addition, a regular consultation in clinics cost about SGD 20 to SGD 55.<br>\n",
    "Taking the median again, we assume the cost of consultation to be SGD 37.50.<br><br>\n",
    "\n",
    "The total cost for dengue treatment will add up to SGD 112.50.<br>\n",
    "\n",
    "| Treatment Service \t| Cost (SGD) \t|\n",
    "|:-----------------:\t|:----------:\t|\n",
    "| Blood Test        \t| 75         \t|\n",
    "| Consultation      \t| 37.5       \t|\n",
    "|     **Total**     \t|  **112.5** \t|"
   ]
  },
  {
   "cell_type": "markdown",
   "id": "ad8a9a75",
   "metadata": {},
   "source": [
    "### Breakeven Number of Cases\n",
    "---"
   ]
  },
  {
   "cell_type": "markdown",
   "id": "2eb48c63",
   "metadata": {},
   "source": [
    "The breakeven number of dengue for fumigation would therefore be:<br>\n",
    "SGD2,778 / SGD 112.50 = 25 cases\n",
    "\n",
    "|             Items             \t| Cost (SGD) \t|\n",
    "|:-----------------------------:\t|:----------:\t|\n",
    "| Fumigation (every two weeks)  \t| 2,778      \t|\n",
    "| Treatment                     \t| 112.5      \t|\n",
    "| **Breakeven number of cases** \t|   **25**   \t|\n"
   ]
  },
  {
   "cell_type": "markdown",
   "id": "01d99825",
   "metadata": {},
   "source": [
    "### Top 10 Regions where more than 25 cases per fortnight were recorded\n",
    "---"
   ]
  },
  {
   "cell_type": "markdown",
   "id": "0f849c83",
   "metadata": {},
   "source": [
    "|    \t|               \t|                   \t|\n",
    "|----\t|---------------\t|-------------------\t|\n",
    "| #  \t|  region       \t|  no_of_fortnights \t|\n",
    "|  1 \t| Chai Chee     \t|         56        \t|\n",
    "|  2 \t| Ang Mo Kio    \t|         50        \t|\n",
    "|  3 \t| Buangkok      \t|         35        \t|\n",
    "|  4 \t| Serangoon     \t|         35        \t|\n",
    "|  5 \t| Tai Seng      \t|         35        \t|\n",
    "|  6 \t| Bukit Panjang \t|         30        \t|\n",
    "|  7 \t| Jurong (West) \t|         20        \t|\n",
    "|  8 \t| Toa Payoh     \t|         20        \t|\n",
    "|  9 \t| Admiralty     \t|         17        \t|\n",
    "| 10 \t| Simei         \t|         16        \t|"
   ]
  },
  {
   "cell_type": "markdown",
   "id": "3af183c2",
   "metadata": {},
   "source": [
    "### Top 10 Regions with Highest Average Case per Fortnight\n",
    "---"
   ]
  },
  {
   "cell_type": "markdown",
   "id": "92ba26c9",
   "metadata": {},
   "source": [
    "|    \t|                 \t|              \t|           \t|\n",
    "|----\t|-----------------\t|--------------\t|-----------\t|\n",
    "| #  \t|  region         \t|  total_cases \t|  avg_case \t|\n",
    "|  1 \t| Ang Mo Kio      \t|       3345.0 \t|     35.59 \t|\n",
    "|  2 \t| Chai Chee       \t|       4793.0 \t|     34.24 \t|\n",
    "|  3 \t| Serangoon       \t|       2732.0 \t|     31.77 \t|\n",
    "|  4 \t| Tai Seng        \t|       2860.0 \t|     28.04 \t|\n",
    "|  5 \t| Toa Payoh       \t|       1804.0 \t|     23.43 \t|\n",
    "|  6 \t| Bukit Panjang   \t|       2131.0 \t|      20.1 \t|\n",
    "|  7 \t| Buangkok        \t|       2764.0 \t|     18.07 \t|\n",
    "|  8 \t| Admiralty       \t|       1837.0 \t|     16.85 \t|\n",
    "|  9 \t| Somerset (Road) \t|        176.0 \t|      16.0 \t|\n",
    "| 10 \t| Marine Parade   \t|       1058.0 \t|     15.79 \t|"
   ]
  },
  {
   "cell_type": "markdown",
   "id": "31ca2a3d",
   "metadata": {},
   "source": [
    "*Source:*<br>\n",
    "1. [Marine Parade Town Council Tender](https://www.mptc.org.sg/TenderResult)\n",
    "2. [Bishan-Toa Payoh Town Council Tender](https://www.btptc.org.sg/Resources/Documents/1702fdb4f2674c26905c104ae88ce66c.pdf)\n",
    "3. [Choa Chu Kang Town Council Tender](https://www.ccktc.org.sg/wp-content/uploads/2022/04/CCKTC-TC-22-6911.pdf)\n",
    "4. [Sembawang Town Council Tender](https://sbtc.org.sg/bo/web/upload/images/2APTR-BM-22-012-SB-R1672285420.pdf)\n",
    "5. [Dengue Fever: How Much Treatment And Insurance Costs In Singapore](https://www.womensweekly.com.sg/beauty-and-health/dengue-fever-symptoms-prevention-treatment-costs/)\n",
    "6. [Difference In Cost of Testing For Dengue Fever At Chas Clinics, Polyclinics And Private Clinics](https://www.moh.gov.sg/news-highlights/details/difference-in-cost-of-testing-for-dengue-fever-at-chas-clinics-polyclinics-and-private-clinics/)"
   ]
  }
 ],
 "metadata": {
  "kernelspec": {
   "display_name": "Python 3 (ipykernel)",
   "language": "python",
   "name": "python3"
  },
  "language_info": {
   "codemirror_mode": {
    "name": "ipython",
    "version": 3
   },
   "file_extension": ".py",
   "mimetype": "text/x-python",
   "name": "python",
   "nbconvert_exporter": "python",
   "pygments_lexer": "ipython3",
   "version": "3.9.12"
  }
 },
 "nbformat": 4,
 "nbformat_minor": 5
}
