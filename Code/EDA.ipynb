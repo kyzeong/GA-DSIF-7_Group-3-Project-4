{
 "cells": [
  {
   "cell_type": "markdown",
   "id": "ff8e83b4",
   "metadata": {},
   "source": [
    "## Data Dictionary\n",
    "---"
   ]
  },
  {
   "cell_type": "markdown",
   "id": "a1c223e3",
   "metadata": {},
   "source": [
    "|Feature|Type|Dataset|Description|\n",
    "|:---|:---|:---|:---|\n",
    "|**date**|*datetime*|weather|Date when the records were taken| \n",
    "|**daily_rainfall_total**|*float*|weather|Total daily rainfall in mm|\n",
    "|**highest_30_min_rainfall**|*float*|weather|Highest 30min rainfall in mm|\n",
    "|**highest_60_min_rainfall**|*float*|weather|Highest 60min rainfall in mm|\n",
    "|**highest_120_min_rainfall**|*float*|weather|Highest 120min rainfall in mm|\n",
    "|**mean_temperature**|*float*|weather|Mean temperature in °C|\n",
    "|**maximum_temperature**|*float*|weather|Maximum temperature in °C|\n",
    "|**minimum_temperature**|*float*|weather|Minimum temperature in °C|\n",
    "|**mean_wind_speed**|*float*|weather|Mean wind speed in km/h|\n",
    "|**max_wind_speed**|*float*|weather|Maximum wind speed in km/h|\n",
    "|**year**|*float*|weather|Year when the records were taken|\n",
    "|**region**|*string*|weather|Region where the records were taken|"
   ]
  },
  {
   "cell_type": "code",
   "execution_count": null,
   "id": "73a46ca2",
   "metadata": {},
   "outputs": [],
   "source": []
  }
 ],
 "metadata": {
  "kernelspec": {
   "display_name": "Python 3 (ipykernel)",
   "language": "python",
   "name": "python3"
  },
  "language_info": {
   "codemirror_mode": {
    "name": "ipython",
    "version": 3
   },
   "file_extension": ".py",
   "mimetype": "text/x-python",
   "name": "python",
   "nbconvert_exporter": "python",
   "pygments_lexer": "ipython3",
   "version": "3.9.12"
  }
 },
 "nbformat": 4,
 "nbformat_minor": 5
}
