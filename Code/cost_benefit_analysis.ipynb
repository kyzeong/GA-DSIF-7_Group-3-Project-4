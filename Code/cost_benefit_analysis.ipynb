{
 "cells": [
  {
   "cell_type": "markdown",
   "id": "a23cf61b",
   "metadata": {},
   "source": [
    "### Fumigation Cost\n",
    "---"
   ]
  },
  {
   "cell_type": "markdown",
   "id": "ce27f80e",
   "metadata": {},
   "source": [
    "Taking sample from four town's councils' tender for provision of mosquito, it seems like a three year contract cost around one million SGD.<br>\n",
    "We assume that the vendor is expected to perform the fumigation twice a month, which tallies with NEA's logic of collecting fornightly case number.<br>\n",
    "The estimated cost of one fumigation session will the work out to about SGD13,889."
   ]
  },
  {
   "cell_type": "markdown",
   "id": "a3e208e3",
   "metadata": {},
   "source": [
    "### Treatment Cost\n",
    "---"
   ]
  },
  {
   "cell_type": "markdown",
   "id": "f6a0fa62",
   "metadata": {},
   "source": [
    "In a notice published by MOH, it stated that before Government subsidy, a dengue blood test could cost about SGD 70 - SGD 80 at a General Practitioner (GP) clinic, and about SGD 50 - SGD 60 at a polyclinic.<br>\n",
    "Given that the queue at polyclinics are usually very long, we assume that individuals go to clinics once they have dengue symptoms.<br>\n",
    "We will take the median cost, that $75 for adengue blood test.<br>\n",
    "In addition, a regular consultation in clinics cost about SGD 20 to SGD 55.<br>\n",
    "Taking the median again, we assume the cost of consultation to be SGD 37.50.<br>\n",
    "The total cost for dengue treatment will add up to SGD 112.50."
   ]
  },
  {
   "cell_type": "markdown",
   "id": "ad8a9a75",
   "metadata": {},
   "source": [
    "### Breakeven Number of Cases\n",
    "---"
   ]
  },
  {
   "cell_type": "markdown",
   "id": "2eb48c63",
   "metadata": {},
   "source": [
    "The breakeven number of dengue for fumigation would therefore be:\n",
    "\n",
    "SGD13,889 / SGD 112.50 = 123 cases"
   ]
  }
 ],
 "metadata": {
  "kernelspec": {
   "display_name": "Python 3 (ipykernel)",
   "language": "python",
   "name": "python3"
  },
  "language_info": {
   "codemirror_mode": {
    "name": "ipython",
    "version": 3
   },
   "file_extension": ".py",
   "mimetype": "text/x-python",
   "name": "python",
   "nbconvert_exporter": "python",
   "pygments_lexer": "ipython3",
   "version": "3.9.12"
  }
 },
 "nbformat": 4,
 "nbformat_minor": 5
}
