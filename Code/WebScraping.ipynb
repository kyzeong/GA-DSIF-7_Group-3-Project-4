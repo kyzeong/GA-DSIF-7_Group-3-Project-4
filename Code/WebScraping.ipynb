{
 "cells": [
  {
   "cell_type": "code",
   "execution_count": 11,
   "metadata": {},
   "outputs": [],
   "source": [
    "from selenium import webdriver\n",
    "from selenium.webdriver.common.keys import Keys\n",
    "from bs4 import BeautifulSoup\n",
    "import time\n",
    "import re\n",
    "import requests \n",
    "import pandas as pd\n",
    "import pickle"
   ]
  },
  {
   "cell_type": "code",
   "execution_count": 12,
   "metadata": {},
   "outputs": [
    {
     "name": "stderr",
     "output_type": "stream",
     "text": [
      "C:\\Users\\Zeonice\\AppData\\Local\\Temp\\ipykernel_19660\\514275029.py:1: DeprecationWarning: executable_path has been deprecated, please pass in a Service object\n",
      "  driver = webdriver.Chrome('../Code/chromedriver')\n"
     ]
    }
   ],
   "source": [
    "driver = webdriver.Chrome('../Code/chromedriver')"
   ]
  },
  {
   "cell_type": "code",
   "execution_count": 13,
   "metadata": {},
   "outputs": [],
   "source": [
    "def get_html_table_as_df(table_xpath,df_in, year, region_in):\n",
    "    '''This saves a html table as a df. \n",
    "    Rmb to create an empty df to save the data to before executing this function. \n",
    "    If the df to save the data to is not empty, this function appends cases'''\n",
    "    table_html = driver.find_element('xpath',table_xpath).get_attribute('outerHTML')\n",
    "    data_table = pd.read_html(table_html)\n",
    "    df_out = data_table[0]\n",
    "    df_out['year'] = year\n",
    "    df_out['region'] = region_in\n",
    "    df_in = pd.concat([df_in,df_out])\n",
    "    time.sleep(1)\n",
    "    return df_in "
   ]
  },
  {
   "cell_type": "code",
   "execution_count": 14,
   "metadata": {},
   "outputs": [],
   "source": [
    "mss_url = 'http://www.weather.gov.sg/climate-historical-daily/'\n",
    "driver.get(mss_url)\n",
    "time.sleep(1)"
   ]
  },
  {
   "cell_type": "code",
   "execution_count": 15,
   "metadata": {},
   "outputs": [],
   "source": [
    "def button_dropdown_option_loop(option_xpath_id, number_of_options, display_button_xpath, \n",
    "                                table_xpath, df_to_save, year, region_in):\n",
    "    '''This function selects the button and clicks on each option in order, starting from the top.\n",
    "    Diplay button is then clicked to display the table below, and saves the table as a df'''\n",
    "    for option in range(1,number_of_options+1):\n",
    "        try:\n",
    "            driver.find_element('xpath',option_xpath_id).click()\n",
    "            driver.find_element('xpath',option_xpath_id+'/ul/li['+str(option)+']/a').click()\n",
    "            driver.find_element('xpath',display_button_xpath).click()\n",
    "            time.sleep(1)\n",
    "            df_to_save = get_html_table_as_df(table_xpath, df_to_save, year, region_in) \n",
    "            time.sleep(1)\n",
    "        except Exception:\n",
    "            pass\n",
    "    return df_to_save"
   ]
  },
  {
   "cell_type": "code",
   "execution_count": 16,
   "metadata": {},
   "outputs": [],
   "source": [
    "def button_dropdown_option(option_xpath_id, option_index, display_button_xpath):\n",
    "    '''This function selects the button and clicks on a specific option.\n",
    "    Index[1] is the first option from the top. \n",
    "    Diplay button is then clicked to display the table below'''\n",
    "    driver.find_element('xpath',option_xpath_id).click()\n",
    "    driver.find_element('xpath',option_xpath_id+'/ul/li['+str(option_index)+']/a').click()\n",
    "    driver.find_element('xpath',display_button_xpath).click()\n",
    "    time.sleep(1)"
   ]
  },
  {
   "cell_type": "code",
   "execution_count": 17,
   "metadata": {},
   "outputs": [],
   "source": [
    "month_option_xpath_id = '//*[@id=\"monthDiv\"]'\n",
    "display_button_xpath = '//*[@id=\"display\"]'\n",
    "year_option_xpath_id = '//*[@id=\"yearDiv\"]'\n",
    "city_option_xpath_id = '/html/body/div/div/div[3]/div[1]/div[1]/div/div'\n",
    "month_number_xpath_id = '//*[@id=\"monthDiv\"]/ul/li[1]'\n",
    "\n",
    "table_xpath = '//*[@id=\"temp\"]/h4[2]/div/div/table'"
   ]
  },
  {
   "cell_type": "code",
   "execution_count": 18,
   "metadata": {},
   "outputs": [],
   "source": [
    "res = requests.get(mss_url)\n",
    "soup = BeautifulSoup(res.content, 'lxml')"
   ]
  },
  {
   "cell_type": "code",
   "execution_count": 19,
   "metadata": {},
   "outputs": [
    {
     "data": {
      "text/plain": [
       "63"
      ]
     },
     "execution_count": 19,
     "metadata": {},
     "output_type": "execute_result"
    }
   ],
   "source": [
    "regions=[]\n",
    "table = soup.find('ul', {'class': 'dropdown-menu long-dropdown'})\n",
    "for list_item in table.find_all('li'):\n",
    "    regions.append(list_item.text)\n",
    "    \n",
    "len(regions)"
   ]
  },
  {
   "cell_type": "code",
   "execution_count": 20,
   "metadata": {},
   "outputs": [
    {
     "name": "stdout",
     "output_type": "stream",
     "text": [
      "Admiralty\n",
      "Admiralty West\n",
      "Ang Mo Kio\n",
      "Boon Lay (East)\n",
      "Boon Lay (West)\n",
      "Botanic Garden\n",
      "Buangkok\n",
      "Bukit Panjang\n",
      "Bukit Timah\n",
      "Buona Vista\n",
      "Chai Chee\n",
      "Changi\n",
      "Choa Chu Kang (Central)\n",
      "Choa Chu Kang (South)\n",
      "Choa Chu Kang (West)\n",
      "Clementi\n",
      "Dhoby Ghaut\n",
      "East Coast Parkway\n",
      "Jurong (East)\n",
      "Jurong (North)\n",
      "Jurong (West)\n",
      "Jurong Island\n",
      "Jurong Pier\n",
      "Kampong Bahru\n",
      "Kent Ridge\n",
      "Khatib\n",
      "Kranji Reservoir\n",
      "Lim Chu Kang\n",
      "Lower Peirce Reservoir\n",
      "Macritchie Reservoir\n",
      "Mandai\n",
      "Marina Barrage\n"
     ]
    }
   ],
   "source": [
    "df_weather1 = pd.DataFrame()\n",
    "for i in range (1,33):\n",
    "    button_dropdown_option(city_option_xpath_id, i, display_button_xpath)\n",
    "    region = regions[i-1]\n",
    "    print (region)\n",
    "    for y in range (1, 7):\n",
    "        button_dropdown_option(year_option_xpath_id,y,display_button_xpath)\n",
    "        #years_list=[]\n",
    "        #years = soup.find_all('ul', {'class': 'dropdown-menu'})\n",
    "        #for year_item in years[3].find_all('li'):\n",
    "        #    years_list.append(year_item)\n",
    "        years_list = driver.find_elements('xpath','//*[@id=\"yearDiv\"]/ul')\n",
    "        for item in years_list:\n",
    "            target = item.find_element('xpath','//*[@id=\"yearDiv\"]/ul/li['+str(y)+']')\n",
    "            attrib_year=target.get_attribute('innerHTML')\n",
    "        year = re.search(r'(?<=\\\"\\>)(.+)(?=\\<\\/)', attrib_year).group()\n",
    "        df_weather1 = button_dropdown_option_loop(month_option_xpath_id, 12, display_button_xpath, table_xpath, df_weather1, year, region)\n",
    "            "
   ]
  },
  {
   "cell_type": "code",
   "execution_count": 21,
   "metadata": {},
   "outputs": [],
   "source": [
    "df_weather1.to_csv('../Data/df_weather1.csv')"
   ]
  },
  {
   "cell_type": "code",
   "execution_count": 22,
   "metadata": {},
   "outputs": [
    {
     "name": "stdout",
     "output_type": "stream",
     "text": [
      "Marine Parade\n",
      "2022\n",
      "2021\n",
      "2020\n",
      "2019\n",
      "2018\n",
      "2017\n",
      "Newton\n",
      "2022\n",
      "2021\n",
      "2020\n",
      "2019\n",
      "2018\n",
      "2017\n",
      "Nicoll Highway\n",
      "2022\n",
      "2021\n",
      "2020\n",
      "2019\n",
      "2018\n",
      "2017\n",
      "Pasir Panjang\n",
      "2022\n",
      "2021\n",
      "2020\n",
      "2019\n",
      "2018\n",
      "2017\n",
      "Pasir Ris (Central)\n",
      "2022\n",
      "2021\n",
      "2020\n",
      "2019\n",
      "2018\n",
      "2017\n",
      "Pasir Ris (West)\n",
      "2022\n",
      "2021\n",
      "2020\n",
      "2019\n",
      "2018\n",
      "2017\n",
      "Paya Lebar\n",
      "2022\n",
      "2021\n",
      "2020\n",
      "2019\n",
      "2018\n",
      "2017\n",
      "Pulau Ubin\n",
      "2022\n",
      "2021\n",
      "2020\n",
      "2019\n",
      "2018\n",
      "2017\n",
      "Punggol\n",
      "2022\n",
      "2021\n",
      "2020\n",
      "2019\n",
      "2018\n",
      "2017\n",
      "Queenstown\n",
      "2022\n",
      "2021\n",
      "2020\n",
      "2019\n",
      "2018\n",
      "2017\n",
      "Seletar\n",
      "2022\n",
      "2021\n",
      "2020\n",
      "2019\n",
      "2018\n",
      "2017\n",
      "Semakau Island\n",
      "2022\n",
      "2021\n",
      "2020\n",
      "2019\n",
      "2018\n",
      "2017\n",
      "Sembawang\n",
      "2022\n",
      "2021\n",
      "2020\n",
      "2019\n",
      "2018\n",
      "2017\n",
      "Sentosa Island\n",
      "2022\n",
      "2021\n",
      "2020\n",
      "2019\n",
      "2018\n",
      "2017\n",
      "Serangoon\n",
      "2022\n",
      "2021\n",
      "2020\n",
      "2019\n",
      "2018\n",
      "2017\n",
      "Serangoon North\n",
      "2017\n",
      "2016\n",
      "2015\n",
      "2014\n",
      "2013\n",
      "2012\n",
      "Simei\n",
      "2022\n",
      "2021\n",
      "2020\n",
      "2019\n",
      "2018\n",
      "2017\n",
      "Somerset (Road)\n",
      "2022\n",
      "2021\n",
      "2020\n",
      "2019\n",
      "2018\n",
      "2017\n",
      "Tai Seng\n",
      "2022\n",
      "2021\n",
      "2020\n",
      "2019\n",
      "2018\n",
      "2017\n",
      "Tanjong Katong\n",
      "2022\n",
      "2021\n",
      "2020\n",
      "2019\n",
      "2018\n",
      "2017\n",
      "Tanjong Pagar\n",
      "2015\n",
      "2014\n",
      "2013\n",
      "2012\n",
      "2011\n",
      "2010\n",
      "Tengah\n",
      "2022\n",
      "2021\n",
      "2020\n",
      "2019\n",
      "2018\n",
      "2017\n",
      "Toa Payoh\n",
      "2022\n",
      "2021\n",
      "2020\n",
      "2019\n",
      "2018\n",
      "2017\n",
      "Tuas\n",
      "2022\n",
      "2021\n",
      "2020\n",
      "2019\n",
      "2018\n",
      "2017\n",
      "Tuas South\n",
      "2022\n",
      "2021\n",
      "2020\n",
      "2019\n",
      "2018\n",
      "2017\n",
      "Tuas West\n",
      "2022\n",
      "2021\n",
      "2020\n",
      "2019\n",
      "2018\n",
      "2017\n",
      "Ulu Pandan\n",
      "2022\n",
      "2021\n",
      "2020\n",
      "2019\n",
      "2018\n",
      "2017\n",
      "Upper Peirce Reservoir\n",
      "2022\n",
      "2021\n",
      "2020\n",
      "2019\n",
      "2018\n",
      "2017\n",
      "Upper Thomson\n",
      "2021\n",
      "2020\n",
      "2019\n",
      "2018\n",
      "2017\n",
      "2016\n",
      "Whampoa\n",
      "2022\n",
      "2021\n",
      "2020\n",
      "2019\n",
      "2018\n",
      "2017\n",
      "Yishun\n",
      "2021\n",
      "2020\n",
      "2019\n",
      "2018\n",
      "2017\n",
      "2016\n"
     ]
    }
   ],
   "source": [
    "df_weather2 = pd.DataFrame()\n",
    "for i in range (33,len(regions)+1):\n",
    "    button_dropdown_option(city_option_xpath_id, i, display_button_xpath)\n",
    "    region = regions[i-1]\n",
    "    print (region)\n",
    "    for y in range (1, 7):\n",
    "        button_dropdown_option(year_option_xpath_id,y,display_button_xpath)\n",
    "        #years_list=[]\n",
    "        #years = soup.find_all('ul', {'class': 'dropdown-menu'})\n",
    "        #for year_item in years[3].find_all('li'):\n",
    "        #    years_list.append(year_item)\n",
    "        years_list = driver.find_elements('xpath','//*[@id=\"yearDiv\"]/ul')\n",
    "        for item in years_list:\n",
    "            target = item.find_element('xpath','//*[@id=\"yearDiv\"]/ul/li['+str(y)+']')\n",
    "            attrib_year=target.get_attribute('innerHTML')\n",
    "        year = re.search(r'(?<=\\\"\\>)(.+)(?=\\<\\/)', attrib_year).group()\n",
    "        df_weather2 = button_dropdown_option_loop(month_option_xpath_id, 12, display_button_xpath, table_xpath, df_weather2, year, region)"
   ]
  },
  {
   "cell_type": "code",
   "execution_count": 23,
   "metadata": {},
   "outputs": [],
   "source": [
    "df_weather2.to_csv('../Data/df_weather2.csv')"
   ]
  },
  {
   "cell_type": "code",
   "execution_count": 24,
   "metadata": {},
   "outputs": [
    {
     "data": {
      "text/plain": [
       "(66426, 12)"
      ]
     },
     "execution_count": 24,
     "metadata": {},
     "output_type": "execute_result"
    }
   ],
   "source": [
    "df_weather1.shape"
   ]
  },
  {
   "cell_type": "code",
   "execution_count": 25,
   "metadata": {},
   "outputs": [
    {
     "data": {
      "text/plain": [
       "(64744, 12)"
      ]
     },
     "execution_count": 25,
     "metadata": {},
     "output_type": "execute_result"
    }
   ],
   "source": [
    "df_weather2.shape"
   ]
  },
  {
   "cell_type": "code",
   "execution_count": null,
   "metadata": {},
   "outputs": [],
   "source": []
  }
 ],
 "metadata": {
  "kernelspec": {
   "display_name": "Python 3.10.7 64-bit (microsoft store)",
   "language": "python",
   "name": "python3"
  },
  "language_info": {
   "codemirror_mode": {
    "name": "ipython",
    "version": 3
   },
   "file_extension": ".py",
   "mimetype": "text/x-python",
   "name": "python",
   "nbconvert_exporter": "python",
   "pygments_lexer": "ipython3",
   "version": "3.10.8"
  },
  "orig_nbformat": 4,
  "vscode": {
   "interpreter": {
    "hash": "e19db1e9da599290b8ff42b0f8e8323be965d18c8fa7c16db7240545f8fbedb0"
   }
  }
 },
 "nbformat": 4,
 "nbformat_minor": 2
}
