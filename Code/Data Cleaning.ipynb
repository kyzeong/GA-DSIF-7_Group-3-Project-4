{
 "cells": [
  {
   "cell_type": "code",
   "execution_count": 1,
   "id": "52f64c2b",
   "metadata": {},
   "outputs": [
    {
     "name": "stderr",
     "output_type": "stream",
     "text": [
      "C:\\Users\\ng_li\\anaconda3\\lib\\site-packages\\scipy\\__init__.py:146: UserWarning: A NumPy version >=1.16.5 and <1.23.0 is required for this version of SciPy (detected version 1.23.5\n",
      "  warnings.warn(f\"A NumPy version >={np_minversion} and <{np_maxversion}\"\n"
     ]
    }
   ],
   "source": [
    "# import libraries\n",
    "import numpy as np\n",
    "import pandas as pd\n",
    "import matplotlib.pyplot as plt\n",
    "import statsmodels.api as sm\n",
    "import seaborn as sns\n",
    "from datetime import datetime"
   ]
  },
  {
   "cell_type": "code",
   "execution_count": 2,
   "id": "b65951a4",
   "metadata": {
    "scrolled": true
   },
   "outputs": [
    {
     "data": {
      "text/html": [
       "<div>\n",
       "<style scoped>\n",
       "    .dataframe tbody tr th:only-of-type {\n",
       "        vertical-align: middle;\n",
       "    }\n",
       "\n",
       "    .dataframe tbody tr th {\n",
       "        vertical-align: top;\n",
       "    }\n",
       "\n",
       "    .dataframe thead th {\n",
       "        text-align: right;\n",
       "    }\n",
       "</style>\n",
       "<table border=\"1\" class=\"dataframe\">\n",
       "  <thead>\n",
       "    <tr style=\"text-align: right;\">\n",
       "      <th></th>\n",
       "      <th>Unnamed: 0</th>\n",
       "      <th>Date</th>\n",
       "      <th>Daily Rainfall Total (mm)</th>\n",
       "      <th>Highest 30-min Rainfall (mm)</th>\n",
       "      <th>Highest 60-min Rainfall (mm)</th>\n",
       "      <th>Highest 120-min Rainfall (mm)</th>\n",
       "      <th>Mean Temperature (°C)</th>\n",
       "      <th>Maximum Temperature (°C)</th>\n",
       "      <th>Minimum Temperature (°C)</th>\n",
       "      <th>Mean Wind Speed (km/h)</th>\n",
       "      <th>Max Wind Speed (km/h)</th>\n",
       "      <th>year</th>\n",
       "      <th>region</th>\n",
       "    </tr>\n",
       "  </thead>\n",
       "  <tbody>\n",
       "    <tr>\n",
       "      <th>0</th>\n",
       "      <td>0</td>\n",
       "      <td>1 Oct</td>\n",
       "      <td>22.6</td>\n",
       "      <td>18.6</td>\n",
       "      <td>21.4</td>\n",
       "      <td>21.4</td>\n",
       "      <td>26.8</td>\n",
       "      <td>31.8</td>\n",
       "      <td>24.4</td>\n",
       "      <td>6.0</td>\n",
       "      <td>27.8</td>\n",
       "      <td>2022</td>\n",
       "      <td>Admiralty</td>\n",
       "    </tr>\n",
       "    <tr>\n",
       "      <th>1</th>\n",
       "      <td>1</td>\n",
       "      <td>2 Oct</td>\n",
       "      <td>16.4</td>\n",
       "      <td>13.2</td>\n",
       "      <td>14.2</td>\n",
       "      <td>16.0</td>\n",
       "      <td>27.1</td>\n",
       "      <td>32.6</td>\n",
       "      <td>23.0</td>\n",
       "      <td>5.8</td>\n",
       "      <td>24.4</td>\n",
       "      <td>2022</td>\n",
       "      <td>Admiralty</td>\n",
       "    </tr>\n",
       "    <tr>\n",
       "      <th>2</th>\n",
       "      <td>2</td>\n",
       "      <td>3 Oct</td>\n",
       "      <td>44.2</td>\n",
       "      <td>18.6</td>\n",
       "      <td>33.4</td>\n",
       "      <td>39.6</td>\n",
       "      <td>26.3</td>\n",
       "      <td>31.8</td>\n",
       "      <td>23.1</td>\n",
       "      <td>5.7</td>\n",
       "      <td>52.6</td>\n",
       "      <td>2022</td>\n",
       "      <td>Admiralty</td>\n",
       "    </tr>\n",
       "    <tr>\n",
       "      <th>3</th>\n",
       "      <td>3</td>\n",
       "      <td>4 Oct</td>\n",
       "      <td>1.4</td>\n",
       "      <td>1.0</td>\n",
       "      <td>1.2</td>\n",
       "      <td>1.2</td>\n",
       "      <td>26.2</td>\n",
       "      <td>31.2</td>\n",
       "      <td>24.5</td>\n",
       "      <td>6.3</td>\n",
       "      <td>36.3</td>\n",
       "      <td>2022</td>\n",
       "      <td>Admiralty</td>\n",
       "    </tr>\n",
       "    <tr>\n",
       "      <th>4</th>\n",
       "      <td>4</td>\n",
       "      <td>5 Oct</td>\n",
       "      <td>49.2</td>\n",
       "      <td>17.6</td>\n",
       "      <td>29.2</td>\n",
       "      <td>44.8</td>\n",
       "      <td>26.0</td>\n",
       "      <td>28.6</td>\n",
       "      <td>22.8</td>\n",
       "      <td>7.2</td>\n",
       "      <td>33.5</td>\n",
       "      <td>2022</td>\n",
       "      <td>Admiralty</td>\n",
       "    </tr>\n",
       "  </tbody>\n",
       "</table>\n",
       "</div>"
      ],
      "text/plain": [
       "   Unnamed: 0   Date Daily Rainfall Total (mm) Highest 30-min Rainfall (mm)  \\\n",
       "0           0  1 Oct                      22.6                         18.6   \n",
       "1           1  2 Oct                      16.4                         13.2   \n",
       "2           2  3 Oct                      44.2                         18.6   \n",
       "3           3  4 Oct                       1.4                          1.0   \n",
       "4           4  5 Oct                      49.2                         17.6   \n",
       "\n",
       "  Highest 60-min Rainfall (mm) Highest 120-min Rainfall (mm)  \\\n",
       "0                         21.4                          21.4   \n",
       "1                         14.2                          16.0   \n",
       "2                         33.4                          39.6   \n",
       "3                          1.2                           1.2   \n",
       "4                         29.2                          44.8   \n",
       "\n",
       "  Mean Temperature (°C) Maximum Temperature (°C) Minimum Temperature (°C)  \\\n",
       "0                  26.8                     31.8                     24.4   \n",
       "1                  27.1                     32.6                     23.0   \n",
       "2                  26.3                     31.8                     23.1   \n",
       "3                  26.2                     31.2                     24.5   \n",
       "4                  26.0                     28.6                     22.8   \n",
       "\n",
       "  Mean Wind Speed (km/h) Max Wind Speed (km/h)  year     region  \n",
       "0                    6.0                  27.8  2022  Admiralty  \n",
       "1                    5.8                  24.4  2022  Admiralty  \n",
       "2                    5.7                  52.6  2022  Admiralty  \n",
       "3                    6.3                  36.3  2022  Admiralty  \n",
       "4                    7.2                  33.5  2022  Admiralty  "
      ]
     },
     "execution_count": 2,
     "metadata": {},
     "output_type": "execute_result"
    }
   ],
   "source": [
    "weather1 = pd.read_csv('../data/df_weather1.csv')\n",
    "weather1.head()"
   ]
  },
  {
   "cell_type": "code",
   "execution_count": 3,
   "id": "5276bd8d",
   "metadata": {},
   "outputs": [
    {
     "data": {
      "text/plain": [
       "(66426, 13)"
      ]
     },
     "execution_count": 3,
     "metadata": {},
     "output_type": "execute_result"
    }
   ],
   "source": [
    "weather1.shape"
   ]
  },
  {
   "cell_type": "code",
   "execution_count": 4,
   "id": "94305890",
   "metadata": {
    "scrolled": true
   },
   "outputs": [
    {
     "data": {
      "text/html": [
       "<div>\n",
       "<style scoped>\n",
       "    .dataframe tbody tr th:only-of-type {\n",
       "        vertical-align: middle;\n",
       "    }\n",
       "\n",
       "    .dataframe tbody tr th {\n",
       "        vertical-align: top;\n",
       "    }\n",
       "\n",
       "    .dataframe thead th {\n",
       "        text-align: right;\n",
       "    }\n",
       "</style>\n",
       "<table border=\"1\" class=\"dataframe\">\n",
       "  <thead>\n",
       "    <tr style=\"text-align: right;\">\n",
       "      <th></th>\n",
       "      <th>Unnamed: 0</th>\n",
       "      <th>Date</th>\n",
       "      <th>Daily Rainfall Total (mm)</th>\n",
       "      <th>Highest 30-min Rainfall (mm)</th>\n",
       "      <th>Highest 60-min Rainfall (mm)</th>\n",
       "      <th>Highest 120-min Rainfall (mm)</th>\n",
       "      <th>Mean Temperature (°C)</th>\n",
       "      <th>Maximum Temperature (°C)</th>\n",
       "      <th>Minimum Temperature (°C)</th>\n",
       "      <th>Mean Wind Speed (km/h)</th>\n",
       "      <th>Max Wind Speed (km/h)</th>\n",
       "      <th>year</th>\n",
       "      <th>region</th>\n",
       "    </tr>\n",
       "  </thead>\n",
       "  <tbody>\n",
       "    <tr>\n",
       "      <th>0</th>\n",
       "      <td>0</td>\n",
       "      <td>1 Oct</td>\n",
       "      <td>17.0</td>\n",
       "      <td>8.0</td>\n",
       "      <td>10.4</td>\n",
       "      <td>13.2</td>\n",
       "      <td>-</td>\n",
       "      <td>-</td>\n",
       "      <td>-</td>\n",
       "      <td>-</td>\n",
       "      <td>-</td>\n",
       "      <td>2022</td>\n",
       "      <td>Marine Parade</td>\n",
       "    </tr>\n",
       "    <tr>\n",
       "      <th>1</th>\n",
       "      <td>1</td>\n",
       "      <td>2 Oct</td>\n",
       "      <td>32.2</td>\n",
       "      <td>10.6</td>\n",
       "      <td>12.6</td>\n",
       "      <td>17.4</td>\n",
       "      <td>-</td>\n",
       "      <td>-</td>\n",
       "      <td>-</td>\n",
       "      <td>-</td>\n",
       "      <td>-</td>\n",
       "      <td>2022</td>\n",
       "      <td>Marine Parade</td>\n",
       "    </tr>\n",
       "    <tr>\n",
       "      <th>2</th>\n",
       "      <td>2</td>\n",
       "      <td>3 Oct</td>\n",
       "      <td>10.4</td>\n",
       "      <td>4.8</td>\n",
       "      <td>5.8</td>\n",
       "      <td>7.4</td>\n",
       "      <td>-</td>\n",
       "      <td>-</td>\n",
       "      <td>-</td>\n",
       "      <td>-</td>\n",
       "      <td>-</td>\n",
       "      <td>2022</td>\n",
       "      <td>Marine Parade</td>\n",
       "    </tr>\n",
       "    <tr>\n",
       "      <th>3</th>\n",
       "      <td>3</td>\n",
       "      <td>4 Oct</td>\n",
       "      <td>9.8</td>\n",
       "      <td>5.2</td>\n",
       "      <td>8.8</td>\n",
       "      <td>9.8</td>\n",
       "      <td>-</td>\n",
       "      <td>-</td>\n",
       "      <td>-</td>\n",
       "      <td>-</td>\n",
       "      <td>-</td>\n",
       "      <td>2022</td>\n",
       "      <td>Marine Parade</td>\n",
       "    </tr>\n",
       "    <tr>\n",
       "      <th>4</th>\n",
       "      <td>4</td>\n",
       "      <td>5 Oct</td>\n",
       "      <td>49.4</td>\n",
       "      <td>36.2</td>\n",
       "      <td>42.8</td>\n",
       "      <td>46.6</td>\n",
       "      <td>-</td>\n",
       "      <td>-</td>\n",
       "      <td>-</td>\n",
       "      <td>-</td>\n",
       "      <td>-</td>\n",
       "      <td>2022</td>\n",
       "      <td>Marine Parade</td>\n",
       "    </tr>\n",
       "  </tbody>\n",
       "</table>\n",
       "</div>"
      ],
      "text/plain": [
       "   Unnamed: 0   Date Daily Rainfall Total (mm) Highest 30-min Rainfall (mm)  \\\n",
       "0           0  1 Oct                      17.0                          8.0   \n",
       "1           1  2 Oct                      32.2                         10.6   \n",
       "2           2  3 Oct                      10.4                          4.8   \n",
       "3           3  4 Oct                       9.8                          5.2   \n",
       "4           4  5 Oct                      49.4                         36.2   \n",
       "\n",
       "  Highest 60-min Rainfall (mm) Highest 120-min Rainfall (mm)  \\\n",
       "0                         10.4                          13.2   \n",
       "1                         12.6                          17.4   \n",
       "2                          5.8                           7.4   \n",
       "3                          8.8                           9.8   \n",
       "4                         42.8                          46.6   \n",
       "\n",
       "  Mean Temperature (°C) Maximum Temperature (°C) Minimum Temperature (°C)  \\\n",
       "0                     -                        -                        -   \n",
       "1                     -                        -                        -   \n",
       "2                     -                        -                        -   \n",
       "3                     -                        -                        -   \n",
       "4                     -                        -                        -   \n",
       "\n",
       "  Mean Wind Speed (km/h) Max Wind Speed (km/h)  year         region  \n",
       "0                      -                     -  2022  Marine Parade  \n",
       "1                      -                     -  2022  Marine Parade  \n",
       "2                      -                     -  2022  Marine Parade  \n",
       "3                      -                     -  2022  Marine Parade  \n",
       "4                      -                     -  2022  Marine Parade  "
      ]
     },
     "execution_count": 4,
     "metadata": {},
     "output_type": "execute_result"
    }
   ],
   "source": [
    "weather2 = pd.read_csv('../data/df_weather2.csv')\n",
    "weather2.head()"
   ]
  },
  {
   "cell_type": "code",
   "execution_count": 5,
   "id": "d08bffaf",
   "metadata": {},
   "outputs": [
    {
     "data": {
      "text/plain": [
       "(64744, 13)"
      ]
     },
     "execution_count": 5,
     "metadata": {},
     "output_type": "execute_result"
    }
   ],
   "source": [
    "weather2.shape"
   ]
  },
  {
   "cell_type": "code",
   "execution_count": 6,
   "id": "660e977b",
   "metadata": {
    "scrolled": false
   },
   "outputs": [
    {
     "data": {
      "text/html": [
       "<div>\n",
       "<style scoped>\n",
       "    .dataframe tbody tr th:only-of-type {\n",
       "        vertical-align: middle;\n",
       "    }\n",
       "\n",
       "    .dataframe tbody tr th {\n",
       "        vertical-align: top;\n",
       "    }\n",
       "\n",
       "    .dataframe thead th {\n",
       "        text-align: right;\n",
       "    }\n",
       "</style>\n",
       "<table border=\"1\" class=\"dataframe\">\n",
       "  <thead>\n",
       "    <tr style=\"text-align: right;\">\n",
       "      <th></th>\n",
       "      <th>Unnamed: 0</th>\n",
       "      <th>Date</th>\n",
       "      <th>Daily Rainfall Total (mm)</th>\n",
       "      <th>Highest 30-min Rainfall (mm)</th>\n",
       "      <th>Highest 60-min Rainfall (mm)</th>\n",
       "      <th>Highest 120-min Rainfall (mm)</th>\n",
       "      <th>Mean Temperature (°C)</th>\n",
       "      <th>Maximum Temperature (°C)</th>\n",
       "      <th>Minimum Temperature (°C)</th>\n",
       "      <th>Mean Wind Speed (km/h)</th>\n",
       "      <th>Max Wind Speed (km/h)</th>\n",
       "      <th>year</th>\n",
       "      <th>region</th>\n",
       "    </tr>\n",
       "  </thead>\n",
       "  <tbody>\n",
       "    <tr>\n",
       "      <th>0</th>\n",
       "      <td>0</td>\n",
       "      <td>1 Oct</td>\n",
       "      <td>22.6</td>\n",
       "      <td>18.6</td>\n",
       "      <td>21.4</td>\n",
       "      <td>21.4</td>\n",
       "      <td>26.8</td>\n",
       "      <td>31.8</td>\n",
       "      <td>24.4</td>\n",
       "      <td>6.0</td>\n",
       "      <td>27.8</td>\n",
       "      <td>2022</td>\n",
       "      <td>Admiralty</td>\n",
       "    </tr>\n",
       "    <tr>\n",
       "      <th>1</th>\n",
       "      <td>1</td>\n",
       "      <td>2 Oct</td>\n",
       "      <td>16.4</td>\n",
       "      <td>13.2</td>\n",
       "      <td>14.2</td>\n",
       "      <td>16.0</td>\n",
       "      <td>27.1</td>\n",
       "      <td>32.6</td>\n",
       "      <td>23.0</td>\n",
       "      <td>5.8</td>\n",
       "      <td>24.4</td>\n",
       "      <td>2022</td>\n",
       "      <td>Admiralty</td>\n",
       "    </tr>\n",
       "    <tr>\n",
       "      <th>2</th>\n",
       "      <td>2</td>\n",
       "      <td>3 Oct</td>\n",
       "      <td>44.2</td>\n",
       "      <td>18.6</td>\n",
       "      <td>33.4</td>\n",
       "      <td>39.6</td>\n",
       "      <td>26.3</td>\n",
       "      <td>31.8</td>\n",
       "      <td>23.1</td>\n",
       "      <td>5.7</td>\n",
       "      <td>52.6</td>\n",
       "      <td>2022</td>\n",
       "      <td>Admiralty</td>\n",
       "    </tr>\n",
       "    <tr>\n",
       "      <th>3</th>\n",
       "      <td>3</td>\n",
       "      <td>4 Oct</td>\n",
       "      <td>1.4</td>\n",
       "      <td>1.0</td>\n",
       "      <td>1.2</td>\n",
       "      <td>1.2</td>\n",
       "      <td>26.2</td>\n",
       "      <td>31.2</td>\n",
       "      <td>24.5</td>\n",
       "      <td>6.3</td>\n",
       "      <td>36.3</td>\n",
       "      <td>2022</td>\n",
       "      <td>Admiralty</td>\n",
       "    </tr>\n",
       "    <tr>\n",
       "      <th>4</th>\n",
       "      <td>4</td>\n",
       "      <td>5 Oct</td>\n",
       "      <td>49.2</td>\n",
       "      <td>17.6</td>\n",
       "      <td>29.2</td>\n",
       "      <td>44.8</td>\n",
       "      <td>26.0</td>\n",
       "      <td>28.6</td>\n",
       "      <td>22.8</td>\n",
       "      <td>7.2</td>\n",
       "      <td>33.5</td>\n",
       "      <td>2022</td>\n",
       "      <td>Admiralty</td>\n",
       "    </tr>\n",
       "  </tbody>\n",
       "</table>\n",
       "</div>"
      ],
      "text/plain": [
       "   Unnamed: 0   Date Daily Rainfall Total (mm) Highest 30-min Rainfall (mm)  \\\n",
       "0           0  1 Oct                      22.6                         18.6   \n",
       "1           1  2 Oct                      16.4                         13.2   \n",
       "2           2  3 Oct                      44.2                         18.6   \n",
       "3           3  4 Oct                       1.4                          1.0   \n",
       "4           4  5 Oct                      49.2                         17.6   \n",
       "\n",
       "  Highest 60-min Rainfall (mm) Highest 120-min Rainfall (mm)  \\\n",
       "0                         21.4                          21.4   \n",
       "1                         14.2                          16.0   \n",
       "2                         33.4                          39.6   \n",
       "3                          1.2                           1.2   \n",
       "4                         29.2                          44.8   \n",
       "\n",
       "  Mean Temperature (°C) Maximum Temperature (°C) Minimum Temperature (°C)  \\\n",
       "0                  26.8                     31.8                     24.4   \n",
       "1                  27.1                     32.6                     23.0   \n",
       "2                  26.3                     31.8                     23.1   \n",
       "3                  26.2                     31.2                     24.5   \n",
       "4                  26.0                     28.6                     22.8   \n",
       "\n",
       "  Mean Wind Speed (km/h) Max Wind Speed (km/h)  year     region  \n",
       "0                    6.0                  27.8  2022  Admiralty  \n",
       "1                    5.8                  24.4  2022  Admiralty  \n",
       "2                    5.7                  52.6  2022  Admiralty  \n",
       "3                    6.3                  36.3  2022  Admiralty  \n",
       "4                    7.2                  33.5  2022  Admiralty  "
      ]
     },
     "execution_count": 6,
     "metadata": {},
     "output_type": "execute_result"
    }
   ],
   "source": [
    "# concat weather1 and weather2\n",
    "weather = pd.concat([weather1,weather2])\n",
    "weather.head()"
   ]
  },
  {
   "cell_type": "code",
   "execution_count": 7,
   "id": "5bee3e48",
   "metadata": {
    "scrolled": true
   },
   "outputs": [
    {
     "data": {
      "text/plain": [
       "(131170, 13)"
      ]
     },
     "execution_count": 7,
     "metadata": {},
     "output_type": "execute_result"
    }
   ],
   "source": [
    "weather.shape"
   ]
  },
  {
   "cell_type": "code",
   "execution_count": 8,
   "id": "6f747b75",
   "metadata": {
    "scrolled": false
   },
   "outputs": [
    {
     "data": {
      "text/html": [
       "<div>\n",
       "<style scoped>\n",
       "    .dataframe tbody tr th:only-of-type {\n",
       "        vertical-align: middle;\n",
       "    }\n",
       "\n",
       "    .dataframe tbody tr th {\n",
       "        vertical-align: top;\n",
       "    }\n",
       "\n",
       "    .dataframe thead th {\n",
       "        text-align: right;\n",
       "    }\n",
       "</style>\n",
       "<table border=\"1\" class=\"dataframe\">\n",
       "  <thead>\n",
       "    <tr style=\"text-align: right;\">\n",
       "      <th></th>\n",
       "      <th>Date</th>\n",
       "      <th>Daily Rainfall Total (mm)</th>\n",
       "      <th>Highest 30-min Rainfall (mm)</th>\n",
       "      <th>Highest 60-min Rainfall (mm)</th>\n",
       "      <th>Highest 120-min Rainfall (mm)</th>\n",
       "      <th>Mean Temperature (°C)</th>\n",
       "      <th>Maximum Temperature (°C)</th>\n",
       "      <th>Minimum Temperature (°C)</th>\n",
       "      <th>Mean Wind Speed (km/h)</th>\n",
       "      <th>Max Wind Speed (km/h)</th>\n",
       "      <th>year</th>\n",
       "      <th>region</th>\n",
       "    </tr>\n",
       "  </thead>\n",
       "  <tbody>\n",
       "    <tr>\n",
       "      <th>0</th>\n",
       "      <td>1 Oct</td>\n",
       "      <td>22.6</td>\n",
       "      <td>18.6</td>\n",
       "      <td>21.4</td>\n",
       "      <td>21.4</td>\n",
       "      <td>26.8</td>\n",
       "      <td>31.8</td>\n",
       "      <td>24.4</td>\n",
       "      <td>6.0</td>\n",
       "      <td>27.8</td>\n",
       "      <td>2022</td>\n",
       "      <td>Admiralty</td>\n",
       "    </tr>\n",
       "    <tr>\n",
       "      <th>1</th>\n",
       "      <td>2 Oct</td>\n",
       "      <td>16.4</td>\n",
       "      <td>13.2</td>\n",
       "      <td>14.2</td>\n",
       "      <td>16.0</td>\n",
       "      <td>27.1</td>\n",
       "      <td>32.6</td>\n",
       "      <td>23.0</td>\n",
       "      <td>5.8</td>\n",
       "      <td>24.4</td>\n",
       "      <td>2022</td>\n",
       "      <td>Admiralty</td>\n",
       "    </tr>\n",
       "    <tr>\n",
       "      <th>2</th>\n",
       "      <td>3 Oct</td>\n",
       "      <td>44.2</td>\n",
       "      <td>18.6</td>\n",
       "      <td>33.4</td>\n",
       "      <td>39.6</td>\n",
       "      <td>26.3</td>\n",
       "      <td>31.8</td>\n",
       "      <td>23.1</td>\n",
       "      <td>5.7</td>\n",
       "      <td>52.6</td>\n",
       "      <td>2022</td>\n",
       "      <td>Admiralty</td>\n",
       "    </tr>\n",
       "    <tr>\n",
       "      <th>3</th>\n",
       "      <td>4 Oct</td>\n",
       "      <td>1.4</td>\n",
       "      <td>1.0</td>\n",
       "      <td>1.2</td>\n",
       "      <td>1.2</td>\n",
       "      <td>26.2</td>\n",
       "      <td>31.2</td>\n",
       "      <td>24.5</td>\n",
       "      <td>6.3</td>\n",
       "      <td>36.3</td>\n",
       "      <td>2022</td>\n",
       "      <td>Admiralty</td>\n",
       "    </tr>\n",
       "    <tr>\n",
       "      <th>4</th>\n",
       "      <td>5 Oct</td>\n",
       "      <td>49.2</td>\n",
       "      <td>17.6</td>\n",
       "      <td>29.2</td>\n",
       "      <td>44.8</td>\n",
       "      <td>26.0</td>\n",
       "      <td>28.6</td>\n",
       "      <td>22.8</td>\n",
       "      <td>7.2</td>\n",
       "      <td>33.5</td>\n",
       "      <td>2022</td>\n",
       "      <td>Admiralty</td>\n",
       "    </tr>\n",
       "  </tbody>\n",
       "</table>\n",
       "</div>"
      ],
      "text/plain": [
       "    Date Daily Rainfall Total (mm) Highest 30-min Rainfall (mm)  \\\n",
       "0  1 Oct                      22.6                         18.6   \n",
       "1  2 Oct                      16.4                         13.2   \n",
       "2  3 Oct                      44.2                         18.6   \n",
       "3  4 Oct                       1.4                          1.0   \n",
       "4  5 Oct                      49.2                         17.6   \n",
       "\n",
       "  Highest 60-min Rainfall (mm) Highest 120-min Rainfall (mm)  \\\n",
       "0                         21.4                          21.4   \n",
       "1                         14.2                          16.0   \n",
       "2                         33.4                          39.6   \n",
       "3                          1.2                           1.2   \n",
       "4                         29.2                          44.8   \n",
       "\n",
       "  Mean Temperature (°C) Maximum Temperature (°C) Minimum Temperature (°C)  \\\n",
       "0                  26.8                     31.8                     24.4   \n",
       "1                  27.1                     32.6                     23.0   \n",
       "2                  26.3                     31.8                     23.1   \n",
       "3                  26.2                     31.2                     24.5   \n",
       "4                  26.0                     28.6                     22.8   \n",
       "\n",
       "  Mean Wind Speed (km/h) Max Wind Speed (km/h)  year     region  \n",
       "0                    6.0                  27.8  2022  Admiralty  \n",
       "1                    5.8                  24.4  2022  Admiralty  \n",
       "2                    5.7                  52.6  2022  Admiralty  \n",
       "3                    6.3                  36.3  2022  Admiralty  \n",
       "4                    7.2                  33.5  2022  Admiralty  "
      ]
     },
     "execution_count": 8,
     "metadata": {},
     "output_type": "execute_result"
    }
   ],
   "source": [
    "# remove unnamed column\n",
    "weather.drop(columns=['Unnamed: 0'], inplace=True)\n",
    "weather.head()"
   ]
  },
  {
   "cell_type": "code",
   "execution_count": 9,
   "id": "f3dfc613",
   "metadata": {
    "scrolled": true
   },
   "outputs": [
    {
     "name": "stdout",
     "output_type": "stream",
     "text": [
      "<class 'pandas.core.frame.DataFrame'>\n",
      "Int64Index: 131170 entries, 0 to 64743\n",
      "Data columns (total 12 columns):\n",
      " #   Column                         Non-Null Count   Dtype \n",
      "---  ------                         --------------   ----- \n",
      " 0   Date                           131170 non-null  object\n",
      " 1   Daily Rainfall Total (mm)      131170 non-null  object\n",
      " 2   Highest 30-min Rainfall (mm)   131170 non-null  object\n",
      " 3   Highest 60-min Rainfall (mm)   131170 non-null  object\n",
      " 4   Highest 120-min Rainfall (mm)  131170 non-null  object\n",
      " 5   Mean Temperature (°C)          131170 non-null  object\n",
      " 6   Maximum Temperature (°C)       130935 non-null  object\n",
      " 7   Minimum Temperature (°C)       130935 non-null  object\n",
      " 8   Mean Wind Speed (km/h)         131170 non-null  object\n",
      " 9   Max Wind Speed (km/h)          130930 non-null  object\n",
      " 10  year                           131170 non-null  int64 \n",
      " 11  region                         131170 non-null  object\n",
      "dtypes: int64(1), object(11)\n",
      "memory usage: 13.0+ MB\n"
     ]
    }
   ],
   "source": [
    "weather.info()"
   ]
  },
  {
   "cell_type": "code",
   "execution_count": 10,
   "id": "be1317d4",
   "metadata": {
    "scrolled": false
   },
   "outputs": [
    {
     "data": {
      "text/plain": [
       "Date                               0\n",
       "Daily Rainfall Total (mm)          0\n",
       "Highest 30-min Rainfall (mm)       0\n",
       "Highest 60-min Rainfall (mm)       0\n",
       "Highest 120-min Rainfall (mm)      0\n",
       "Mean Temperature (°C)              0\n",
       "Maximum Temperature (°C)         235\n",
       "Minimum Temperature (°C)         235\n",
       "Mean Wind Speed (km/h)             0\n",
       "Max Wind Speed (km/h)            240\n",
       "year                               0\n",
       "region                             0\n",
       "dtype: int64"
      ]
     },
     "execution_count": 10,
     "metadata": {},
     "output_type": "execute_result"
    }
   ],
   "source": [
    "# check for null\n",
    "weather.isnull().sum()"
   ]
  },
  {
   "cell_type": "code",
   "execution_count": 11,
   "id": "b6c46cb6",
   "metadata": {},
   "outputs": [],
   "source": [
    "# drop null as it is less than 5% of whole dataset\n",
    "weather.dropna(inplace=True)"
   ]
  },
  {
   "cell_type": "code",
   "execution_count": 12,
   "id": "384ee399",
   "metadata": {
    "scrolled": true
   },
   "outputs": [
    {
     "data": {
      "text/plain": [
       "Date                             0\n",
       "Daily Rainfall Total (mm)        0\n",
       "Highest 30-min Rainfall (mm)     0\n",
       "Highest 60-min Rainfall (mm)     0\n",
       "Highest 120-min Rainfall (mm)    0\n",
       "Mean Temperature (°C)            0\n",
       "Maximum Temperature (°C)         0\n",
       "Minimum Temperature (°C)         0\n",
       "Mean Wind Speed (km/h)           0\n",
       "Max Wind Speed (km/h)            0\n",
       "year                             0\n",
       "region                           0\n",
       "dtype: int64"
      ]
     },
     "execution_count": 12,
     "metadata": {},
     "output_type": "execute_result"
    }
   ],
   "source": [
    "weather.isnull().sum()"
   ]
  },
  {
   "cell_type": "code",
   "execution_count": 13,
   "id": "9e3fc561",
   "metadata": {
    "scrolled": false
   },
   "outputs": [
    {
     "data": {
      "text/plain": [
       "Date                                 0.0\n",
       "Daily Rainfall Total (mm)         2801.0\n",
       "Highest 30-min Rainfall (mm)      3416.0\n",
       "Highest 60-min Rainfall (mm)      3513.0\n",
       "Highest 120-min Rainfall (mm)     3510.0\n",
       "Mean Temperature (°C)            32456.0\n",
       "Maximum Temperature (°C)         31345.0\n",
       "Minimum Temperature (°C)         31373.0\n",
       "Mean Wind Speed (km/h)           32750.0\n",
       "Max Wind Speed (km/h)            31865.0\n",
       "year                                 0.0\n",
       "region                               0.0\n",
       "dtype: float64"
      ]
     },
     "execution_count": 13,
     "metadata": {},
     "output_type": "execute_result"
    }
   ],
   "source": [
    "weather.apply(lambda col: col.str.contains('-'), axis=1).sum()"
   ]
  },
  {
   "cell_type": "code",
   "execution_count": 14,
   "id": "25646b88",
   "metadata": {},
   "outputs": [],
   "source": [
    "# Replace '-' with 0\n",
    "def float_checker(row):\n",
    "    try:\n",
    "        res = float(row)\n",
    "    except:\n",
    "        res = 0\n",
    "    return res"
   ]
  },
  {
   "cell_type": "code",
   "execution_count": 15,
   "id": "8f11b019",
   "metadata": {},
   "outputs": [],
   "source": [
    "c = ['Daily Rainfall Total (mm)',\\\n",
    "             'Highest 30-min Rainfall (mm)',\\\n",
    "             'Highest 60-min Rainfall (mm)',\\\n",
    "             'Highest 120-min Rainfall (mm)',\\\n",
    "             'Mean Temperature (°C)',\\\n",
    "             'Maximum Temperature (°C)',\\\n",
    "             'Minimum Temperature (°C)',\\\n",
    "             'Mean Wind Speed (km/h)',\\\n",
    "             'Max Wind Speed (km/h)']"
   ]
  },
  {
   "cell_type": "code",
   "execution_count": 16,
   "id": "7789e078",
   "metadata": {},
   "outputs": [],
   "source": [
    "for col in c:\n",
    "    weather[col] = weather[col].map(float_checker)"
   ]
  },
  {
   "cell_type": "code",
   "execution_count": 17,
   "id": "7c4f898f",
   "metadata": {
    "scrolled": true
   },
   "outputs": [
    {
     "name": "stdout",
     "output_type": "stream",
     "text": [
      "<class 'pandas.core.frame.DataFrame'>\n",
      "Int64Index: 130926 entries, 0 to 64743\n",
      "Data columns (total 12 columns):\n",
      " #   Column                         Non-Null Count   Dtype  \n",
      "---  ------                         --------------   -----  \n",
      " 0   Date                           130926 non-null  object \n",
      " 1   Daily Rainfall Total (mm)      130926 non-null  float64\n",
      " 2   Highest 30-min Rainfall (mm)   130926 non-null  float64\n",
      " 3   Highest 60-min Rainfall (mm)   130926 non-null  float64\n",
      " 4   Highest 120-min Rainfall (mm)  130926 non-null  float64\n",
      " 5   Mean Temperature (°C)          130926 non-null  float64\n",
      " 6   Maximum Temperature (°C)       130926 non-null  float64\n",
      " 7   Minimum Temperature (°C)       130926 non-null  float64\n",
      " 8   Mean Wind Speed (km/h)         130926 non-null  float64\n",
      " 9   Max Wind Speed (km/h)          130926 non-null  float64\n",
      " 10  year                           130926 non-null  int64  \n",
      " 11  region                         130926 non-null  object \n",
      "dtypes: float64(9), int64(1), object(2)\n",
      "memory usage: 13.0+ MB\n"
     ]
    }
   ],
   "source": [
    "weather.info()"
   ]
  },
  {
   "cell_type": "code",
   "execution_count": 18,
   "id": "0b9dcd6a",
   "metadata": {},
   "outputs": [],
   "source": [
    "weather['Date'] = weather['Date']+' '+weather['year'].astype(str)"
   ]
  },
  {
   "cell_type": "code",
   "execution_count": 19,
   "id": "82cacce3",
   "metadata": {},
   "outputs": [],
   "source": [
    "weather[\"Date\"]= pd.to_datetime(weather[\"Date\"])"
   ]
  },
  {
   "cell_type": "code",
   "execution_count": 20,
   "id": "c7420e73",
   "metadata": {},
   "outputs": [],
   "source": [
    "# change column name by replacing ' (mm)' with ''\n",
    "weather.columns = weather.columns.str.replace(' (mm)', '', regex=False)"
   ]
  },
  {
   "cell_type": "code",
   "execution_count": 21,
   "id": "3ade61bf",
   "metadata": {
    "scrolled": true
   },
   "outputs": [],
   "source": [
    "# change column name by replacing ' (°C)' with ''\n",
    "weather.columns = weather.columns.str.replace(' (°C)', '', regex=False)"
   ]
  },
  {
   "cell_type": "code",
   "execution_count": 22,
   "id": "934f5e5b",
   "metadata": {},
   "outputs": [],
   "source": [
    "# change column name by replacing ' (km/h)' with ''\n",
    "weather.columns = weather.columns.str.replace(' (km/h)', '', regex=False)"
   ]
  },
  {
   "cell_type": "code",
   "execution_count": 23,
   "id": "45350d82",
   "metadata": {},
   "outputs": [],
   "source": [
    "# change column name by replacing '-' with '_'\n",
    "weather.columns = weather.columns.str.replace('-', '_', regex=False)"
   ]
  },
  {
   "cell_type": "code",
   "execution_count": 24,
   "id": "74af75e4",
   "metadata": {},
   "outputs": [],
   "source": [
    "# change column name to lowercase and replace ' ' with '_'\n",
    "weather.columns = weather.columns.str.replace(' ', '_', regex=False).str.lower()"
   ]
  },
  {
   "cell_type": "code",
   "execution_count": 25,
   "id": "3358ced2",
   "metadata": {
    "scrolled": true
   },
   "outputs": [
    {
     "data": {
      "text/html": [
       "<div>\n",
       "<style scoped>\n",
       "    .dataframe tbody tr th:only-of-type {\n",
       "        vertical-align: middle;\n",
       "    }\n",
       "\n",
       "    .dataframe tbody tr th {\n",
       "        vertical-align: top;\n",
       "    }\n",
       "\n",
       "    .dataframe thead th {\n",
       "        text-align: right;\n",
       "    }\n",
       "</style>\n",
       "<table border=\"1\" class=\"dataframe\">\n",
       "  <thead>\n",
       "    <tr style=\"text-align: right;\">\n",
       "      <th></th>\n",
       "      <th>date</th>\n",
       "      <th>daily_rainfall_total</th>\n",
       "      <th>highest_30_min_rainfall</th>\n",
       "      <th>highest_60_min_rainfall</th>\n",
       "      <th>highest_120_min_rainfall</th>\n",
       "      <th>mean_temperature</th>\n",
       "      <th>maximum_temperature</th>\n",
       "      <th>minimum_temperature</th>\n",
       "      <th>mean_wind_speed</th>\n",
       "      <th>max_wind_speed</th>\n",
       "      <th>year</th>\n",
       "      <th>region</th>\n",
       "    </tr>\n",
       "  </thead>\n",
       "  <tbody>\n",
       "    <tr>\n",
       "      <th>0</th>\n",
       "      <td>2022-10-01</td>\n",
       "      <td>22.6</td>\n",
       "      <td>18.6</td>\n",
       "      <td>21.4</td>\n",
       "      <td>21.4</td>\n",
       "      <td>26.8</td>\n",
       "      <td>31.8</td>\n",
       "      <td>24.4</td>\n",
       "      <td>6.0</td>\n",
       "      <td>27.8</td>\n",
       "      <td>2022</td>\n",
       "      <td>Admiralty</td>\n",
       "    </tr>\n",
       "    <tr>\n",
       "      <th>1</th>\n",
       "      <td>2022-10-02</td>\n",
       "      <td>16.4</td>\n",
       "      <td>13.2</td>\n",
       "      <td>14.2</td>\n",
       "      <td>16.0</td>\n",
       "      <td>27.1</td>\n",
       "      <td>32.6</td>\n",
       "      <td>23.0</td>\n",
       "      <td>5.8</td>\n",
       "      <td>24.4</td>\n",
       "      <td>2022</td>\n",
       "      <td>Admiralty</td>\n",
       "    </tr>\n",
       "    <tr>\n",
       "      <th>2</th>\n",
       "      <td>2022-10-03</td>\n",
       "      <td>44.2</td>\n",
       "      <td>18.6</td>\n",
       "      <td>33.4</td>\n",
       "      <td>39.6</td>\n",
       "      <td>26.3</td>\n",
       "      <td>31.8</td>\n",
       "      <td>23.1</td>\n",
       "      <td>5.7</td>\n",
       "      <td>52.6</td>\n",
       "      <td>2022</td>\n",
       "      <td>Admiralty</td>\n",
       "    </tr>\n",
       "    <tr>\n",
       "      <th>3</th>\n",
       "      <td>2022-10-04</td>\n",
       "      <td>1.4</td>\n",
       "      <td>1.0</td>\n",
       "      <td>1.2</td>\n",
       "      <td>1.2</td>\n",
       "      <td>26.2</td>\n",
       "      <td>31.2</td>\n",
       "      <td>24.5</td>\n",
       "      <td>6.3</td>\n",
       "      <td>36.3</td>\n",
       "      <td>2022</td>\n",
       "      <td>Admiralty</td>\n",
       "    </tr>\n",
       "    <tr>\n",
       "      <th>4</th>\n",
       "      <td>2022-10-05</td>\n",
       "      <td>49.2</td>\n",
       "      <td>17.6</td>\n",
       "      <td>29.2</td>\n",
       "      <td>44.8</td>\n",
       "      <td>26.0</td>\n",
       "      <td>28.6</td>\n",
       "      <td>22.8</td>\n",
       "      <td>7.2</td>\n",
       "      <td>33.5</td>\n",
       "      <td>2022</td>\n",
       "      <td>Admiralty</td>\n",
       "    </tr>\n",
       "  </tbody>\n",
       "</table>\n",
       "</div>"
      ],
      "text/plain": [
       "        date  daily_rainfall_total  highest_30_min_rainfall  \\\n",
       "0 2022-10-01                  22.6                     18.6   \n",
       "1 2022-10-02                  16.4                     13.2   \n",
       "2 2022-10-03                  44.2                     18.6   \n",
       "3 2022-10-04                   1.4                      1.0   \n",
       "4 2022-10-05                  49.2                     17.6   \n",
       "\n",
       "   highest_60_min_rainfall  highest_120_min_rainfall  mean_temperature  \\\n",
       "0                     21.4                      21.4              26.8   \n",
       "1                     14.2                      16.0              27.1   \n",
       "2                     33.4                      39.6              26.3   \n",
       "3                      1.2                       1.2              26.2   \n",
       "4                     29.2                      44.8              26.0   \n",
       "\n",
       "   maximum_temperature  minimum_temperature  mean_wind_speed  max_wind_speed  \\\n",
       "0                 31.8                 24.4              6.0            27.8   \n",
       "1                 32.6                 23.0              5.8            24.4   \n",
       "2                 31.8                 23.1              5.7            52.6   \n",
       "3                 31.2                 24.5              6.3            36.3   \n",
       "4                 28.6                 22.8              7.2            33.5   \n",
       "\n",
       "   year     region  \n",
       "0  2022  Admiralty  \n",
       "1  2022  Admiralty  \n",
       "2  2022  Admiralty  \n",
       "3  2022  Admiralty  \n",
       "4  2022  Admiralty  "
      ]
     },
     "execution_count": 25,
     "metadata": {},
     "output_type": "execute_result"
    }
   ],
   "source": [
    "weather.head()"
   ]
  },
  {
   "cell_type": "code",
   "execution_count": 26,
   "id": "17b789a8",
   "metadata": {
    "scrolled": true
   },
   "outputs": [
    {
     "name": "stdout",
     "output_type": "stream",
     "text": [
      "<class 'pandas.core.frame.DataFrame'>\n",
      "Int64Index: 130926 entries, 0 to 64743\n",
      "Data columns (total 12 columns):\n",
      " #   Column                    Non-Null Count   Dtype         \n",
      "---  ------                    --------------   -----         \n",
      " 0   date                      130926 non-null  datetime64[ns]\n",
      " 1   daily_rainfall_total      130926 non-null  float64       \n",
      " 2   highest_30_min_rainfall   130926 non-null  float64       \n",
      " 3   highest_60_min_rainfall   130926 non-null  float64       \n",
      " 4   highest_120_min_rainfall  130926 non-null  float64       \n",
      " 5   mean_temperature          130926 non-null  float64       \n",
      " 6   maximum_temperature       130926 non-null  float64       \n",
      " 7   minimum_temperature       130926 non-null  float64       \n",
      " 8   mean_wind_speed           130926 non-null  float64       \n",
      " 9   max_wind_speed            130926 non-null  float64       \n",
      " 10  year                      130926 non-null  int64         \n",
      " 11  region                    130926 non-null  object        \n",
      "dtypes: datetime64[ns](1), float64(9), int64(1), object(1)\n",
      "memory usage: 13.0+ MB\n"
     ]
    }
   ],
   "source": [
    "weather.info()"
   ]
  },
  {
   "cell_type": "code",
   "execution_count": 27,
   "id": "ad48043b",
   "metadata": {},
   "outputs": [],
   "source": [
    "# save data\n",
    "weather.to_csv('../data/weather.csv', index=False)"
   ]
  }
 ],
 "metadata": {
  "kernelspec": {
   "display_name": "Python 3 (ipykernel)",
   "language": "python",
   "name": "python3"
  },
  "language_info": {
   "codemirror_mode": {
    "name": "ipython",
    "version": 3
   },
   "file_extension": ".py",
   "mimetype": "text/x-python",
   "name": "python",
   "nbconvert_exporter": "python",
   "pygments_lexer": "ipython3",
   "version": "3.9.12"
  }
 },
 "nbformat": 4,
 "nbformat_minor": 5
}
